{
 "cells": [
  {
   "cell_type": "code",
   "execution_count": 141,
   "metadata": {
    "collapsed": true
   },
   "outputs": [],
   "source": [
    "%matplotlib notebook"
   ]
  },
  {
   "cell_type": "code",
   "execution_count": 142,
   "metadata": {
    "collapsed": true
   },
   "outputs": [],
   "source": [
    "%matplotlib notebook"
   ]
  },
  {
   "cell_type": "code",
   "execution_count": 3,
   "metadata": {
    "collapsed": true
   },
   "outputs": [],
   "source": [
    "import pandas as pd\n",
    "import numpy as np\n",
    "import matplotlib.pyplot as plt"
   ]
  },
  {
   "cell_type": "code",
   "execution_count": 4,
   "metadata": {
    "collapsed": true
   },
   "outputs": [],
   "source": [
    "file_path = \"melb_data.csv\"\n",
    "melb_data = pd.read_csv(file_path)"
   ]
  },
  {
   "cell_type": "code",
   "execution_count": 5,
   "metadata": {},
   "outputs": [
    {
     "data": {
      "text/html": [
       "<div>\n",
       "<style>\n",
       "    .dataframe thead tr:only-child th {\n",
       "        text-align: right;\n",
       "    }\n",
       "\n",
       "    .dataframe thead th {\n",
       "        text-align: left;\n",
       "    }\n",
       "\n",
       "    .dataframe tbody tr th {\n",
       "        vertical-align: top;\n",
       "    }\n",
       "</style>\n",
       "<table border=\"1\" class=\"dataframe\">\n",
       "  <thead>\n",
       "    <tr style=\"text-align: right;\">\n",
       "      <th></th>\n",
       "      <th>Unnamed: 0</th>\n",
       "      <th>Rooms</th>\n",
       "      <th>Price</th>\n",
       "      <th>Distance</th>\n",
       "      <th>Postcode</th>\n",
       "      <th>Bedroom2</th>\n",
       "      <th>Bathroom</th>\n",
       "      <th>Car</th>\n",
       "      <th>Landsize</th>\n",
       "      <th>BuildingArea</th>\n",
       "      <th>YearBuilt</th>\n",
       "      <th>Lattitude</th>\n",
       "      <th>Longtitude</th>\n",
       "      <th>Propertycount</th>\n",
       "    </tr>\n",
       "  </thead>\n",
       "  <tbody>\n",
       "    <tr>\n",
       "      <th>count</th>\n",
       "      <td>18396.000000</td>\n",
       "      <td>18396.000000</td>\n",
       "      <td>1.839600e+04</td>\n",
       "      <td>18395.000000</td>\n",
       "      <td>18395.000000</td>\n",
       "      <td>14927.000000</td>\n",
       "      <td>14925.000000</td>\n",
       "      <td>14820.000000</td>\n",
       "      <td>13603.000000</td>\n",
       "      <td>7762.000000</td>\n",
       "      <td>8958.000000</td>\n",
       "      <td>15064.000000</td>\n",
       "      <td>15064.000000</td>\n",
       "      <td>18395.000000</td>\n",
       "    </tr>\n",
       "    <tr>\n",
       "      <th>mean</th>\n",
       "      <td>11826.787073</td>\n",
       "      <td>2.935040</td>\n",
       "      <td>1.056697e+06</td>\n",
       "      <td>10.389986</td>\n",
       "      <td>3107.140147</td>\n",
       "      <td>2.913043</td>\n",
       "      <td>1.538492</td>\n",
       "      <td>1.615520</td>\n",
       "      <td>558.116371</td>\n",
       "      <td>151.220219</td>\n",
       "      <td>1965.879996</td>\n",
       "      <td>-37.809849</td>\n",
       "      <td>144.996338</td>\n",
       "      <td>7517.975265</td>\n",
       "    </tr>\n",
       "    <tr>\n",
       "      <th>std</th>\n",
       "      <td>6800.710448</td>\n",
       "      <td>0.958202</td>\n",
       "      <td>6.419217e+05</td>\n",
       "      <td>6.009050</td>\n",
       "      <td>95.000995</td>\n",
       "      <td>0.964641</td>\n",
       "      <td>0.689311</td>\n",
       "      <td>0.955916</td>\n",
       "      <td>3987.326586</td>\n",
       "      <td>519.188596</td>\n",
       "      <td>37.013261</td>\n",
       "      <td>0.081152</td>\n",
       "      <td>0.106375</td>\n",
       "      <td>4488.416599</td>\n",
       "    </tr>\n",
       "    <tr>\n",
       "      <th>min</th>\n",
       "      <td>1.000000</td>\n",
       "      <td>1.000000</td>\n",
       "      <td>8.500000e+04</td>\n",
       "      <td>0.000000</td>\n",
       "      <td>3000.000000</td>\n",
       "      <td>0.000000</td>\n",
       "      <td>0.000000</td>\n",
       "      <td>0.000000</td>\n",
       "      <td>0.000000</td>\n",
       "      <td>0.000000</td>\n",
       "      <td>1196.000000</td>\n",
       "      <td>-38.182550</td>\n",
       "      <td>144.431810</td>\n",
       "      <td>249.000000</td>\n",
       "    </tr>\n",
       "    <tr>\n",
       "      <th>25%</th>\n",
       "      <td>5936.750000</td>\n",
       "      <td>2.000000</td>\n",
       "      <td>6.330000e+05</td>\n",
       "      <td>6.300000</td>\n",
       "      <td>3046.000000</td>\n",
       "      <td>2.000000</td>\n",
       "      <td>1.000000</td>\n",
       "      <td>1.000000</td>\n",
       "      <td>176.500000</td>\n",
       "      <td>93.000000</td>\n",
       "      <td>1950.000000</td>\n",
       "      <td>-37.858100</td>\n",
       "      <td>144.931193</td>\n",
       "      <td>4294.000000</td>\n",
       "    </tr>\n",
       "    <tr>\n",
       "      <th>50%</th>\n",
       "      <td>11820.500000</td>\n",
       "      <td>3.000000</td>\n",
       "      <td>8.800000e+05</td>\n",
       "      <td>9.700000</td>\n",
       "      <td>3085.000000</td>\n",
       "      <td>3.000000</td>\n",
       "      <td>1.000000</td>\n",
       "      <td>2.000000</td>\n",
       "      <td>440.000000</td>\n",
       "      <td>126.000000</td>\n",
       "      <td>1970.000000</td>\n",
       "      <td>-37.803625</td>\n",
       "      <td>145.000920</td>\n",
       "      <td>6567.000000</td>\n",
       "    </tr>\n",
       "    <tr>\n",
       "      <th>75%</th>\n",
       "      <td>17734.250000</td>\n",
       "      <td>3.000000</td>\n",
       "      <td>1.302000e+06</td>\n",
       "      <td>13.300000</td>\n",
       "      <td>3149.000000</td>\n",
       "      <td>3.000000</td>\n",
       "      <td>2.000000</td>\n",
       "      <td>2.000000</td>\n",
       "      <td>651.000000</td>\n",
       "      <td>174.000000</td>\n",
       "      <td>2000.000000</td>\n",
       "      <td>-37.756270</td>\n",
       "      <td>145.060000</td>\n",
       "      <td>10331.000000</td>\n",
       "    </tr>\n",
       "    <tr>\n",
       "      <th>max</th>\n",
       "      <td>23546.000000</td>\n",
       "      <td>12.000000</td>\n",
       "      <td>9.000000e+06</td>\n",
       "      <td>48.100000</td>\n",
       "      <td>3978.000000</td>\n",
       "      <td>20.000000</td>\n",
       "      <td>8.000000</td>\n",
       "      <td>10.000000</td>\n",
       "      <td>433014.000000</td>\n",
       "      <td>44515.000000</td>\n",
       "      <td>2018.000000</td>\n",
       "      <td>-37.408530</td>\n",
       "      <td>145.526350</td>\n",
       "      <td>21650.000000</td>\n",
       "    </tr>\n",
       "  </tbody>\n",
       "</table>\n",
       "</div>"
      ],
      "text/plain": [
       "         Unnamed: 0         Rooms         Price      Distance      Postcode  \\\n",
       "count  18396.000000  18396.000000  1.839600e+04  18395.000000  18395.000000   \n",
       "mean   11826.787073      2.935040  1.056697e+06     10.389986   3107.140147   \n",
       "std     6800.710448      0.958202  6.419217e+05      6.009050     95.000995   \n",
       "min        1.000000      1.000000  8.500000e+04      0.000000   3000.000000   \n",
       "25%     5936.750000      2.000000  6.330000e+05      6.300000   3046.000000   \n",
       "50%    11820.500000      3.000000  8.800000e+05      9.700000   3085.000000   \n",
       "75%    17734.250000      3.000000  1.302000e+06     13.300000   3149.000000   \n",
       "max    23546.000000     12.000000  9.000000e+06     48.100000   3978.000000   \n",
       "\n",
       "           Bedroom2      Bathroom           Car       Landsize  BuildingArea  \\\n",
       "count  14927.000000  14925.000000  14820.000000   13603.000000   7762.000000   \n",
       "mean       2.913043      1.538492      1.615520     558.116371    151.220219   \n",
       "std        0.964641      0.689311      0.955916    3987.326586    519.188596   \n",
       "min        0.000000      0.000000      0.000000       0.000000      0.000000   \n",
       "25%        2.000000      1.000000      1.000000     176.500000     93.000000   \n",
       "50%        3.000000      1.000000      2.000000     440.000000    126.000000   \n",
       "75%        3.000000      2.000000      2.000000     651.000000    174.000000   \n",
       "max       20.000000      8.000000     10.000000  433014.000000  44515.000000   \n",
       "\n",
       "         YearBuilt     Lattitude    Longtitude  Propertycount  \n",
       "count  8958.000000  15064.000000  15064.000000   18395.000000  \n",
       "mean   1965.879996    -37.809849    144.996338    7517.975265  \n",
       "std      37.013261      0.081152      0.106375    4488.416599  \n",
       "min    1196.000000    -38.182550    144.431810     249.000000  \n",
       "25%    1950.000000    -37.858100    144.931193    4294.000000  \n",
       "50%    1970.000000    -37.803625    145.000920    6567.000000  \n",
       "75%    2000.000000    -37.756270    145.060000   10331.000000  \n",
       "max    2018.000000    -37.408530    145.526350   21650.000000  "
      ]
     },
     "execution_count": 5,
     "metadata": {},
     "output_type": "execute_result"
    }
   ],
   "source": [
    "melb_data.describe()"
   ]
  },
  {
   "cell_type": "code",
   "execution_count": 6,
   "metadata": {
    "collapsed": true
   },
   "outputs": [],
   "source": [
    "md_predictors = melb_data.drop('Price', axis=1)"
   ]
  },
  {
   "cell_type": "code",
   "execution_count": 7,
   "metadata": {},
   "outputs": [
    {
     "data": {
      "text/plain": [
       "Index(['Unnamed: 0', 'Suburb', 'Address', 'Rooms', 'Type', 'Method', 'SellerG',\n",
       "       'Date', 'Distance', 'Postcode', 'Bedroom2', 'Bathroom', 'Car',\n",
       "       'Landsize', 'BuildingArea', 'YearBuilt', 'CouncilArea', 'Lattitude',\n",
       "       'Longtitude', 'Regionname', 'Propertycount'],\n",
       "      dtype='object')"
      ]
     },
     "execution_count": 7,
     "metadata": {},
     "output_type": "execute_result"
    }
   ],
   "source": [
    "md_predictors.columns"
   ]
  },
  {
   "cell_type": "code",
   "execution_count": 10,
   "metadata": {},
   "outputs": [
    {
     "data": {
      "text/plain": [
       "Unnamed: 0           0\n",
       "Suburb               0\n",
       "Address              0\n",
       "Rooms                0\n",
       "Type                 0\n",
       "Price                0\n",
       "Method               0\n",
       "SellerG              0\n",
       "Date                 0\n",
       "Distance             1\n",
       "Postcode             1\n",
       "Bedroom2          3469\n",
       "Bathroom          3471\n",
       "Car               3576\n",
       "Landsize          4793\n",
       "BuildingArea     10634\n",
       "YearBuilt         9438\n",
       "CouncilArea       6163\n",
       "Lattitude         3332\n",
       "Longtitude        3332\n",
       "Regionname           1\n",
       "Propertycount        1\n",
       "dtype: int64"
      ]
     },
     "execution_count": 10,
     "metadata": {},
     "output_type": "execute_result"
    }
   ],
   "source": [
    "melb_data.isnull().sum()"
   ]
  },
  {
   "cell_type": "code",
   "execution_count": 13,
   "metadata": {},
   "outputs": [
    {
     "data": {
      "text/plain": [
       "Unnamed: 0           0\n",
       "Suburb               0\n",
       "Address              0\n",
       "Rooms                0\n",
       "Type                 0\n",
       "Price                0\n",
       "Method               0\n",
       "SellerG              0\n",
       "Date                 0\n",
       "Distance             1\n",
       "Postcode             1\n",
       "Bedroom2          3469\n",
       "Bathroom          3471\n",
       "Car               3576\n",
       "Landsize          4793\n",
       "BuildingArea     10634\n",
       "YearBuilt         9438\n",
       "CouncilArea       6163\n",
       "Lattitude         3332\n",
       "Longtitude        3332\n",
       "Regionname           1\n",
       "Propertycount        1\n",
       "dtype: int64"
      ]
     },
     "execution_count": 13,
     "metadata": {},
     "output_type": "execute_result"
    }
   ],
   "source": [
    "from sklearn.preprocessing import Imputer\n",
    "imp = Imputer()\n",
    "imp_predictors = imp.fit_transform(pd.get_dummies(melb_data))\n",
    "melb_data.isnull().sum()"
   ]
  },
  {
   "cell_type": "code",
   "execution_count": 14,
   "metadata": {},
   "outputs": [
    {
     "ename": "AttributeError",
     "evalue": "'numpy.ndarray' object has no attribute 'isnull'",
     "traceback": [
      "\u001b[0;31m---------------------------------------------------------------------------\u001b[0m",
      "\u001b[0;31mAttributeError\u001b[0m                            Traceback (most recent call last)",
      "\u001b[0;32m<ipython-input-14-09d90e15984a>\u001b[0m in \u001b[0;36m<module>\u001b[0;34m()\u001b[0m\n\u001b[0;32m----> 1\u001b[0;31m \u001b[0mimp_predictors\u001b[0m\u001b[0;34m.\u001b[0m\u001b[0misnull\u001b[0m\u001b[0;34m(\u001b[0m\u001b[0;34m)\u001b[0m\u001b[0;34m.\u001b[0m\u001b[0msum\u001b[0m\u001b[0;34m(\u001b[0m\u001b[0;34m)\u001b[0m\u001b[0;34m\u001b[0m\u001b[0m\n\u001b[0m",
      "\u001b[0;31mAttributeError\u001b[0m: 'numpy.ndarray' object has no attribute 'isnull'"
     ],
     "output_type": "error"
    }
   ],
   "source": [
    "imp_predictors.isnull().sum()"
   ]
  },
  {
   "cell_type": "code",
   "execution_count": 15,
   "metadata": {},
   "outputs": [
    {
     "ename": "AttributeError",
     "evalue": "module 'pandas' has no attribute 'Dataframe'",
     "traceback": [
      "\u001b[0;31m---------------------------------------------------------------------------\u001b[0m",
      "\u001b[0;31mAttributeError\u001b[0m                            Traceback (most recent call last)",
      "\u001b[0;32m<ipython-input-15-4e344bf5a5b3>\u001b[0m in \u001b[0;36m<module>\u001b[0;34m()\u001b[0m\n\u001b[0;32m----> 1\u001b[0;31m \u001b[0mpd\u001b[0m\u001b[0;34m.\u001b[0m\u001b[0mDataframe\u001b[0m\u001b[0;34m(\u001b[0m\u001b[0mimp_predictors\u001b[0m\u001b[0;34m)\u001b[0m\u001b[0;34m.\u001b[0m\u001b[0misnull\u001b[0m\u001b[0;34m(\u001b[0m\u001b[0;34m)\u001b[0m\u001b[0;34m.\u001b[0m\u001b[0msum\u001b[0m\u001b[0;34m(\u001b[0m\u001b[0;34m)\u001b[0m\u001b[0;34m\u001b[0m\u001b[0m\n\u001b[0m",
      "\u001b[0;31mAttributeError\u001b[0m: module 'pandas' has no attribute 'Dataframe'"
     ],
     "output_type": "error"
    }
   ],
   "source": [
    "pd.Dataframe(imp_predictors).isnull().sum()"
   ]
  },
  {
   "cell_type": "code",
   "execution_count": 45,
   "metadata": {},
   "outputs": [
    {
     "name": "stdout",
     "output_type": "stream",
     "text": [
      "18396\n"
     ]
    }
   ],
   "source": [
    "print(len(imp_predictors))"
   ]
  },
  {
   "cell_type": "code",
   "execution_count": 17,
   "metadata": {},
   "outputs": [
    {
     "ename": "NameError",
     "evalue": "name 'predictors' is not defined",
     "traceback": [
      "\u001b[0;31m---------------------------------------------------------------------------\u001b[0m",
      "\u001b[0;31mNameError\u001b[0m                                 Traceback (most recent call last)",
      "\u001b[0;32m<ipython-input-17-a95383f34307>\u001b[0m in \u001b[0;36m<module>\u001b[0;34m()\u001b[0m\n\u001b[0;32m----> 1\u001b[0;31m \u001b[0mpredictors\u001b[0m\u001b[0;34m.\u001b[0m\u001b[0mvalues\u001b[0m\u001b[0;34m\u001b[0m\u001b[0m\n\u001b[0m",
      "\u001b[0;31mNameError\u001b[0m: name 'predictors' is not defined"
     ],
     "output_type": "error"
    }
   ],
   "source": [
    "predictors.values"
   ]
  },
  {
   "cell_type": "code",
   "execution_count": 18,
   "metadata": {},
   "outputs": [
    {
     "data": {
      "text/plain": [
       "array([[1, 'Abbotsford', '85 Turner St', ..., 144.9984,\n",
       "        'Northern Metropolitan', 4019.0],\n",
       "       [2, 'Abbotsford', '25 Bloomburg St', ..., 144.9934,\n",
       "        'Northern Metropolitan', 4019.0],\n",
       "       [4, 'Abbotsford', '5 Charles St', ..., 144.9944,\n",
       "        'Northern Metropolitan', 4019.0],\n",
       "       ..., \n",
       "       [23544, 'Yallambie', '17 Amaroo Wy', ..., 145.10547,\n",
       "        'Northern Metropolitan', 1369.0],\n",
       "       [23545, 'Yarraville', '6 Agnes St', ..., 144.88449,\n",
       "        'Western Metropolitan', 6543.0],\n",
       "       [23546, 'Yarraville', '33 Freeman St', ..., 144.87403999999995,\n",
       "        'Western Metropolitan', 6543.0]], dtype=object)"
      ]
     },
     "execution_count": 18,
     "metadata": {},
     "output_type": "execute_result"
    }
   ],
   "source": [
    "md_predictors.values"
   ]
  },
  {
   "cell_type": "code",
   "execution_count": 19,
   "metadata": {},
   "outputs": [
    {
     "data": {
      "text/plain": [
       "0        1480000.0\n",
       "1        1035000.0\n",
       "2        1465000.0\n",
       "3         850000.0\n",
       "4        1600000.0\n",
       "5         941000.0\n",
       "6        1876000.0\n",
       "7        1636000.0\n",
       "8        1000000.0\n",
       "9         745000.0\n",
       "10        300000.0\n",
       "11       1097000.0\n",
       "12        542000.0\n",
       "13        760000.0\n",
       "14        481000.0\n",
       "15        700000.0\n",
       "16       1350000.0\n",
       "17        750000.0\n",
       "18       1985000.0\n",
       "19        500000.0\n",
       "20       1172500.0\n",
       "21        441000.0\n",
       "22       1310000.0\n",
       "23       1200000.0\n",
       "24        847000.0\n",
       "25       1176500.0\n",
       "26        955000.0\n",
       "27        890000.0\n",
       "28       1330000.0\n",
       "29        900000.0\n",
       "           ...    \n",
       "18366     720000.0\n",
       "18367     631000.0\n",
       "18368     523000.0\n",
       "18369     530000.0\n",
       "18370     540000.0\n",
       "18371     290000.0\n",
       "18372    1263500.0\n",
       "18373     931000.0\n",
       "18374    1295000.0\n",
       "18375    1250000.0\n",
       "18376    1316000.0\n",
       "18377     951000.0\n",
       "18378    1323000.0\n",
       "18379     970000.0\n",
       "18380    1330000.0\n",
       "18381     590000.0\n",
       "18382     650000.0\n",
       "18383     540000.0\n",
       "18384     635000.0\n",
       "18385     655000.0\n",
       "18386     582000.0\n",
       "18387     720000.0\n",
       "18388    1245000.0\n",
       "18389    1031000.0\n",
       "18390    1170000.0\n",
       "18391     622500.0\n",
       "18392    2500000.0\n",
       "18393    1100000.0\n",
       "18394    1285000.0\n",
       "18395    1050000.0\n",
       "Name: Price, Length: 18396, dtype: float64"
      ]
     },
     "execution_count": 19,
     "metadata": {},
     "output_type": "execute_result"
    }
   ],
   "source": [
    "melb_data.Price"
   ]
  },
  {
   "cell_type": "code",
   "execution_count": 22,
   "metadata": {},
   "outputs": [
    {
     "name": "stdout",
     "output_type": "stream",
     "text": [
      "<class 'pandas.core.series.Series'>\n",
      "<class 'pandas.core.frame.DataFrame'>\n"
     ]
    }
   ],
   "source": [
    "print(type(melb_data.Price))\n",
    "print(type(md_predictors))"
   ]
  },
  {
   "cell_type": "code",
   "execution_count": 23,
   "metadata": {
    "collapsed": true
   },
   "outputs": [],
   "source": [
    "new_imp_predictors = imp.fit_transform(pd.get_dummies(melb_data.drop('Price', axis=1)))\n",
    "from sklearn.tree import DecisionTreeRegressor"
   ]
  },
  {
   "cell_type": "code",
   "execution_count": 24,
   "metadata": {
    "collapsed": true
   },
   "outputs": [],
   "source": [
    "from sklearn.externals import joblib\n",
    "from sklearn.model_selection import train_test_split\n",
    "X_train, X_test, y_train, y_test = train_test_split(new_imp_predictors, melb_data.Price)"
   ]
  },
  {
   "cell_type": "code",
   "execution_count": 26,
   "metadata": {},
   "outputs": [
    {
     "name": "stdout",
     "output_type": "stream",
     "text": [
      "Score with regular train_test_split  0.635984781263\n",
      "Mean score with cross_val_score  0.595317902212\n"
     ]
    }
   ],
   "source": [
    "model = DecisionTreeRegressor(max_leaf_nodes=40)\n",
    "model.fit(X_train, y_train)\n",
    "print(\"Score with regular train_test_split \", model.score(X_test, y_test))\n",
    "from sklearn.model_selection import cross_val_score\n",
    "X, y = new_imp_predictors, melb_data.Price\n",
    "print(\"Mean score with cross_val_score \", cross_val_score(DecisionTreeRegressor(max_leaf_nodes=40),X, y ).mean())"
   ]
  },
  {
   "cell_type": "code",
   "execution_count": 27,
   "metadata": {},
   "outputs": [
    {
     "data": {
      "text/plain": [
       "['decision_tree_model.pkl']"
      ]
     },
     "execution_count": 27,
     "metadata": {},
     "output_type": "execute_result"
    }
   ],
   "source": [
    "from sklearn.externals import joblib\n",
    "joblib.dump(model, \"decision_tree_model.pkl\")"
   ]
  },
  {
   "cell_type": "code",
   "execution_count": 28,
   "metadata": {},
   "outputs": [],
   "source": [
    "from sklearn.metrics import mean_absolute_error\n",
    "\n",
    "predictions = model.predict(X)\n",
    "mean_absolute_error(y, predictions)\n",
    "print(\"Old mode\")"
   ]
  },
  {
   "cell_type": "code",
   "execution_count": 52,
   "metadata": {},
   "outputs": [],
   "source": [
    "nX = melb_data.select_dtypes(exclude=[\"object\"]).dropna(axis=0)\n",
    "nY = nX.Price\n",
    "nX = nX.drop(\"Price\", axis=1)\n",
    "nModel = DecisionTreeRegressor()\n",
    "nX_train, nX_test, ny_train, ny_test = train_test_split(nX, nY, random_state=0)\n",
    "nModel.fit(nX_train, ny_train)\n",
    "print(\"New model score \", nModel.score(nX_test, ny_test))\n",
    "print(\"Shape : \", nX.shape)\n",
    "nX.head()\n",
    "print(\"no of features\", nX.shape[1])\n",
    "print(\"feature importance \", model.feature_importances_)\n",
    "print(\"features \", nX.columns)\n",
    "print(nX.columns[0])"
   ]
  },
  {
   "cell_type": "code",
   "execution_count": 143,
   "metadata": {},
   "outputs": [
    {
     "name": "stdout",
     "output_type": "stream",
     "text": [
      "13\n"
     ]
    },
    {
     "data": {
      "text/plain": [
       "<IPython.core.display.Javascript object>"
      ]
     },
     "metadata": {},
     "output_type": "display_data"
    },
    {
     "data": {
      "text/html": [
       "<img src=\"data:image/png;base64,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\" width=\"639.9999861283738\">"
      ],
      "text/plain": [
       "<IPython.core.display.HTML object>"
      ]
     },
     "metadata": {},
     "output_type": "execute_result"
    },
    {
     "data": {
      "text/plain": [
       "Text(0,0.5,'Feature')"
      ]
     },
     "execution_count": 143,
     "metadata": {},
     "output_type": "execute_result"
    }
   ],
   "source": [
    "print(len(nModel.feature_importances_))\n",
    "plt.barh(range(13), nModel.feature_importances_, align=\"center\")\n",
    "plt.yticks(np.arange(13), nX.columns)\n",
    "plt.xlabel(\"Feature importance\")\n",
    "plt.ylabel(\"Feature\")"
   ]
  },
  {
   "cell_type": "code",
   "execution_count": 61,
   "metadata": {
    "collapsed": true
   },
   "outputs": [],
   "source": [
    "#requires A GradientBoost model\n",
    "#from sklearn.ensemble.partial_dependence import partial_dependence, plot_partial_dependence\n",
    "#plots = plot_partial_dependence(nModel, features=[1, 2], X=nX, feature_names=['Rooms', 'Distance'], grid_resolution=10)\n",
    "from sklearn.ensemble import RandomForestRegressor\n",
    "from sklearn.pipeline import make_pipeline\n",
    "from sklearn.preprocessing import Imputer\n",
    "pipe = make_pipeline(Imputer(), RandomForestRegressor())"
   ]
  },
  {
   "cell_type": "code",
   "execution_count": 63,
   "metadata": {
    "collapsed": true
   },
   "outputs": [],
   "source": [
    "pipe.fit(X_train, y_train)\n",
    "prediction = pipe.predict(X_test)"
   ]
  },
  {
   "cell_type": "code",
   "execution_count": 64,
   "metadata": {
    "collapsed": true
   },
   "outputs": [],
   "source": [
    "mae = mean_absolute_error(y_test, prediction)"
   ]
  },
  {
   "cell_type": "code",
   "execution_count": 65,
   "metadata": {},
   "outputs": [
    {
     "name": "stdout",
     "output_type": "stream",
     "text": [
      "173460.269319\n"
     ]
    }
   ],
   "source": [
    "print(mae)"
   ]
  },
  {
   "cell_type": "code",
   "execution_count": 66,
   "metadata": {},
   "outputs": [
    {
     "name": "stdout",
     "output_type": "stream",
     "text": [
      "Score with pipeline and RandomForestRegressor  0.958042115114\n"
     ]
    }
   ],
   "source": [
    "print(\"Score with pipeline and RandomForestRegressor \", pipe.score(X_train, y_train))"
   ]
  },
  {
   "cell_type": "code",
   "execution_count": 69,
   "metadata": {},
   "outputs": [
    {
     "data": {
      "text/plain": [
       "[('imputer',\n",
       "  Imputer(axis=0, copy=True, missing_values='NaN', strategy='mean', verbose=0)),\n",
       " ('randomforestregressor',\n",
       "  RandomForestRegressor(bootstrap=True, criterion='mse', max_depth=None,\n",
       "             max_features='auto', max_leaf_nodes=None,\n",
       "             min_impurity_decrease=0.0, min_impurity_split=None,\n",
       "             min_samples_leaf=1, min_samples_split=2,\n",
       "             min_weight_fraction_leaf=0.0, n_estimators=10, n_jobs=1,\n",
       "             oob_score=False, random_state=None, verbose=0, warm_start=False))]"
      ]
     },
     "execution_count": 69,
     "metadata": {},
     "output_type": "execute_result"
    }
   ],
   "source": [
    "pipe.steps"
   ]
  },
  {
   "cell_type": "code",
   "execution_count": 72,
   "metadata": {
    "collapsed": true
   },
   "outputs": [],
   "source": [
    "estimators = pipe.named_steps['randomforestregressor'].estimators_"
   ]
  },
  {
   "cell_type": "code",
   "execution_count": 71,
   "metadata": {
    "collapsed": true
   },
   "outputs": [],
   "source": [
    "import mglearn"
   ]
  },
  {
   "cell_type": "code",
   "execution_count": 79,
   "metadata": {},
   "outputs": [
    {
     "name": "stdout",
     "output_type": "stream",
     "text": [
      "Feature importances\n",
      "\t\tMax\t\tMin\t\tAvg\t\tStd\t\t\n",
      "0.214758389577 \t\t 0.0 \t\t 5.29408650537e-05 \t\t 0.00248288078957\n",
      "Feature importances\n",
      "\t\tMax\t\tMin\t\tAvg\t\tStd\t\t\n",
      "0.207048638658 \t\t 0.0 \t\t 5.29408650537e-05 \t\t 0.00246289018912\n",
      "Feature importances\n",
      "\t\tMax\t\tMin\t\tAvg\t\tStd\t\t\n",
      "0.210507635722 \t\t 0.0 \t\t 5.29408650537e-05 \t\t 0.00245157117905\n",
      "Feature importances\n",
      "\t\tMax\t\tMin\t\tAvg\t\tStd\t\t\n",
      "0.226246371611 \t\t 0.0 \t\t 5.29408650537e-05 \t\t 0.00251549956016\n",
      "Feature importances\n",
      "\t\tMax\t\tMin\t\tAvg\t\tStd\t\t\n",
      "0.214798263159 \t\t 0.0 \t\t 5.29408650537e-05 \t\t 0.00248603911274\n",
      "Feature importances\n",
      "\t\tMax\t\tMin\t\tAvg\t\tStd\t\t\n",
      "0.216382490094 \t\t 0.0 \t\t 5.29408650537e-05 \t\t 0.0024947723679\n",
      "Feature importances\n",
      "\t\tMax\t\tMin\t\tAvg\t\tStd\t\t\n",
      "0.218418778719 \t\t 0.0 \t\t 5.29408650537e-05 \t\t 0.00255150348789\n",
      "Feature importances\n",
      "\t\tMax\t\tMin\t\tAvg\t\tStd\t\t\n",
      "0.204568029273 \t\t 0.0 \t\t 5.29408650537e-05 \t\t 0.00245021216441\n",
      "Feature importances\n",
      "\t\tMax\t\tMin\t\tAvg\t\tStd\t\t\n",
      "0.220223854428 \t\t 0.0 \t\t 5.29408650537e-05 \t\t 0.00254728707441\n",
      "Feature importances\n",
      "\t\tMax\t\tMin\t\tAvg\t\tStd\t\t\n",
      "0.210052964993 \t\t 0.0 \t\t 5.29408650537e-05 \t\t 0.00251316887165\n"
     ]
    }
   ],
   "source": [
    "#fig, axes = plt.subplots(2,6, figsize=(20, 10))\n",
    "#for i, (ax, tree) in enumerate(zip(axes.ravel(), estimators)):\n",
    "#    ax.set_title(\"Tree {}\".format(i))\n",
    "#    mglearn.plots.plot_tree_partition(X_train, y_train, tree, ax=ax)\n",
    "#mglearn.plots.plot_2d_separator(pipe.named_steps['randomforestregressor'], X_train, fill=True, ax=axes[-1, -1], alpha=.4)\n",
    "#axes[-1, -1].set_title(\"Random Forest\")\n",
    "forest = pipe.named_steps['randomforestregressor']\n",
    "for tree in estimators :\n",
    "    print(\"Feature importances\")\n",
    "    print(\"\\t\\tMax\\t\\tMin\\t\\tAvg\\t\\tStd\\t\\t\")\n",
    "    print(tree.feature_importances_.max(),\"\\t\\t\", tree.feature_importances_.min(),\"\\t\\t\", np.average(tree.feature_importances_),\"\\t\\t\", tree.feature_importances_.std())"
   ]
  },
  {
   "cell_type": "code",
   "execution_count": 100,
   "metadata": {},
   "outputs": [
    {
     "name": "stdout",
     "output_type": "stream",
     "text": [
      "   Unnamed: 0      Suburb           Address  Rooms Type      Price Method  \\\n",
      "0           1  Abbotsford      85 Turner St      2    h  1480000.0      S   \n",
      "1           2  Abbotsford   25 Bloomburg St      2    h  1035000.0      S   \n",
      "2           4  Abbotsford      5 Charles St      3    h  1465000.0     SP   \n",
      "3           5  Abbotsford  40 Federation La      3    h   850000.0     PI   \n",
      "4           6  Abbotsford       55a Park St      4    h  1600000.0     VB   \n",
      "\n",
      "  SellerG       Date  Distance      ...        Bathroom  Car  Landsize  \\\n",
      "0  Biggin  3/12/2016       2.5      ...             1.0  1.0     202.0   \n",
      "1  Biggin  4/02/2016       2.5      ...             1.0  0.0     156.0   \n",
      "2  Biggin  4/03/2017       2.5      ...             2.0  0.0     134.0   \n",
      "3  Biggin  4/03/2017       2.5      ...             2.0  1.0      94.0   \n",
      "4  Nelson  4/06/2016       2.5      ...             1.0  2.0     120.0   \n",
      "\n",
      "   BuildingArea  YearBuilt  CouncilArea  Lattitude Longtitude  \\\n",
      "0           NaN        NaN        Yarra   -37.7996   144.9984   \n",
      "1          79.0     1900.0        Yarra   -37.8079   144.9934   \n",
      "2         150.0     1900.0        Yarra   -37.8093   144.9944   \n",
      "3           NaN        NaN        Yarra   -37.7969   144.9969   \n",
      "4         142.0     2014.0        Yarra   -37.8072   144.9941   \n",
      "\n",
      "              Regionname  Propertycount  \n",
      "0  Northern Metropolitan         4019.0  \n",
      "1  Northern Metropolitan         4019.0  \n",
      "2  Northern Metropolitan         4019.0  \n",
      "3  Northern Metropolitan         4019.0  \n",
      "4  Northern Metropolitan         4019.0  \n",
      "\n",
      "[5 rows x 22 columns]\n"
     ]
    }
   ],
   "source": [
    "print(melb_data.head())\n",
    "X__train = melb_data.drop([\"Date\", \"Price\", \"Address\"], axis=1).dropna(axis=1)"
   ]
  },
  {
   "cell_type": "code",
   "execution_count": 102,
   "metadata": {},
   "outputs": [
    {
     "data": {
      "text/html": [
       "<div>\n",
       "<style>\n",
       "    .dataframe thead tr:only-child th {\n",
       "        text-align: right;\n",
       "    }\n",
       "\n",
       "    .dataframe thead th {\n",
       "        text-align: left;\n",
       "    }\n",
       "\n",
       "    .dataframe tbody tr th {\n",
       "        vertical-align: top;\n",
       "    }\n",
       "</style>\n",
       "<table border=\"1\" class=\"dataframe\">\n",
       "  <thead>\n",
       "    <tr style=\"text-align: right;\">\n",
       "      <th></th>\n",
       "      <th>Unnamed: 0</th>\n",
       "      <th>Suburb</th>\n",
       "      <th>Rooms</th>\n",
       "      <th>Type</th>\n",
       "      <th>Method</th>\n",
       "      <th>SellerG</th>\n",
       "    </tr>\n",
       "  </thead>\n",
       "  <tbody>\n",
       "    <tr>\n",
       "      <th>0</th>\n",
       "      <td>1</td>\n",
       "      <td>Abbotsford</td>\n",
       "      <td>2</td>\n",
       "      <td>h</td>\n",
       "      <td>S</td>\n",
       "      <td>Biggin</td>\n",
       "    </tr>\n",
       "    <tr>\n",
       "      <th>1</th>\n",
       "      <td>2</td>\n",
       "      <td>Abbotsford</td>\n",
       "      <td>2</td>\n",
       "      <td>h</td>\n",
       "      <td>S</td>\n",
       "      <td>Biggin</td>\n",
       "    </tr>\n",
       "    <tr>\n",
       "      <th>2</th>\n",
       "      <td>4</td>\n",
       "      <td>Abbotsford</td>\n",
       "      <td>3</td>\n",
       "      <td>h</td>\n",
       "      <td>SP</td>\n",
       "      <td>Biggin</td>\n",
       "    </tr>\n",
       "    <tr>\n",
       "      <th>3</th>\n",
       "      <td>5</td>\n",
       "      <td>Abbotsford</td>\n",
       "      <td>3</td>\n",
       "      <td>h</td>\n",
       "      <td>PI</td>\n",
       "      <td>Biggin</td>\n",
       "    </tr>\n",
       "    <tr>\n",
       "      <th>4</th>\n",
       "      <td>6</td>\n",
       "      <td>Abbotsford</td>\n",
       "      <td>4</td>\n",
       "      <td>h</td>\n",
       "      <td>VB</td>\n",
       "      <td>Nelson</td>\n",
       "    </tr>\n",
       "  </tbody>\n",
       "</table>\n",
       "</div>"
      ],
      "text/plain": [
       "   Unnamed: 0      Suburb  Rooms Type Method SellerG\n",
       "0           1  Abbotsford      2    h      S  Biggin\n",
       "1           2  Abbotsford      2    h      S  Biggin\n",
       "2           4  Abbotsford      3    h     SP  Biggin\n",
       "3           5  Abbotsford      3    h     PI  Biggin\n",
       "4           6  Abbotsford      4    h     VB  Nelson"
      ]
     },
     "execution_count": 102,
     "metadata": {},
     "output_type": "execute_result"
    }
   ],
   "source": [
    "X__ = X__train\n",
    "X__.head()"
   ]
  },
  {
   "cell_type": "code",
   "execution_count": 103,
   "metadata": {
    "collapsed": true
   },
   "outputs": [],
   "source": [
    "X__ = pd.get_dummies(X__)"
   ]
  },
  {
   "cell_type": "code",
   "execution_count": 105,
   "metadata": {},
   "outputs": [
    {
     "data": {
      "text/plain": [
       "(18396, 645)"
      ]
     },
     "execution_count": 105,
     "metadata": {},
     "output_type": "execute_result"
    }
   ],
   "source": [
    "X__.shape"
   ]
  },
  {
   "cell_type": "code",
   "execution_count": 114,
   "metadata": {},
   "outputs": [
    {
     "name": "stdout",
     "output_type": "stream",
     "text": [
      "X__train shape  (18396, 6)\n",
      "X__train head     Unnamed: 0      Suburb  Rooms Type Method SellerG\n",
      "0           1  Abbotsford      2    h      S  Biggin\n",
      "1           2  Abbotsford      2    h      S  Biggin\n",
      "2           4  Abbotsford      3    h     SP  Biggin\n",
      "3           5  Abbotsford      3    h     PI  Biggin\n",
      "4           6  Abbotsford      4    h     VB  Nelson\n",
      "X__ dtypes  Unnamed: 0                             int64\n",
      "Rooms                                  int64\n",
      "Suburb_Abbotsford                      uint8\n",
      "Suburb_Aberfeldie                      uint8\n",
      "Suburb_Airport West                    uint8\n",
      "Suburb_Albanvale                       uint8\n",
      "Suburb_Albert Park                     uint8\n",
      "Suburb_Albion                          uint8\n",
      "Suburb_Alphington                      uint8\n",
      "Suburb_Altona                          uint8\n",
      "Suburb_Altona Meadows                  uint8\n",
      "Suburb_Altona North                    uint8\n",
      "Suburb_Ardeer                          uint8\n",
      "Suburb_Armadale                        uint8\n",
      "Suburb_Ascot Vale                      uint8\n",
      "Suburb_Ashburton                       uint8\n",
      "Suburb_Ashwood                         uint8\n",
      "Suburb_Aspendale                       uint8\n",
      "Suburb_Aspendale Gardens               uint8\n",
      "Suburb_Attwood                         uint8\n",
      "Suburb_Avondale Heights                uint8\n",
      "Suburb_Bacchus Marsh                   uint8\n",
      "Suburb_Balaclava                       uint8\n",
      "Suburb_Balwyn                          uint8\n",
      "Suburb_Balwyn North                    uint8\n",
      "Suburb_Bayswater                       uint8\n",
      "Suburb_Bayswater North                 uint8\n",
      "Suburb_Beaconsfield                    uint8\n",
      "Suburb_Beaconsfield Upper              uint8\n",
      "Suburb_Beaumaris                       uint8\n",
      "                                       ...  \n",
      "SellerG_WHITEFOX                       uint8\n",
      "SellerG_Walsh                          uint8\n",
      "SellerG_Walshe                         uint8\n",
      "SellerG_Weast                          uint8\n",
      "SellerG_Weda                           uint8\n",
      "SellerG_Weston                         uint8\n",
      "SellerG_Westside                       uint8\n",
      "SellerG_White                          uint8\n",
      "SellerG_Whiting                        uint8\n",
      "SellerG_William                        uint8\n",
      "SellerG_Williams                       uint8\n",
      "SellerG_Wilson                         uint8\n",
      "SellerG_Win                            uint8\n",
      "SellerG_Wood                           uint8\n",
      "SellerG_Woodards                       uint8\n",
      "SellerG_Xynergy                        uint8\n",
      "SellerG_YPA                            uint8\n",
      "SellerG_Zahn                           uint8\n",
      "SellerG_buyMyplace                     uint8\n",
      "SellerG_hockingstuart                  uint8\n",
      "SellerG_hockingstuart/Advantage        uint8\n",
      "SellerG_hockingstuart/Barry            uint8\n",
      "SellerG_hockingstuart/Buxton           uint8\n",
      "SellerG_hockingstuart/Village          uint8\n",
      "SellerG_hockingstuart/hockingstuart    uint8\n",
      "SellerG_iHomes                         uint8\n",
      "SellerG_iOne                           uint8\n",
      "SellerG_iProperty                      uint8\n",
      "SellerG_iSell                          uint8\n",
      "SellerG_iTRAK                          uint8\n",
      "Length: 645, dtype: object\n"
     ]
    }
   ],
   "source": [
    "print(\"X__train shape \", X__train.shape)\n",
    "print(\"X__train head \", X__train.head())\n",
    "print(\"X__ dtypes \", X__.dtypes)"
   ]
  },
  {
   "cell_type": "code",
   "execution_count": 116,
   "metadata": {},
   "outputs": [
    {
     "name": "stdout",
     "output_type": "stream",
     "text": [
      "random forest with dummies  0.604138671895\n",
      "random forest without dummies  0.273911597486\n"
     ]
    }
   ],
   "source": [
    "y__ = melb_data.Price\n",
    "X__train_, X__test , y__train, y__test = train_test_split(X__, y__, random_state=0)\n",
    "forest_ = RandomForestRegressor().fit(X__train_, y__train)\n",
    "print(\"random forest with dummies \", forest_.score(X__test, y__test))\n",
    "\n",
    "X__train__, X__test__, y__train__, y__test__ = train_test_split(X__train.select_dtypes(exclude=[\"object\"]), y__, random_state=0)\n",
    "forest__ = RandomForestRegressor().fit(X__train__, y__train__)\n",
    "print(\"random forest without dummies \", forest__.score(X__test__, y__test__))"
   ]
  },
  {
   "cell_type": "code",
   "execution_count": 119,
   "metadata": {},
   "outputs": [
    {
     "data": {
      "text/plain": [
       "Index(['Unnamed: 0', 'Suburb', 'Address', 'Rooms', 'Type', 'Price', 'Method',\n",
       "       'SellerG', 'Date', 'Distance', 'Postcode', 'Bedroom2', 'Bathroom',\n",
       "       'Car', 'Landsize', 'BuildingArea', 'YearBuilt', 'CouncilArea',\n",
       "       'Lattitude', 'Longtitude', 'Regionname', 'Propertycount'],\n",
       "      dtype='object')"
      ]
     },
     "execution_count": 119,
     "metadata": {},
     "output_type": "execute_result"
    }
   ],
   "source": [
    "melb_data.columns"
   ]
  },
  {
   "cell_type": "code",
   "execution_count": 120,
   "metadata": {
    "collapsed": true
   },
   "outputs": [],
   "source": [
    "newX = melb_data.select_dtypes(exclude=[\"object\"])"
   ]
  },
  {
   "cell_type": "code",
   "execution_count": 121,
   "metadata": {},
   "outputs": [
    {
     "data": {
      "text/plain": [
       "Index(['Unnamed: 0', 'Rooms', 'Price', 'Distance', 'Postcode', 'Bedroom2',\n",
       "       'Bathroom', 'Car', 'Landsize', 'BuildingArea', 'YearBuilt', 'Lattitude',\n",
       "       'Longtitude', 'Propertycount'],\n",
       "      dtype='object')"
      ]
     },
     "execution_count": 121,
     "metadata": {},
     "output_type": "execute_result"
    }
   ],
   "source": [
    "newX.columns"
   ]
  },
  {
   "cell_type": "code",
   "execution_count": 125,
   "metadata": {},
   "outputs": [
    {
     "name": "stderr",
     "output_type": "stream",
     "text": [
      "/Users/tegaesabunor/anaconda/lib/python3.6/site-packages/ipykernel_launcher.py:3: SettingWithCopyWarning: \n",
      "A value is trying to be set on a copy of a slice from a DataFrame.\n",
      "Try using .loc[row_indexer,col_indexer] = value instead\n",
      "\n",
      "See the caveats in the documentation: http://pandas.pydata.org/pandas-docs/stable/indexing.html#indexing-view-versus-copy\n",
      "  This is separate from the ipykernel package so we can avoid doing imports until\n"
     ]
    }
   ],
   "source": [
    "newX.isnull().sum()\n",
    "for col in newX.columns :\n",
    "    newX[col] = newX[col].fillna(value=newX[col].mean())"
   ]
  },
  {
   "cell_type": "code",
   "execution_count": 126,
   "metadata": {},
   "outputs": [
    {
     "data": {
      "text/plain": [
       "Unnamed: 0       0\n",
       "Rooms            0\n",
       "Price            0\n",
       "Distance         0\n",
       "Postcode         0\n",
       "Bedroom2         0\n",
       "Bathroom         0\n",
       "Car              0\n",
       "Landsize         0\n",
       "BuildingArea     0\n",
       "YearBuilt        0\n",
       "Lattitude        0\n",
       "Longtitude       0\n",
       "Propertycount    0\n",
       "dtype: int64"
      ]
     },
     "execution_count": 126,
     "metadata": {},
     "output_type": "execute_result"
    }
   ],
   "source": [
    "X_train_sca\n",
    "newX.isnull().sum()"
   ]
  },
  {
   "cell_type": "code",
   "execution_count": 127,
   "metadata": {
    "collapsed": true
   },
   "outputs": [],
   "source": [
    "from sklearn.decomposition import PCA\n",
    "from sklearn.preprocessing import StandardScaler\n",
    "pipeline = make_pipeline(StandardScaler(), PCA(n_components=2), DecisionTreeRegressor())"
   ]
  },
  {
   "cell_type": "code",
   "execution_count": 128,
   "metadata": {},
   "outputs": [
    {
     "name": "stdout",
     "output_type": "stream",
     "text": [
      "Score of pca and DecisionTreeRegressor  -0.204732758789\n"
     ]
    }
   ],
   "source": [
    "newX_train, newX_test, newy_train, newy_test = train_test_split(newX.drop(\"Price\", axis=1), newX.Price, random_state=0)\n",
    "\n",
    "pipeline.fit(newX_train, newy_train)\n",
    "print(\"Score of pca and DecisionTreeRegressor \", pipeline.score(newX_test, newy_test))"
   ]
  },
  {
   "cell_type": "code",
   "execution_count": 133,
   "metadata": {
    "collapsed": true
   },
   "outputs": [],
   "source": [
    "components = pipeline.named_steps[\"pca\"].components_"
   ]
  },
  {
   "cell_type": "code",
   "execution_count": 154,
   "metadata": {
    "collapsed": true
   },
   "outputs": [],
   "source": [
    "%matplotlib notebook"
   ]
  },
  {
   "cell_type": "code",
   "execution_count": 155,
   "metadata": {
    "collapsed": true
   },
   "outputs": [],
   "source": [
    "%matplotlib notebook"
   ]
  },
  {
   "cell_type": "code",
   "execution_count": 157,
   "metadata": {},
   "outputs": [
    {
     "data": {
      "text/plain": [
       "<IPython.core.display.Javascript object>"
      ]
     },
     "metadata": {},
     "output_type": "display_data"
    },
    {
     "data": {
      "text/html": [
       "<img src=\"data:image/png;base64,iVBORw0KGgoAAAANSUhEUgAABuAAAAEOCAYAAAB4odHkAAAgAElEQVR4XuydCbx15dj/z0teswqlpHqQzNNLIqnHFDL2kjmahCSFVAonUjJUZB4f4kUZkyR6PVKJjJkzPZFmzXhV9L+++9n3v3X2uPbZ1zrDPt/787k+Z5+9177X2t91r+n6Xdd1/8eUTQISkIAE+hFYIz64LmyTsP8Ke27Y9WG7hv017EZhLHNNu4O7xN+/hV0o0oEEbhyf/ivsaWHvD9sv7LNh/wj7zzZTOvi7HEcm8B/tb7wm/h4admzYh8J+0R6nr4q/e4fdL+y3I/e+NL4AQ45zWnnNsf7vsCeH7Rj2yLBbhzGOzwp7ZtiqpYFn1r/y3vHNk8JeFHZCpZdbxuvnhL23PTbfM+s1LI0vlvPnWvFz7xn2iLCLwk4O+3PYumE7hW0Qdquw/wk7I+zqpYHHXzlPBFbGen8Xxv1RaeUeqvy/frz4cdg7wn4admLYPcLOnqdtXuirLdcd7j+/2eZ7cfzluOf4Pjxs/x4/gus7758bts9C/5FzvH1bxvq43+TeaEXYT9rrL6w3jf/fHfaZMK5TF8zx9i2m1ZXj+7ax0dwfXd7e+Ge1x+bN4u8xYVeFPShsizDvPXvv4VvE2+WZZ714fV7Y6W1mp8TfI8JODePZk/bgMDgfEFaeQRfT2JmLbS3379xjcq35YNjRYeUeim3g9VvCHhf2vbB3hf0srPPaNRfb6zokIAEJSGDCCRRH3YT/TH+eBCQggbEI4DC6axjCGn9xuCNk4PCkcaPO+fTa9t/ivB9rpUvgy7+M3/jVsNeHIb7dN+wVYQ8Pw9k0HVYeNpcAjvSf+Lzo8W1hOEdw0N8xDNHto+3301c4AR1Wxbenx+9BdN8w7Idh3wr7SvsYR5THAYrDBEdycTxNAILGfgK8fhR2cNhRYTcNI8ABEZMG3/PbzBvbiEXecXV84th8VBiOz7XDrgj7WNghYZeFFYfyIv/Jbv4iIIATc/Ow34dxn/TlMIJrvtbedsYijbGK+IHoRrANDuZdFsHvm+9N/HBswM3DXhzGvRKsCfqAHUFfe4UhGFXbbeIf7klZ3nZDMM19AsabwggI4f7yS2E45RE8aNzj46hH2CBwwTacAPdHiBeMU4K9/hmGaPzfYdyHMg4R2T8V9unh3S25JXjmYRzyDFQE37vH69+ELQ97a9gD2+wIUELQRJAjCIdzgW0wgcfHx4iVp7XHaFm6KrIRrMS4ZazaJCABCUhAAo0QUIBrBKudSkACE0QAB8frwnB28NBz/7DdwpaHfTHs1WF/nKDfO1c/hehNHHG7h309bOMwHPBXhiFo7BD29jAyuWz9CZRIznvFIg8L4/9LwxA2cbzxP047xDdEuOPD/iDQvgQKz1fGEhjZBkTDPjYM5zHC8JvDzNgYfRDh4MDhznn0CWEc66XhjMfpeac2a4MYevMt4/O18fFLwwgEwfmJwLFje8yeGX/JLuY8YJPAXBOgEgACHFla/CUDq3rN2Sr+XxmG+EFGHCK8rZtAcQ7fvs0QgR1xvTSc7zjudw7bLgyxiGxYrlM0z6GrOeDrIAOmMwOYc+QeYQhuvwpjrHIufWEYznrGZgkOqWD3ZQ8C3Ktzn8k9JhlEXwgjG7s0gpiq/wtxJgGyAxHYEDCproDYXq0SwLmA4/wNYZwPzgljTG8WhnBczeiS7UwCPGt+v/0W1QBeEsa5oFrdgo/LeVN+EpCABCQggcYIKMA1htaOJSCBRUygZA7wUPPUMLIMcMZT5oPPNgp7YhjZWjiMySja0xv4kfb4mrH0d8IorYLA8eyw24VtE0YEKOXo+B9nyP+N1PPSWbiMUyLdETbIMCKriCwisgvJhsERYqtHoDyQU1ryL2GU8CJaGyHjJu3/eY8yijjvdHDW41pdqpT/InMQIXNFGKWXcCQTHU82LJkztv4EOMbJJCQDjmzCqpMY5x2ZMHz2ciFKYI4IdJbtRdQgaIFyxwTXUCrxjWEEhXAuZdwidjBObYMJcI/EvdB3w6rlPcu3uO5zPeI+6SNhZr7ewJPMF7LYnxRGgNc7w+BZGufSl4WR7Y5wfIcwsjinw7ge2eoTIMiL0rKIl9yPHtn+WzIL6al6nqjf89JYshy3n4ufS+bg58P2DasGL3CvTwlvgpkIXER0V3wbPD6oAMJzJcc4XBE2eXYvXB2TS+P48ldKQAISWBAEFOAWxG5wIyQggQVKgLnJnhFGiZ+tO7aRjA3KKJENRykbHJ+2egR40OShcTqM8jREclK+hmwOSq7gkCcbBpGOObdsgwkgVhIJS2Qnzg4e0MkwwmmHI4T5TH4gxNoEeFDHUYfITjYmx3qZY4MHeR7gOe4R3m2DCfRybjwlvoIDhNJJZHVQLpGobhzyMLcNJgArSvvhkCfwgwZnjChuHMdckx4aZvCCo2kuCJTjHAGjzIGL0EZmNgII2TFkHZC5+Ym52KAJWAf3SRiCOo5j2oFhZHGs6vh9veYtnQAEY/0ExiICBdlCZMA8OozS0ZwXyXirCpUE0lHdgsY9FGXnbfUIkJ1FK5msBNmQBUcGLILwcWEE21kKtTfP6rWbJRCMEDF7BS/U2yMu1UmAYx2BnXneKNdLEG01KERiEpCABCQggTkhoAA3J5hdiQQksAgJUALk42EIG0RwE815WFhxLpWfREQirVpObRH+3HnbZCZlx2n86zDm0ULsQOQg84io5W/P25Yt7BWXqFecH0Qdw+99lU1+QLymZM3y9ntEy5K9Zbmv4fv1IbEIjjtE9TL+igjHXFsIH8eGUZrW1ptAGZ+I62TDkKFBCSpKd+IMheNjwpgnhsh5jneYU/LTNpwAcxZRWglH3c/DquWTKE1JVgcZSGTD2iTQJIFyrBOQRAm1E8PeElauNdwjcZxTbprgBs4BnGMpRWubSYBSfmRgVa/lLAFb3iMQDPH9Q2Fkcllmtv8Iogz3zcJeEEZG+7phBCSRiYk4R4lJ7tsRiSyPWP9ILMc7/BDZ/9T+Kq/JxuZaRHlUrukIHsyphfAp48GMuQ/iuKYaCHORIWCW4AWCQAle4JnUNphAZ9DXOrF4ua9EiCMohHMCgYpcg6jE8AGhSkACEpCABOaCgALcXFB2HRKQwGImQAYWzkwyCphc/JNhPFg6N8Ts9iqTjFMyiRIqRMaWzKLyUM+cb2TI4ISi/KRtMAFEIJybODUpV9P58EkJJsqnUuaTDEPbcAKUoPxGGGOSaFmcdqXcJFmZOJhPDWNuI9tgAmQJktWGc45jnnmfKOFJQINZBqOPHjKGyYhhricyMWFIVgyZmjjjifKGOVmFzAtlk8BcESDLhfLRZK9z/iwOec6dGBnZ3E8tC5ueq41aROshmAbh8rQw5hcmQ5jAGkSicv2hIgPnTrJkOM4pU8fy5T5qEf3cRjeV8yMlJ8l2I/u/3F9y7eF+iWwseCMUUa6bjPYyl6ZzQdXbNWRiEkTDmCXjrQjuHPeIblQQIdCGe6Wv1OtySS1FpQ+u5zxXco/JHIRktyNalvkKuRcl0IYMYoKYVoURxMB3bL0JlGeg7eNjMocJXuCYRmhfGcbxDlfm3eOZCZHeCjaOJglIQAISmBMCCnBzgtmVSEACi5wAjmPK+5FtwAM7D0srwnjAtw0nUJwfOIRxHq0XRkQiTpC3hhH1SStzw/BgirBERpytPwEiZnFuLAujdCcZb2Rn0apCHDx5ALUcXW+WvebMwTFCGUrKVzGXHk5OxCPEeMr+kdVVndvEcXoDgXK8w/CoMARgHJ846Hi9Y5srn/9OcEMJlPH5nFiS+fFwep4ZRhYR5WXJdiV7ECf8hmFka5JZbPbbULQuMCaBMjZxCiO8MV8uwR5cb4rTmNecBwhcYHmaIsdM8OV6zbWa+TG5vvw2DCHzoDDEIbJiSuP+iPkyyeDAwXzRmPtx0r7OdYXrM+dMst9oZMCRhQVPzpvcDxFE86YwqggYUDN8FFTvlRCEdgijSghZcJT0K3MOM57JxKYc5fPDPN672fIcxPMPfLg/4rr+wDDOn533pGRsIhIRbMPyPxm+q5bkEuXeEwGeschcuWQKw5p7d7JfmX+0iMU8Q3G+5VkTQd4KIUty2PijJSABCcwdAQW4uWPtmiQggYVNoDNziLKTODW4KS+lku7WvolnLgnKWuBAPnlh/6wFtXVktRHlSTQsNfjJdNs2jBJqOOaJoKcVJ9SC2vgFujFwJMOIaGPKphKNvCKslKbqJS4t0J8yL5tVPe5fHVtwVhjOEBqR8syvR/YrGa+UUiPyGEczDmXbYAKU78QRSvACEfGlwZUMD+bh4RyA00MH3fDRRAQ3jiKc7ziNaFyHiJjfKQyHMg6nL4XhsLdJoEkC1XMn50RK0pU5W18er98WxjkAJyeGYMw9gK2bAHxKQAdcydCgBDdzZSKwU9oTgYOAkOIkRlB6ahgBTJ33r0uZMZmWBMxwv/7ZMAJoEDKPCcMRzz0n589yzeEenrlIKf1nJmG9kYNoiZDJ9eeZYQjwZF9z/TkijPtSlqFiCKUTbd0EOGbLvGQIwtwjIQ5RErGMzSIolW+TrcV13vv6wSOKOcW5V+e5knsmzqGMTZ7dCZzdKgxhziYBCUhAAhKYUwIKcHOK25VJQAILmEB50KFkBRGGiBrnhjHXzjfDKGNTMoiIVOSBkwhPWz0CZGbgQCaCkzmgaDykUyJxxzAekFaG7RJm5kY9pmUpHsp5kCfCE34IG9NhzPtm1ttgluW4R9RgXogVYThAqg5N5tJi/JKxScahc5kMH58ELjBPHs5iSgHRyHCl4WjCKcd4ZT4OnJ+23gTK+GQ+GI5tGkJxr2bggqNorgmUcnOU6sVweDJWCQiZDiOziOs8Qhwi8cq53sBFsj6cwwiYZGwVRrBFZEMY4pjH6c48xJ8II8CmGrSgQ757R+8abx3a5sa8eZTv5L6+BM1xbiVbGAET0e4Ji2SszMdmEuRB6T7ufQjy4jnp4WFlbq37xWuu84ibZHFRQpGAOnjbBhNADCKznaAZqoQwzzjnT+6fSuOZlGAlzgUGKw3muSw+JgiJAJBPtRclq5BzLNMa3KnNluA6nu9tEpCABCQggTkjoAA3Z6hdkQQksIAJFOcFZT4o7cWDI5GITOJOJtwfwnhAQtAgW8tWj0BnVDYl/XjgQcysNh7eieTGybRjGNkxtm4CnTyZL+KSymKUSiW7iId3RCOiwCkTZCnP3qOp8MTJuSqMTC2i5EuEMQ66auaWY3I0AjjqcMpzbJOBUHUc4WjifFAyYEfreWktTTYM5U8RNcnQfG4Yc0MVnpZOWlrjYb5/LXOJkg38hsqG4Iwni4N7KLKLKP/FfK6cQ3HIk/XOuLVsd/feI4CG8uYEgFBmjvvMF4URAEbrDLDhHhRhswQ4zPd4WGjrR1QrmWy85l6eMcv1nozC48P+2N7ou8df7pPI2GRuZ1s3AYRhhF+OX+Z6owQ3YhBzkBYBvnyLgBre45pFBhJzkdq6CXTey5OZSbAS85LtHkYmMedK7uXhyXx7jM/9w8x2HTyieA6iRCfP7xzvnEs5X8KWsr73Cft42CFhzKFpk4AEJCABCcwZAQW4OUPtiiQggQVMoDzQEC1HKSCcINykcxNPmUkyD5jbhPKJzGNCdF2J/FzAP2veN61wxQFPOSWy3ShJx0MRjuRqw8lE5PyP532rF+4GFJ5EFe8YRvmf68MQMhiTNMRkJr5HeCOylohP22ACjEfmz8PpwVwmpRXe9403EOH/JsiBBAovMgnIOKAEGGI6zlBKdlLyhxJ0ZMQgzvE588fYhhNYHovg+OS45hpEZgcR3Y7J4excIo8A12lK+lEFgHMix3EJmMGJzH0Sc+RSvhshjvsp5jnaNIwSlLbeBDh3kmVNphFzu20QxnxF05XFETWoFIDjmGs/c7/ZugmUgDqqLTA3JhUs7hzGNYiAj/8NI/uF+XJhyTWI+31bbwIIQMypheiGUEklAP5yHqAhsmOW76w/gsq9EsIwpeMRiUvj/mh5GNd7AuqoCELpWeZ1pSnADeYMn/eE8RxPYAPHP8c+JVFhzV/u9RHfbRKQgAQkIIE5JaAAN6e4XZkEJLCACfCA/rkworqJkMWJtCqMqM81wxA4tm5vP8vyQGTrT6A6GTYlfyhfQ6YGEbI8EJFpdFwYjjrbcAKFJ5kGsKMUImIlpRN5qOR/hKQiYFbL/Q3vfWkuURwZL46fT9nJB4etCquW88LhzMM8ZYE4N5gR13usFJbL42McnGWuDZhS4ovjHtEdJx0Zh4xZhHnnKqt/7HH+pAQVY5Vr0vvCyCgmqttxWZ+jS45HoAhFlOG+fxgZRAeFdVYHQERCBEGQZ1mP9d7cSxYRmRuU8OS8SNYgjczXfcJWtP/n2kTmO+cC5owz+7U304fG29zDcx3i3qicHwkCOzJsWRgBIQjG3FMxZ5StmwCi+gXttxGAuGfnesP4pJQ847VUtGBs8j5lVA8I+6dAexIo90rcW3JvxBx6jD8CFXj2pJG5SfUVghJvG/btMLI2O+eEE3FvAlx7mMsZkQ3BmOw37j05txLgsFsY2W/ydARJQAISkMCcElCAm1PcrkwCEljABJbFtuHY/EDYVWFkGVB3f2UYD+9EI1OajlJqlKm01SNAKSrmK2HOJ8Q2Hs73DcMJj6P+M2EIcs5VVo8nTg/meCOzDacmUchEd5KpSeQsZcCI8DRDsx5PliKbA4GdOckoTUMrIhzODx7UOeYpqWYbTACHHBmDlJ6szu1GeTWcH9x3kgVL+TTPo/VGU6eTnfJ/nEP3DlsVxtyamKVm6/F0qdkTqAYnkBHDcb68faxzLeI+qYxDApYYp2TI4Wi2DSZA6cl/hXENQjSCK/OWcd5ETCLryAoB9UYR2ZZkEFHO78owHO2U7KViAA2WpXIA85nZugmQQYRYQRYR9+4EfVAunntL7pl2CiNzkPKI8OQ6RalZhGG+Y+tNoAhwlOGmPCKZrMvCGKcr28w7K4TIsj6BIqrxPERQIs9KjE2uS8xN+NkwnpFsEpCABCQggTknoAA358hdoQQksIAJlBt3ojgpocak4swHx807pUI2D0P0KA/xC/inzOumFYfxLWIrmNeNB3ayNUrjc+YyoOwfzHmAR6BzcvHBu41obgQ2smB+GkZkMnNyUAaMsYrjjshZnCVEzxqB3JtnGZ/MV4RIxNwbZBLhNCKjECGeRvm0XcNwIjNxu/OZ9OZZzps445hHD1aUSqTdtDIOLZ3Um1/1XRjBkzG5ZRgOeErJ4pBHxDi7wpMSnsxtwnyPZMVYjnI4X5cYj0A5d1IZAFGd7C0yYMh0ZTwSSMP16KPt1SDY0by2D+ZOqTkyshA1CUwqbVm8IKhhj/YbZMhwbuUe1PvQmUzL9QVBjYAksoc4hxIAVrIMqxkvZBxynjX4q/fY5D6Te6DDwyhBSQlU5n2jwRqRk/GKwME8ccz5RsASIh3Mbd0EyvgjK3hF2NvDPhjGvROl5Tm2CU5kznE+K8EM3jv1Hk3lesQ9J89HGM+bZGl+MgzBbVkYma68piTtX8IIdKgGkzhWJSABCUhAAnNCQAFuTjC7EglIYJER4KETZwgPPwhFzLfxtjDmjSjO+UX2k+Z8c7m+/DrsdmGUraHkBw89vF+ccUQoIiCRbcgDp20wAR4ucXggEpVSKsyt95v215i0nchZSqkiHNtmEsDhViJh+YRMLKK4YUWpJaK9cSYxdxElgZhvh9dkGGK2/gRwZjBnJsc0zjccSSWKm88wnJ22egQYp8yxhdMIZxJOTUQ2RDiCGfiM8ykN5tW5C+utwaUkMDsCXMNxcuIgpmIAgQk43plfi6xMApjKPFtkwOs8Hs6ZkomUTENo+0RYNXCBb3ONuiSMcp9wl2l/ppwfCZS7ZRjlO7lvp1XF4CKEyHHw2Cx8KIF41zDmwV4RVrLXEeUITKSMJ68JXKTkvG0wAc6PBNARxFDuixif3DdxjWceZ0r68rxJxpZtMAEqgywL47pEECLBCdy7Uxq5zFFaevCYdzRJQAISkMC8EVCAmzf0rlgCEphnAiX6jXJem4bh6EQwKg2hg/lLmOOEGvJkICB22OoRWCsWY84sOCJukOFGmTQ404w+rMexOIpwJjEOcXZ8N4yoeOYuw+n5+zDmk8AZyoMoc5bZZhLgfoeSVBzrOOQomUTmEJkbJbMNgQNHEnOdkJFAqU/ETMR420wCjEvmdUP8ZW4N2uPaXBmTPwojWxPxvUTDe8z3H0U4jSiX9Omwc8N2CaN8GudPnEo45HYMowwqmW5kGSFulPl5HJ8SmCsClJakZC/BChzf1awiMjnI0uJ6xHWJ86ltOAEETMpMUmKSMt20krXFfJkr2p8TsIRz2XNpf6YEJGwTRgl5sofJ2kKI43pOc9684eORY5p7piIOEQCCOLw8jFKJHPdkuXKtqo7V4T0v7SVgyrFLWXPu6bkH5X/GZLmPIljxpWHnhN0ljPMB2YW23gR4DuJZk6zslWEEfXIPCrdlYdzrKwo7eiQgAQlIYEEQUIBbELvBjZCABOaYQHEYUbaCuYgoVYMQx807mW5EJ1K+795hiEc8GCHOOa/WaDuKB0zYIhZR3o8oWuaIIZrbEiCDWVajNIk8PiSM8n5FLCIDjtKdlEYlKp5lKEGJ04l5OGzdBGBDdgElOslqZVwyD4xtdAKcJ3F8UJ6TqHcysEpmK4553icinjkzieDGAWIGXH/OON2OCOPcyLyYiGyUqUKEq5ZI26TNFsYIHDiYvS6NPn79xuwJcO7kfuitYYe1u6lmbJHJhZBEVvsfZ7+aif0mWdeIalyLSkASP5Z7JK7hlPTEAf+zMEQ47kMRNanGQKlkMzjqDQ3mIiWAAUc89/oEgFE9gMwYWz0Cy2IxrkFl/lt4ct3nvp7rDwEjlPor4lG9Xl3q4EBAwA1CMQF1tCIMk73JmOUei3srAm0ohW67gUA1AIGsQUpMcj9fvcckQIzxyXvcJ1mi2xEkAQlIQALzTkABbt53gRsgAQnMIwEcRcxThoMYJyZOD+aMIOuFDAMnvB995/RyDuFEwplMRiHlqYicRfj45ejdL4lvIFzuGPbXMJzxlJbEUcecHOUhkowZMrmYR6/ME7EyXjP/iW0wATIJ4UeJH7K0OA8QbVwan20QdmGYzrreLMkyQDDC+YEAzPFM2c4SEc8Yxtm5Qxil08giPDIMp52tmwAZQ4hwHONkw5A1yLn0YZVFy7mVvziccN4hdNr6E0AEvkpAaQSK45N5iyifhhOZzOvSGMefCiObi/kJbTMJwG9FGMEgBHq9qc3q2vZiON/J5iCTkPMq4jtiB0EjZGXbBhOAL2OwXLe59+SeHq5PDkM8Zl7NMpeZPGcS4LqNyMY1m+AZAkII+iK7qIjF8EUQYgyvGbYqjAoXPi/VH00ELFDOk2oLzLF3aBhBnwjF+4VR6WKzMAQknlG5L+C+1baaQLkX4v6H4xnxkmdLGvfviG4EhBHUwHMSPCk5b5OABCQgAQnMKwEFuHnF78olIIF5IFAcSJRIJJqYKO4yXxYPOsUBQjk6IrhxNDHfjm0wgZJVSKm0MqE4ogYP5ZSp4yGe0iBEdvKwTsZhmS9KtjMJLIt/mY8Mh9HZYTjeKAHEXFBct2FdIj1x0D8+jChaBJCSISfTmQTgVh7McXyQ+YrgAT+ccR8OQ+i8Ioy59hCJKU9pdlH3SKqK7MxdRGYBxzZl6XAY/TSsiMJ3j9dEe1OekkyOPzswuwhUo7kRfgkEQUi/R3ucwo9sGJrZL8MHULkWcRxT4ouyfecN/5pLjEDgDrEsWdlcoxibMCY4hMxsxi/zZxLgYLuBQDl2ufekNCcBCg8KI+uNbBfuk1iGzC3ehyWCyDfDyILh+m/5xJkjqhzrZAYTDPKiMK4/zD8KsxLkRVAD54LnhZEpozO+95GJ2EvwIdceyh4SOIewQcYr1yl4F7GY+/eXhSGAcK5d1btL3+1DgOck5swkkIaMWJ5DuUdaP4zrPwIoIj2BeNtLsYsA50ayL+GIcMlzJUFh1YaYTIAt96mcF2wSkIAEJCCBeSWgADev+F25BCQwjwR4UCeCEwHuq2HVeUzWjf8p9zcdhpOEibBt9QiQPbg8jGhOnPKUpjkmjHnJEOOISMZZgmMeh72tNwEcIDx0MwZxbFKuinF4fnvxapQnry0BNLuR9Mz4Gg/tOEVhjGjMewifRB3buglURSDOoTjhcSIR1U2UPIELzHGCQ7mUT8SxV+bgkWk3gSLC4Xj/YRjiL87N5WFkYuJMRhQmM8FWjwDjD6cmc8CYPVCP2bClcHqWLOwN4zXHPwEgODi5tiNsIMiX0pTD+ltKnxN0xPxZpVHeHPGC8n5wJROGbI1qEI3X9nojhIxL7uEp1YnIxr0nohHOd4JCEDFoJbu4Xq9LcymyhRDRyV4n85LMdQKUCkOOc0rIl5LTjGPnIh0+Vu4WizykzZGS3AiZBCw+IoxAMD7jvpN7J0R3xjHnUu4FDGbozRexEuGd6xCcECwRkDkfcF2iXCoZm48ZvntcQgISkIAEJNA8AQW45hm7BglIYOEReGJsEpFzOIcpl/TqyiZWsxEQich+KxGfC++XLIwtKuLlXrE5OJOYrP2MMJzxe4YRmUgkMg9KpUTdwtjyhb0ViBpExhOJTDkaxiGOELINSgYcThLK0e0SVhwiC/tXzf3WlfFJdiuscMpR3gsnUmlkGTFWydzCCfKksOrcW3O/1Qt3jdXjnRJ002HMW8T7lKZizhiijRHdT23zXLi/Zn637C6xes6JCOicO7k2EbVNJiYNMZhgEeZ45BzK2OXadf38bvaCXXsZm5SeJGDh62EE2NhmR6BkXOHMJHudzK3vh1G6FycnjaxNBCQEOc4DZezObo2T+y0CkLjffHvlJxK0sHEYAV84i5lL86Cw48Isfzx4LJRjnfvNfcK4XyrVFk6M11QNQPRgTlwCGBDivEfqzxSfEAYjgr+4J1T74KIAACAASURBVEKAu2ObK9cdrj/lvokAJQLFpgfvpiX9aTl/bhsUPhRGoBeCENmsnAc4H/QKDuEegDFNMA7PVbbBBMgcpNwk9/gEe60K49xKOV+CQrmvN3vYUSQBCUhAAvNOQAFu3neBGyABCcwDAZxzPLQTfUz5CiIOydpgnqLSLPU12o7BGUIJxG+HUZe/Ohk2D0RMJv6jMBzK1c9GW8vkL13GHUIwhmMT5zwP5DhAKUe5Kow5txCHcTDzIE8mp62bQBHUKfGDcw7HHKxKCSrKzhZHJ9HxOEP/GFZKKMq0NwGcGWS04dg8IKx6TOOs/1gYzBGPGbc4lm0zCSCq4WTjGKccMk53BE3KHlfLzHK9wjmPU5RzKaXpKJdq602ArCGc7vcPY44thGB4IlrqgK8/asq1iON4VRjHMCIw5SUZhwganEs5xqvNe6duxjjeEdKZ05UyvIjtZLyV8ybnAMYr904EfyAac12v3pPW33NLZ0muQyvDKCNNSVSCkyg1yfjkes71CRGO+wAc9PIcPjZuFYvwfMTcuAhFlOrmGk4GJ6XOKZn6lzAEeOYuqwrKw3tfmkusip/NM9AXw8gghi/PQgQocY0qAYvl3Mk5lvsD7gkMAO0eM4zFZWGUQuaZs1QAeWR7rJJVyLmBjOLOspRLcwT6qyUgAQlIYEEQUIBbELvBjZCABOaJAA84lKdifiJu4HHOE6Xo/BCj7xCEDJyezLVDVhYNpycGWx6CKFXHg2WZzH30tUz+N4pgRCTnOmGU6Szlfcg0IOoYBzzlVoicJdOIrC5bbwKF5/viY8TL7dpjlPsfyixtEUam2zvCLJFYfxRR4ovzJeOPrDcarOFKhDyZmvD+fZjzl/TmilOe7GDEdeYcpWwvr4l6p+FAgmdxwJEtRxYxjntbfwJbx0dHhXH+JBvrBWFkbdEYowhxZhDWH0GIvzDkukMZOsYtx/SBYQhHOOAR41bV73JJLlmuRcvj11MqDSHujWGUmaNxrFOSDicywgaZMsyzZetPgIAZysSTmUX2JdcjMggJaOC+k7l0GbfcRyF02LoJcI+OYMG9O9n//9MehwiWpWQqIiYlkRE3Oa9yjefavqVA+xIoxztlEgmYY1yWYAWYc9/O8c8zEcIc49N70P4DqmS8cu1BFGbewavCCKpBeCfbjcY1ifskAmx5TmKcEmBL8INNAhKQgAQkMK8EFODmFb8rl4AE5ohAeRDinMf8BTg0iZLH4UmjPjwlgHgQYo4tog5xclZL1M3Rpi7q1SBiUIufaFnm3qlGbjKfAQ+gPMCTYWTrJlAeMIneJrMNpybjkDmgqo2szQeGIWTirDe7aPBowqmJwxOnXBEvPhCvmegecZNzApHxPNTb6hPgeMdJh+BOJHf1eEfcpCQd2XGKHYOZvjA+Zn43yn0R/MGcmcxHWEr5IcThxMPxSRaxbTgBxF8cdc8NoxQVWRtka5V5jMq5dnhPS3OJwodMA0RhyvuRwcU9U8nSICCEjE0c85eGMX8hY9jWTaCaFUjwAvecjE9Kzv4s7JVhnENpHO+lrCcZh47VwSOK+3Yyssjc4jqPMExpPxrX+CeEMUadJ7c3x3vF2whBjDkyq8nORNwgs4ixiMBRMocR3AhwuDiMecwQN2zdBMrxzpjkuYeqANwncf2uHs98zvMSASMEOXDtt3UTKM/wZLVS+YMMYURLru3MnbdTGM9BXO/Pan+d8Uwg4y5hjFfngXNkSUACEpDAvBNQgJv3XeAGSEACc0iASG4yiDj3UUqFB0gmuy4NR+irwhCPeGC31SNQHjZ5EOKh6LIw5o+gJCVi26ZhlAGj3BLOENtgAivj40vCcG7iWCKik0hO+DKfgQLmaCOIEn5kayG2cQ6gzNfeYZT6oszSYWEIwxgP6rbBBIozhDF5bBhCMPNtleP9zvGaiGPexwFi602gcMTZuVXYOWE46ch6+XkYohEl1GgEhSDEI4LY+hMoTMsSZLfj4IQv45G5yyjxaatHgEAFMjUQLh9a+UpVUGJ+UrK2LIPcn2nhVS15TAUGhE3uOxGMKYXOdalkvNfbQ0t3qeoYhAIOdwQO5ncl4It5obgPJZAOodPWnwDiD+OQigAc6wjCVTGIgEUFzNFHEIGdbwkjCIl7JcTNUt68eq0iuMZ7z+F8CfpiHlKCQkqwB/f3y8PIMuTYpyJDCa6lRwJDeCZFuLNJQAISkIAE5pWAAty84nflEpDAHBAo0YaUnqO0ysr2OpmgHYcmDnjK1/y4/T4PQty8l9Irc7CJE7WKu8evofwcD0lEIiK6UV4NJwiO5lUT9Wvzf8zm0eWXw4jcZo4NGqVTlocxNouoURWO87di8nrEwYTQxpwRZBzghEcUphEhi+OTMkw8qNvqE1gWiyIUwY5zKMf7umFkziDQKRbXZ8mSnCt3D+N6RQk6SoLhaCKymzmiLI/czbPqyMQZx5yOlEks2W5rxmvOpxhBDGQVkZFQddKNtpeWxtJkBpMZAyvGHvNsIWgwXxGtPEOa4VpvPNwjFmNuTMohk+FaGg5iynMjvnPu5Lq0X5uvbGeyrR7rHNfcD60XRqASjXKTzPsER8rTcS4ga2tVvV20pJeiZB/js7AkEJHyqOV4Bw739fcN4x7fuZzrDRfuPcnQQmSHKdnuJbCGHjqDRur1uvSWIhuTgBBKcRPISen4ant1/EPpXsbnr+W69AaIv1gCEpDAYiCgALcY9pLbKAEJZBCgtArzwFAOhIdynMPcsD8sDCcxmVsIH6vCOiNrM9Y/SX1U+RB1DEucIJRDZB4OGjX4iajFQcLDEBkcCB+2wQRwxvFwjigEN+Yo3LP9/0/iL2Ic5Vf2F2QtAsW5QeYBbJeFIQwzVwxtkzAyDzg/7FWrx6W3UPV4J7sNBwdCJsd7KYlIeZ9Soo65ZJgPkmhk23AClJck+p1ySn9rL06ACCVRyUhAKMJhj+PeNpNAdWxy/OLs5FrE8Uw5Os6VJaMIxx3R8WQa4siz1SOAcERFAIQ4RI3jw3DMw9FWnwAC8HQYjmTuhTieV7a/zvWJY51jnnKeZM7YZhKoHuvc/5DlRlAS13NKITIXIX+5HyUrk+A7zgNkE9v6E4Ar90lc28nK5PrN8U5WK9cjjnfmxiZz68ww7uXJ5LLVJ1ANrLl5fI1yswSBlblJ6/e0tJdkzlyq1JCN/dswjnHGL2IwwYsE0+4cxrXfJgEJSEACElhwBBTgFtwucYMkIIFEAjg6uDEnk4CsAhwbKzr6xymCyMG8WjiNuXm3DSZQsgqJ6uRBnchOMoeYa4u5yxCMeDiilX0g094EKJH2jbAyxwbzZiFc4Pgga5BMDoRihDcyEnDEM6aJlrf1JlCNKL5bmxt8KUFTLaPEuIUtDjuczGUfyHUmgXK8U74TxzDZMGQRUVqWsYtYXEQOS1UNHz2FJ1HcZLZxDWJsMm8RjiMyCct8ejhEmZeUoBFbN4HCcp/4aI8wsgvIXqdU1blhzO3IXJqUm+6MmJdnbwL9ApAo44dAhADPeP1SGJkwcq0/krgecb7kus+5kgoMzP9UyqMR2MC9FNcp536bybXwYI43jnXuiQgAKcIlWeyUobONRmDY8U4pT+6NuAaR2U7QkvdKvRlX7z15HuLZk2egP7cXZ75C5selYgDZrZSUn26/Hm2vLY2lyzHPGKRiDc9DXMv/EcZ84yXgE+48jx4ZhpBMCX+bBCQgAQlIYMERUIBbcLvEDZKABMYkUB4mi/BDSSpKqvA/ziLEIW7WubEvTk6EDSJqcXwiwtn6EygPmDxcMuk1JWuIhudBk6wN+OI0JhsGh7LZhP1ZviE+Ym4inHHVie7J4DikPT5xMhHFDUceQnHYUZ6qWsLK8XoDgTI+Oe5xxlHKj1JVZGvgrDs6DMcxjWjae7VZwtXWTaAcvxzvOJGOCEPQ4JwKS0r64VQigwvB2DaYQPX8yXgkq5XSqERu3zGMrFfmz6PE7G+EOZBAcc7hlCPzhWs4WQWHhzFvGcc0AjvHPvPvUEJxZZjXpN5Yy9iET5lXhzGI4704kLlXQkAqJVEpnYjIaRuNwNaxOMFezDuKYxnh+ONhlj7vzbEc64zLcqxzHWJsvr7NkmoWsCQ4iWOfwAVbfwLV4x1hbXkY15/O452sYu5TCWCkUojHe2+m1esK8wwjCHFtogoIzAgSKWWRySZGSGZaBEqm2gYT4D7pXWGcJymDyn0ogXM8r3Oscz7lXvSTba4GLziiJCABCUhgQRJQgFuQu8WNkoAExiCAg6gIa5zj7hTGhOKUSCMy7oCwEiXbKcSNsdol99Xp+MVPCuNBskQbInISHc/DEdHdRMw7p1b/obEsPsLpzlxvOI8pTcMDJPM+0aoPkUTMkn2AYEQpRVtvAsWphHOOrFb+ImY8OwwnEozJOEDkQFTif0ou2QYTwFmEs53Ssjg24YYz6RVhlKdi/pgHhjEHBw4nW28CxUlH4ALZMMvDloXh+CQyfscwyqcRGf+1MBxMlP6y9SdA6UmuRRjXeErScV0iUp7xirDB9QhnJ+KRrTeBcu7EefycMEp2cj+FeEkZOpzIJdOVTG2u75xHbb0JlOs35efKPVLVSQ9bzp8HhXHOxJFsZvtMlgR2VTMsKT3HcUwmNrxgizhM9htjkXMn91Lc43/bgTmQwCjHO9d7so5s/QmU453gOcQ3rt3cy5MxyLkShpRP5HpEq97fGxTSnyvXbIIOHx1G0CeNe02YMucjfMkg5p6J+0+aPPvz9BMJSEACEphHAgpw8wjfVUtAAo0QYF6NjcIoK1nK+twuXlM2bccwIrfJdONBqERyWiax/q4oD+04jXDSMcH9RWHVh0kyunAeL68wrr+GpbFk9QGRB3NEIjLcvhPGgyQOzxItS9Q3GW84PcksZPza+hOgnCRza2wfVi3vScnJt4ZxLiBDxjkJh4+icryTLcjx/sgwnMk4QSlBiaiJg5SSYMvb47OM2+G9L80lOI6Zb/SNYWRjrgyD2dPDbtv+jChvGtnEzFFqu4EA2RrbhlGqF+c7mUQ43hEwySbg+H9WGFmZ3AvAeEUY5ZHNKuw9ksr1m6yCE8Mo5fXmMLKNCGIiu5Vr0DFhzANlpla9I5KSkojr7wl7d1gRMKv3S1zPfxGGgMTcUOWcW28Nk70U1xnKHR/c/pnMOUx5cwQOsobJwr5n2PIwRMynhL0tDMc83G29CYxyvHMvxdyPtuEEmJOQ8UklECqAcN7k/p3rE4ENy8IoPV2eTYf3uDSXqE4fQSAd95dMI1EtxU0AA2U8eb7nelQEYs+fS3PM+KslIAEJLAoCCnCLYje5kRKQQE0CTGT/pjCi34towYN7iaAl2wjHJg9H/OXh/nVhOjhrAq4s9rx4TUlP5i9CbKOV7EMcoJT7wmlPCUVbNwFY4YjnAZ0HR0RMMozeEoYTHn6wY04olsGRTClFRaPhowmRiGObrCyc9DcN+2f7a3An4w1HPSVAbfUIkJlB5iCiG84R5tdCBMFZz3hFNMbhiZPENpjA3eNjxA1KKpHdhvjOfCaUmiV7m8+Y55EMDo5/2w0EyLBGuEQomg6j/DGNbEIcnwgdXH+IlqeRIUMWLPcFlk4bPpIIWOBaxPUdQZhsDbINdg0jaIk5d+CImFSyEYb3uvSWKJlbt4qfznyEBIMQuMA4/EIYc7zS+BzhjdKpjs+Z4wSGXFcQMQn0KA527osIVqIcHWwJAqOKAOIHAjHC+zOX3pCb1S+ue7xzreKabxtMgEornDMp20kGdlVo57r/8zAy5Lz3rDeSuL4jtnNNImgOMR6mlOxHfCuBjIpu9Xi6lAQkIAEJzDMBBbh53gGuXgISSCeAg315GBHw24QRGff2sBXtNXHzTmklRDoiEqnRv25YNbIufaMWeYc43Mk6QMgo82rcMl5/Pgyxg7kNeECn8T6ZMvy/LIwHJ9tMAsyVh/C7PIzoTeYtOSOMcfrdNk/KqlG+E8YYcyDY+hMgi5Cxh5MTRxxMcXLg8KTxgE5jOTJiyJzBqcyDvG0mAUpzklUAMzIyaDiKEds2DsPxgbMY0YhAB8Q5HKGU/ysZHjK9gUDhyT03gjCNcYgoTDYmYjsOelhzfaKcGgIT51FY224gQDbGOWEIQL1KzDHnG1muHNsrw3CEcn3ims85wdafQBE1uC+CHdmCnCv5n3sArkOU+WQcc92yvHQ3S+Z0IwuLe0oy2zgvIqqXDBjmJGXcMka5VjF/JqIxx7vBNd08yX5ByGCetw+0P6YcN/eXiPE45MmOYSxSap7sIph6Hepm2fmOx/twRqMuQbYwZScZi6U8bzUAjHuoVWEEKnnv2U13/XgLoY37IJ7Jue/kGZMS8lQHeXEYWdk0RbdRR6fLS0ACEpDAvBNQgJv3XeAGSEACiQSqN+Q4iKgRTyQskzP/NAyHPJGyNB6KeFDHgUwGgq03ASa2p+wh2VlEvJOlgSOEbAOcmtNhiJ0Ic5T4gul6YUQnU6bSNpMAzjnm0yqZGQhBOI2I4kZAYg44Mg1w2lNKiffJkkHkIPvANpMAjssXhpGtAUucm8xB+LIwStJRSo0yVavaX1sWf4n6ZnyW+SJkegMBzpmIGFuEcUzjROZ/nB7MPUj0NqU8Yc15AIc85wHGrTy7R1InT4R0ju/iRELQxLFU5jHCAcX8RYxZRHrbDQRwvpH9hkMOxzutc64X5nrjmEccxnlHtiuZm4cJcigBgpFeE0aGFoIb2UdwRGzHWcxnBDSRXWwJym6cZL9QAh1WBB6RtU51AOYrK43rP855MrrIgkOc49xJVQYdyjOZ4oTn+Kb0KRUrYIb4TiMTm/t53mc5zpuwXhGGUGwbTsDjfTijUZYoxy8Z15RA5R6UuV5Lo1IAz5qcTwmws80kwD0nwjr3lzTKclOKn1KezH3NfJlUsSF4gSoB1whQAhKQgAQksNgIKMAttj3m9kpAAv0IlFIf5bxWMgeYoPlpYZSjQ5TDOYfjmBJftsEEcMIRlQ3LH4WRuUVE8oow5t2hUUYRkY5ydDjoEemObS8j35kE4ElWAZOzk8Hxu8rHPHzyUI6QRNk5hA0yZBi7O7b/yrObJ4IGWa8IRUR0Y5ShwulOJhECJuI74/jSMBwjiJ/MrWXr5snxS0YW2ViU/sKJdHgY503GL9zI1kJo53g/K2xF2BeF2UUAXoN4EvzB3DoEMCDKUeqPqO8fhhEFbruBANd1hEoyhSltPMj5RmYM45SSdTjxDFwYfSSRmck5gFKUx4UhbCJ+4hylsoCtmwDzOpHhQrYWxzUBSASHLA8jCIxS6JSgIzuLMcp908ow7q0Q4hTgbmBaLd1HVhGZwwQkcd9UbWQWUnqe8wHVA2yzI+DxPjq3zuCP0gPXHsYqmZrcH5HhSnAdwTicOwlYIqjO430mc+bBJLCGspN/CeN6w/36AWGIbpwzyWgnu50yswjwBC/Y5p4A4j0BTnUac3My3m0SkIAEJBAEFOAcBhKQwKQRqApx1fJdPAwRwU0kHZHKzvs2fM8jVOI4em7Yr9qL4/xkXj2cR98b3oVLVAjA86FhJZuQj8pk42WxUkKNh/aXS28ggTI+ydLg4Z3GwzplJ3lwR+hEQEJ8XxZGWTDm51gRRik720wC8OS4pjwvmUM05nncIIzyfZxDETzJMCDbFXGj6iiVZ32eZBduHYYgjxMJ3jg0cMQjFhf+Ml1NgOwBhCDK0fWbP6c4NLnGk6VFOUAcdbaZBIrjuPPaU3UIIw6TCUdAA+cABDiytMiGJyPBNpMA90WUlSNLa1UYWXCUQkY4Yg5XMrQo481nZBHD1DacQBmrzJHHNZ1jugSFDf+2S0DA4725cdB5Di1rIkOT5ybupQhW4j6J6gxkyHL/5H3TzH3CfTsVKzh/EshQ2lfjBVUCuFfifpNzKM+ku4VxX0+FGzK1bXNHYK3brn2jyy69rHYFVQIfEaUV4eZuH7kmCUhgARNQgFvAO8dNk4AEahHAOUzGCxGHzFdC49yGcYdYdSpRdhLHJs4P5jWx9SdA5iDOYcp9UTKFLCOcw8xdhFOJTASyi3iP9uswBA4cJWTA2WYS6OTZGT1bfSCn/BxiB2II0fLOA9U9mvqNT6LhyTI4KayU/iL6GHGDKHnnLep9ZBaeZF5xvHOck42F2MEcWgiWZBniUCKCm/KIzFlYzgse772P9zo8l7UZv1eIfQkwzshkpYQ0EfD8TxZ7r3Mj2diIHGQWcg2zzSTA+ZDyh7TqvVInJ8r7IbqRnU02Ntf1/YXZRYBrDlH+zEXGMVyu7QTafLnNkPslsgb2C+OcQNlpghhsMwngbP9sGBmEZGCTxYqQyXWbDGHEC7LbyRqEuW04AY/34YxGWYJ7I54fydAqKkQ/QY3sTfjfOYzsWFs3gc7zJ0uU6gDcexLcwD1n9d6dUpRUYCDIzja3BBjTfz79axtMrb8u+nP/dv5F101t8QSSGVuVcs6d2810bRKQgAQWJgEFuIW5X9wqCUigPgHm1GB+l5uF4eTA8VYms+ehqDwg4ahDjMPpwSTZOEsUNvpzZo6sHcOWh+GQpxVnO2XVcI6QAYdjjmsJ/yNwEpVI2RXbTAK9eJbxWcZheYhnTCMm89C5SpA9CQwan8y/wxwRzKWlQFRvAPXiSdYLAjBlvzivUkINoe79YUR141TCUWrrJjAKTzIPcS4vC3NurW6WJYiG7AGyChCGENlpvcqAIbwhHD8ujLn1bDMJIHBw/FLOq2Sxd16Lyje4rjPPJucCHMgIIraZBP47/iWLlevOdNiK9sfM8wgz5i4qJc8JaGKuMrI9qvNDyXQ1AVhx3OJs59qDc55qFWS+kEHBPJCMSc6ZcOZevgSBybA3AY/33JFBCW6YrgqjzCxVFWjVYIaqIPfo+Ow5YQhJnCNsMwlUz59ctwtPliLjnfMApZD7XaP6lQKVczMEWgLc736w4dSd7jhYgDv3vOumNnlw6xZMAa6ZfWGvEpDAIiSgALcId5qbLAEJdBHAeckDDlHFRBuSEUfNeEof0EqZECJpKWnBHFtEItt6E+BBh1JTOOiY84XId3gRysbcb8wJxdxkzMlDeSWcc2QXkQHnA2Y30148KTVJWb/q+Czf3CFeEGGLI7mUVnSs3kBg2Ph8RyyKUETJGttwAp08yTLA4UEpT+YkJGMDJ0hpRCVzfmCeQhygtpkE5NnMiKAcIoIGxzUlq74RVuaCK9d4rkEELzC/JtcvW/fY5BpOFiEiHNf2V4aV63bhWJyaiOzfDPtEGM5mWzcBmFEijaAuMoQRNQlCwlHPmEVUJ8iGeyUckYxPSqRynbKNRoDMGMYr1yDuRwl0oOqCme29OXIt8ngfbYwNW5rjnVKJlIjneKcyAGOSAFAazDneCf4kU4v7KZ6RyNiydROonj95hqfMOddujnUy3gm4cR7XhTNyWgLc2T+4Uy0BbtMHtxLfFOAWzv5zSyQggXkmoAA3zzvA1UtAAqkEeBhCiKN8H5kZRMyTrUG7XdgLw5i/jIci65EPR79eLEKt/Z3CmIMH4Y0IZZyfsC2ZCUYgDmfJEp08KeGHyFEaHGGKOIfzjnFsxkF/tv3G54HxFUqBOc9GvXFZlio8cdhxvFO2k4xW5oKilWxCxucuYTiUKFNp601AnvkjgwwYMjIRhD8SRqlZnHQ05n5jzkfOnczB4zW+P/9B16JyPaeqAEIH51OWV+QYPJ45X5LNwRi8TxjBCduElXkIcTQ/MYw59O4fRoac907dTAuTcv3udZ+JMEyQHeVmCazzOjR4bHq8D+Yzm0853glQ4ngnmIHAz2owA6UqEZK4F+V8wDza3pP2J93Jk/MAmcU8f9L6zbc3m33nd2ZPoCXA/fLM9ac2GJIB95fIgLvXZkx3rAA3e9x+UwISmDQCCnCTtkf9PRKQwJqBACcITjgy44g+JuKYiEWi498VRmk6Wz0CXCfuG7ZXGAInD/JEzxN5TKtGe9brcWkvVXgiZPLwfkkY2YVlIvGN4jWZhe8Jw8FkG0yg1/hEHCrlvXDe0WrPGL7EgcMTZxFOJZzFZBiRjVkdn8wBSQkwghlsw8enPHNHCeLFkWFkHSFukEmMMVcZc0Nx7vxM7ionsrdh16LN41dTLpHAG4/1+kOAAC+uQTiOCfyqBtqQLUOGB59V5yeu37tLVgkwB3RrkiHbUAIe70MRzWqB9eNbVAQogYrleCeIiblzV4bxzKT4Vg8vPOG1XRiVLJjfvTNQ0ekj6rFsYqmWAPfzM9erJcDdZ7NW8Qwz4JrYE/YpAQksSgIKcItyt7nREpBADQLLYhmiYx8WRqYG0cjUlv9ije+6SDcBsl+I5n5J+++p8XfvMOd7m91ogedjwhDimBcGnkTPMmYpbYMTz1afQOf4RCRCNHZ81mdYXZKSSYzPPdvjE54c74hyiHM4Pm31CcizPqu6SzJXFE5Pyk7zPIOzE+Hded/qEly9XOe1iACQ6bBnhuEExXlmG41Ap9iBF5IyavDEMc/cuQpwozF16RwCHu85HKu9VI93qgYQEEIZZKpY3N7jfWTg8LxfGPefBCrCk/nhDKwZGWX6F1oC3FkhwN3xjmjK/dt55/1r6n4KcOk7wA4lIIHFTUABbnHvP7deAhIYTqCUTbPUz3BWdZYgw/DZYQhx9whD0GTOMuY3sY1OoJPnTaMLsjeZN8I2OgHH5+jMBn3D8SnPXAL5vZU5SPN7Xlo9Vo/1u8dPpwQlzk+DlmY/DorYsXt0QfACDmVKqFpObfZM/WYOAY/3HI7VXsrx/tJ4kzlyCaYjI9vjfXasC0/m12R+OJieMLuu/FYSgZYA95Mz71BLgHvAZq2pzs2AS4JvNxKQwOInoAC3+Pehv0ACEqhHwGjjepzqLkWpxNeE3SaMeQ5s4xGAJ/Pt0Hhot41HwPE5Hr/Obzs+5ZlLIL83r/E5TD3WczhWe1k7/iGj+Nj8ru1RAmMR8HgfC1/PL3u85zJdpjcoTQAAIABJREFUK7p7dJiBiblcZ9NbS4A78/vr1hLgNnvIRaxDAW42pP2OBCQwkQQU4CZyt/qjJCABCcwJARyeRHYyT5RtfALwJOKT8lS28Qk4PsdnWO3B8SnPXAL2tlAJeKw3t2esxtAcW3ueHQGP99lxq/Mtj/c6lOovI8/6rJpYsiXAfe/760ytP6QE5flRgnLzhzBNrwJcEzvCPiUggcVJQAFuce43t1oCEpCABCQgAQlIQAISkIAEJCABCUhAAhKQQJMEWgLc6Qhw6w+eA+788/81tYUCXJP7wr4lIIFFSEABbhHuNDdZAhKQgAQkIAEJSEACEpCABCQgAQlIQAISkEDDBFoC3Kk1BbgtFeAa3h12LwEJLDYCCnCLbY+5vRKQgAQkIAEJSEACEpCABCQgAQlIQAISkIAEmifQEuBOiTng1huSAXdBZMBt5Rxwze8R1yABCSwqAgpwi2p3ubESkIAEJCABCUhAAhKQgAQkIAEJSEACEpCABOaEQEuAO/l7d6glwD168wvZqA3Dzp2TrXMlEpCABBY4AQW4Bb6D3DwJSEACEpCABCQgAQlIQAISkIAEJCABCUhAAvNAoCXAnfS99WoJcNtsfoEC3DzsJFcpAQksXAIKcAt337hlEpCABCQgAQlIQAISkIAEJCABCUhAAhKQgATmi0BLgPv6GetN3WH9NQZuw4XnXzf1uIcqwM3XjnK9EpDAwiSgALcw94tbJQEJ1Cdwm1j0lWGHh11Z/2su2YeAPHOHhjzlmUsgtzfHpzxzCeT25viUZy6BvN4cm3ks6Ume8swlkNub41OeuQQWZ28tAe6EM9avJcBt+9Dz+ZWWoFyc+9qtloAEGiCgANcAVLuUgATmlEDrZtAbvDTm8kxD2epInvLMJZDbm+NTnrkEcntzfMozl0Beb47NPJbeK+WylKc88wnk9uj5M5fnXPXW2m/HffdOU+sOyYC7KDLgnvKw1tRvCnBztXdcjwQksOAJKMAt+F3kBkpAAkMIeBOfO0TkKc9cArm9OT7lmUsgtzfHpzxzCeT25vjM4ynLPJYKRrks5SnPfAK5PXr+zOU5V7219tsXv7thLQFuu4cRH60AN1c7x/VIQAILn4AC3MLfR26hBCQwmIA38bkjRJ7yzCWQ25vjU565BHJ7c3zKM5dAbm+OzzyessxjqWCUy1Ke8swnkNuj589cnnPVW2u/fe70jWsJcM/Y4hy2ywy4udo7rkcCEljwBBTgFvwucgMlMG8Ebhprvm/YxWH/mretGL7i9WKRM8M2C2vN9msbi4A8x8LX9WV5yjOXQG5vjk955hLI7c3xKc9cAnm9OTbzWNKTPOWZSyC3N8fn0uR54/jZ64T9LOyfuQgWZW8tAe6Y05eFAHeTgT/govOvnXrmFqtYRgFuUe5qN1oCEmiCgAJcE1TtUwKTQeDB8TMQtmwSkIAEJCABCUhAAhKQgAQkIAEJSGApESDI9wdL6Qf3+a0tAe4zp995ap0hAtzFIcA9e4s/0o0CnANHAhKQQJuAAtzcDoWHx+ruGfadsN/M7apdmwRGJrBxfGPV+m986dQaa9965C/7hW4Cx27+MbEkEvjIpQ9J7M2ufnDJRkJIJPDRTT+f2Jtd/fiatYWQSODn/8CPYssicMxpD8vqyn6CwL9vuZALLyy+XfQf/3ejxbfRC3iLb/0HEmNsWQRutPWlWV3ZTxC45szbyiGBwHVXXzm16uNH0tOysFY9xSXeWgLc0adtUkuA2+HhvwPXqALcPeI7R4VtEXZV2CfCDmRYj8B+r1j2iLCvhj1phO+5qAQkIIFGCSjANYf3f6JrUtV3aq/iJfH3ve3XvM/F4OTmVm/PEhibQOsma8OjXjO1xu3WHLszO5iaWvkI7idtWQTeeckjsrqynyBw+kV3lkMigS/f++jE3uzqe/+8nRASCfz478sSe7Orj528XAiJBP596+sSe7Or//iHglHmKLjN2fLM5HnjbS7J7G7J9/XP026/5BlkALj2ysunfveeN9LVqCJSxuoXYh8t39DHT9t06vZDMuAuiQy4Fz787FHZEWn3i7Dfhh0StkHY4WGfDNujJhDKxf4qDMGOSk4KcDXBuZgEJNA8AQW45hj/Kbp+ddgx7VUQNfP1sFeGvS+M7KKtmlu9PUtgbAIKcGMjnNmBAlwuUAW4XJ4KcLk8FeByeSrA5fJUgMvlqQCXy1MBLpenAlwuTwW4XJ4KcLk8FeByeCrAdXFs+YY+euo9aglwO2/5azoYRbzcP5Y/IIySLCUtdrd4TRID751XY8+SMXd929d6dfxVgKsBzUUkIIG5IaAA1xznf0TX24RRbvLeYUzeet8wojoeE3ZsmPWUmuNvz+MTUIAbn+GMHhTgcoEqwOXyVIDL5akAl8tTAS6XpwJcLk8FuFyeCnC5PBXgcnkqwOXyVIDL5akAl8NTAa6LY8s39OFT7xkC3H8OhHzJ+ddM7boliWgjCXCnxPIIb0+rdL5W+72d4++KIXt2y/j8hLC7h306TAEu51CwFwlIIImAAlwSyB7dnBvv7RdGyvSrwsh8I42a9rgwMuOs69ccf3sen4AC3PgMZ/SgAJcLVAEul6cCXC5PBbhcngpwuTwV4HJ5KsDl8lSAy+WpAJfLUwEul6cCXC5PBbgcngpwXRxbvqEPfudeU7cbIsD9NQS43R7xSzoYJQPuolj+o2H4UKvtL/EPdf07368uQ13gH4YhvB0WtjJMAS7nULAXCUggiYACXBLIHt18KN7bNoy54HZsXzQQ4WgIcjuEPaC51duzBMYmoAA3NsKZHSjA5QJVgMvlqQCXy1MBLpenAlwuTwW4XJ4KcLk8FeByeSrA5fJUgMvlqQCXy1MBLoenAlwXx5Zv6D2n3K+WAPeyrc6ig83CLqj0dGW8xnq1a+PN14W9pePDn8f/p4dRjrJfe3l8sGcYlceY/21lmAJczqFgLxKQQBIBBbgkkD26IbvtiPZF50fxl4lDr2ovd2r8PS1s3+ZWb88SGJuAAtzYCGd2oACXC1QBLpenAlwuTwW4XJ4KcLk8FeByeSrA5fJUgMvlqQCXy1MBLpenAlwuTwW4HJ4KcF0cW76hd53ygFoC3J5b/aTXjjgo3pzus4dmK8CtG/39JuwFYV9p970y/irA5RwK9iIBCSQRUIBLAmk3EphAAgpwyTtVAS4XqAJcLk8FuFyeCnC5PBXgcnkqwOXyVIDL5akAl8tTAS6XpwJcLk8FuFyeCnA5PBXguji2fENHhgB32/VuOhDypRf8c2qv1QLcKBlwlKD8SNj+HZ0PK0H5/lj+nmFPrXzv+HiNAPfs9t/rckaFvUhAAhKYPQEFuNmzG/bNP8QC24X9tMeC94n3jgu7y7BO/FwC80hAAS4ZvgJcLlAFuFyeCnC5PBXgcnkqwOXyVIDL5akAl8tTAS6XpwJcLk8FuFyeCnC5PBXgcngqwHVxbPmGDj/lv2oJcK/ciiJgI80Bd0os/9e2D7WsnKpil4XtHLaiz55dGe9vPWCvPyE+OzFnVNiLBCQggdkTUICbPbth3/x3LPDQsO/3WPAh8R4lKG8yrBM/l8A8ElCAS4avAJcLVAEul6cCXC5PBbhcngpwuTwV4HJ5KsDl8lSAy+WpAJfLUwEul6cCXC5PBbgcngpwXRxbvqHDvr1ZLQFu363PpIMNw86tuUfIfHtt+zuXt7+za/wlw22jsPP69POAeH+tjs+OjP//EUafTEZ3ac1tcDEJSEACjRFQgMtFe7Po7hZhcL04bJuwVuhHpbEM88E9L2zj3NXbmwRSCSjApeKM2YAfcVRyj0u7OwW43P2vAJfLUwEul6cCXC5PBbhcngpwuTwV4HJ5KsDl8lSAy+WpAJfLUwEuh6cCXBfHlm/o0JWbT609pATlZVGCcv/l36ODUQS4tWP5X4SdHXZI2AZhh4d9qu0/LRt0ctuPusmAPb0yPnMOuJxDwV4kIIEkAgpwSSDb3bwh/r6+ZpfTsdybai7rYhKYDwIKcMnUFeBygSrA5fJUgMvlqQCXy1MBLpenAlwuTwW4XJ4KcLk8FeByeSrA5fJUgMvlqQCXw1MBrotjyzd08MqHhgBHTkH/dtkF/zd14PIzWGAUAY7lmcuNiOUtwq4K+0TYAWHXVNa2Ml4va1u/jWAZBbicQ8FeJCCBJAIKcEkg293cP/6SAg3Xj4YdHPb7jlVw8fhVWGtWUpsEFjABBbjknaMAlwtUAS6XpwJcLk8FuFyeCnC5PBXgcnkqwOXyVIDL5akAl8tTAS6XpwJcLk8FuByeCnBdHFu+oTd+62G1BLjXP/K7dDCqAJez8+xFAhKQwAIkoADX3E55YXT91bBLmluFPUugUQIKcMl4FeBygSrA5fJUgMvlqQCXy1MBLpenAlwuTwW4XJ4KcLk8FeByeSrA5fJUgMvlqQCXw1MBrrcAN/2th0+tNSQD7vLIgJt+5GkKcDlD0V4kIIEJIaAANyE70p8hgQYIKMAlQ1WAywWqAJfLUwEul6cCXC5PBbhcngpwuTwV4HJ5KsDl8lSAy+WpAJfLUwEul6cCXA5PBbjeAtwB/7tVLQHuzY86RQEuZyjaiwQkMCEEFOCa25E3j65fF/aMMISMm/ZY1Y2bW709S2BsAgpwYyOc2YECXC5QBbhcngpwuTwV4HJ5KsDl8lSAy+WpAJfLUwEul6cCXC5PBbhcngpwuTwV4HJ4KsD1FuD2P3l5LQHu0EevVIDLGYr2IgEJTAgBBbjmdiRzwD037NNhvwyrThxa1vrO5lZvzxIYm4AC3NgIFeCSEc7oTgEul64CXC5PBbhcngpwuTwV4HJ5KsDl8lSAy+WpAJfLUwEul6cCXC5PBbgcngpwXRxbvqF9Q4Bbcz1yDfq3Ky74x9RhCnA5A9FeJCCBiSGgANfcrrw4uj4o7N3NrcKeJdAoAQW4ZLxmwOUCVYDL5akAl8tTAS6XpwJcLk8FuFyeCnC5PBXgcnkqwOXyVIDL5akAl8tTAS6HpwJcbwFun28+qpYA97bH/C8dbBh2bs4esRcJSEACi5uAAlxz+++C6PoFYSc1twp7lkCjBBTgkvEqwOUCVYDL5akAl8tTAS6XpwJcLk8FuFyeCnC5PBXgcnkqwOXyVIDL5akAl8tTAS6HpwJcbwFu7288duo2QzLgrowMuCMe+w0FuJyhaC8SkMCEEFCAa25HviG63iRsh+ZWYc8SaJSAAlwyXgW4XKAKcLk8FeByeSrA5fJUgMvlqQCXy1MBLpenAlwuTwW4XJ4KcLk8FeByeSrA5fBUgOstwO150uNqCXDv2ubrCnA5Q9FeJCCBCSGgANfcjtwnun5Z2Hlh3wy7vGNV18f/RzS3enuWwNgEFODGRjizAwW4XKAKcLk8FeByeSrA5fJUgMvlqQCXy1MBLpenAlwuTwW4XJ4KcLk8FeByeSrA5fBUgOstwO1x0uOnbnOHwXPAXXnhP6bevc2JCnA5Q9FeJCCBCSGgANfcjvz3kK4R4G7c3OrtWQJjE1CAGxuhAlwywhndKcDl0lWAy+WpAJfLUwEul6cCXC5PBbhcngpwuTwV4HJ5KsDl8lSAy+WpAJfDUwGutwD30pOeEALcLQZCvvLCv0+9b5uvKcDlDEV7kYAEJoSAAtyE7Eh/hgQaIKAAlwzVDLhcoApwuTwV4HJ5KsDl8lSAy+WpAJfLUwEul6cCXC5PBbhcngpwuTwV4HJ5KsDl8FSA6y3AveTr207deogAd1UIcO9/3AkKcDlD0V4kIIEJIaAANyE70p8hgQYIKMAlQ1WAywWqAJfLUwEul6cCXC5PBbhcngpwuTwV4HJ5KsDl8lSAy+WpAJfLUwEul6cCXA5PBbjeAtwuJz65lgD3kcd/RQEuZyjaiwQkMCEEFOCa3ZE3ie53CdssbMMw5oT7bdizws4K+1Wzq7d3CYxFQAFuLHzdX1aAywWqAJfLUwEul6cCXC5PBbhcngpwuTwV4HJ5KsDl8lSAy+WpAJfLUwEul6cCXA5PBbguji3f0E5fe0otAe5jTziODvCBnpuzR+xFAhKQwOImoADX3P67S3T9zbDbh/04bMswhLgfhb0njMLJOzW3enuWwNgEFODGRjizAwW4XKAKcLk8FeByeSrA5fJUgMvlqQCXy1MBLpenAlwuTwW4XJ4KcLk8FeByeSrA5fBUgOvi2PIN7XjC06ZuNaQE5dVRgnLFtl+iAwW4nOFoLxKQwAQQUIBrbiceH12vE/bEsMvDrgl7cBgC3DPDDg27a3Ort2cJjE1AAW5shDM7UIDLBaoAl8tTAS6XpwJcLk8FuFyeCnC5PBXgcnkqwOXyVIDL5akAl8tTAS6XpwJcDk8FuC6OLd/QDidsV0uAO3rbL9KBAlzOcLQXCUhgAggowDW3E6+Orp8TRvHjG4ddG1YEuK3i9YlhZMHZJLBQCSjAJe8ZBbhcoApwuTwV4HJ5KsDl8lSAy+WpAJfLUwEul6cCXC5PBbhcngpwuTwV4HJ5KsDl8FSA6+LY8g095/inhwB3y4GQr77wb1OfftLnWUYBLmc42osEJDABBBTgmtuJZL29IIzix50C3PbxHmUo121u9fYsgbEJKMCNjXBmBwpwuUAV4HJ5KsDl8lSAy+WpAJfLUwEul6cCXC5PBbhcngpwuTwV4HJ5KsDl8lSAy+GpANfFseUbevbxz5i65RAB7m8hwH3mSZ+jAwW4nOFoLxKQwAQQUIBrbid+ObpeK+wxYf8OIwPuQWE/CTsp7JIwMuRsElioBBTgkveMAlwuUAW4XJ4KcLk8FeByeSrA5fJUgMvlqQCXy1MBLpenAlwuTwW4XJ4KcLk8FeByeCrAdXFs+Ya2/8r2tQS4Y598LB0owOUMR3uRgAQmgIACXHM78R7R9elhfw0jC26vsI+F3SfsbmEPCft9c6u3ZwmMTUABbmyEMztQgMsFqgCXy1MBLpenAlwuTwW4XJ4KcLk8FeByeSrA5fJUgMvlqQCXy1MBLpenAlwOTwW4Lo4t39DTj3tWLQHu80/5LB0owOUMR3uRgAQmgIACXLM78c7R/XTYY8NuH3Zp2DfD3hCm+NYse3sfn4AC3PgMZ/SgAJcLVAEul6cCXC5PBbhcngpwuTwV4HJ5KsDl8lSAy+WpAJfLUwEul6cCXC5PBbgcngpwXRxbvqHtjnv21C3XHTwH3N8u+tvUF5/yGTpQgMsZjvYiAQlMAAEFuAnYif4ECTREQAEuGawCXC5QBbhcngpwuTwV4HJ5KsDl8lSAy+WpAJfLUwEul6cCXC5PBbhcngpwuTwV4HJ4KsD1FuCe8uXnTN1i3VsNhPz3i66eOu6pn1aAyxmK9iIBCUwIAQW4CdmR/gwJNEBAAS4ZqgJcLlAFuFyeCnC5PBXgcnkqwOXyVIDL5akAl8tTAS6XpwJcLk8FuFyeCnC5PBXgcngqwPUW4J70pefVEuCOf9qnFOByhqK9SEACE0JAAa65HXmj6HrXsGeEIWTcrGNV18f/d21u9fYsgbEJKMCNjXBmBwpwuUAV4HJ5KsDl8lSAy+WpAJfLUwEul6cCXC5PBbhcngpwuTwV4HJ5KsDl8lSAy+GpANdbgNv2i8+vJcCdsN0nFeByhqK9SEACE0JAAa65Hfm26PpVYd8O+2XYNT1WtXdzqx+p5+lYmnnpOtsv4o37tN88N/5+LmyvkXruXvgu8dYLwt4fdsGYffn14QR2jkX+HtYqwj1iU4AbEdiwxRXghhEa7XMFuNF4DVtaAW4YodE+V4AbjdewpRXghhEa7XMFuNF4DVtaAW4YodE+V4AbjdewpRXghhEa7XMFuNF4DVtaAW4YodE+V4AbjVe/pRXgusi0fEOP/+IOtQS4E7c7mg6cAy5nONqLBCQwAQQU4JrbiedF1+8Le1Nzq0jreTp6ek3Yozp6RLg5q/3eA+PvpWHnjLnWx8T3vxFGfz8Zsy+/PpzAqbHIJWFPG75o75usDY96zdQat1tzFl/3K50EFOByx4QCXC5PBbhcngpwuTwV4HJ5KsDl8lSAy+WpAJfLUwEul6cCXC5PBbhcngpwOTwV4Hr7hh77+RdO3XzIHHD/iDngvvH0j9OBAlzOcLQXCUhgAggowDW3ExGrtg87ublVpPU8HT29OmzwbKqDV0fJzZuE/XPIVinApe22Wh0pwNXCNDcLKcDlclaAy+WpAJfLUwEul6cCXC5PBbhcngpwuTwV4HJ5KsDl8lSAy+WpAJfLUwEuh6cCXBfHVgbcoz+3Yy0B7uRnrKADBbic4WgvEpDABBBQgGtuJx4VXf8rbNySjc1t4Q09T8fLYQJcZwlKijpTnvLAsEPC7hmG4HhC2KHt13eIvwiR3w97ftjmYWS/VRuM1hjwI7lo0//jwm4T9sew94bBl3bjsAPCdglbL+wPYe8I+3Clz4Pj9R5hj25/937xl/KafOfssHeGse1Xh7210jddVH/nYfE/8/b9LOxlYfyu0kbZjq3jS2RHPiDs92GUIv1mpS9eUjqS9zcNI4Pto2HTYfCiMb/gh9p9sF2PCCPrkmVaM95GQ3x7eEe/r4v/4VGnWYKyDqURllGAGwFWjUUV4GpAGmERBbgRYNVYVAGuBqQRFlGAGwFWjUUV4GpAGmERBbgRYNVYVAGuBqQRFlGAGwFWjUUV4GpAGmERBbgRYNVYVAGuBqQaiyjAdUFq+YYeeexOtQS4b23/MTpQgKsx1lxEAhJYGgQU4Jrbz8+LrhE6zghDdLq8x6q+0NzqR+p5OpZGgFur41uIPde33+slwD0hPrss7I1hfL4qbMcwREdKWjL33TphiGf7h10b9sKwd4UxD9xv2/1/r8/W8t0fh10XRilPxDcEqWVh+7W/g3i2e/tz+nlK+/+Xxl/mmaOxH5iPj/UdHnZxGELbTcPODGPbTwr777CXhCEUFnENAe7xYVeGMU8ef18bdvewTcIQx2ijbgfL/yUMLpTj3DgMljTYvTkMIZEMynuH8RuODEPwpBUBDiERIQ7WLw7bLgwxFGHxXmGfDmPs7dv+3p/jL+ut0xTg6lAaYRkFuBFg1VhUAa4GpBEWUYAbAVaNRRXgakAaYREFuBFg1VhUAa4GpBEWUYAbAVaNRRXgakAaYREFuBFg1VhUAa4GpBEWUYAbAVaNRRXgakCqsYgCXBeklm9oeQhwN1v31gMJ/t9FV02tVICrMcpcRAISWEoEFOCa29v/HtI1whZZUwuhTcdGIC51th3iDQQoWi8BDpHxwWE/rHzxxHh9Rdiz+vywUUpQktm1ZxiiG8JRZyPDju16SxiZXaUdEy/ICNsgjP2AeEWW3DZhJQOPOdG+GEa2GNl5NDLxLggjXGef9nv8fn4nWWuntN9bO/6yPUe01zvqdiBIIvjREPEQBp8T9pkwRFAEMsS317eX4Q8ZfPDgNyGoFQEO0e2D7eW4E7oo7KAwmNBGKUFJhiFWGhmFZzoHXIXImC8V4MYE2PF1BbhcngpwuTwV4HJ5KsDl8lSAy+WpAJfLUwEul6cCXC5PBbhcngpwuTwV4HJ4KsB1cWwJcFsds3MtAe6UZ1LAyQy4nNFoLxKQwCQQUIBrbi+S0TSsnTNsgTn6fDrWQ9bVVh3ro5wjJSRpvQQ4xDREmmqjXCQZcIhFXw37UVhVjBxFgPtBfJeyimS19WpPjTe/FHb/sLMqCzw9Xn8uDOEOcQsBjoy5m4WRTUcjO4zssZ3CVlS+S+Ybv/vZ7fdKBtztOzbguHZ/iHrjbAfdMm8eAuHbw54YdnwYZTJ/VVknQh3/bxl2WlgR4O4cr1dVliPzDXEPwY42igA3Hct3CbEKcB17fox/FeDGgNfjqwpwuTwV4HJ5KsDl8lSAy+WpAJfLUwEul6cCXC5PBbhcngpwuTwV4HJ5KsDl8FSA6+LYEuC2+OyuUzdbZ0gG3MVXTZ3+rNaMMJagzBmO9iIBCUwAAQW4CdiJCT8B4WU2c8DdN76H+FVtiFyUaKTEJCIkGVnM10ZJRbL+RhHgKDn59TDKQvZqO8abZKshAl5YWQCR6jthDw2jLCUCHIJUtcRmyTyjZCMiXmmdghUC3IPCKOtYbZR9pH8YjLMd9Mncc2SssZ2U6FzRsa7qvyVTrghwZONVy5v+PP6n7Cmf00YR4MyAGwA+4yMFuAyKN/ShAJfLUwEul6cCXC5PBbhcngpwuTwV4HJ5KsDl8lSAy+WpAJfLUwEul6cCXA5PBbguji0B7qGfeVEtAe6MZ+MuG1mAu0d8B9/hFmFXhX0ijClYrhmwV9ePz/YOIzD+rmFU46JyFVO9LJSEh5xBaS8SkMCiJqAA1+zug++2YQhCtw0jmwxh6GthZW61ZregXu/TsdhsBLj7xPceMGAVd4vPEILIrntuGPORjSLADcuAIzPuy2Fki/2ssh29MuDGEeCYA25QBtw428FmVwW4J8f/ZNeRVUf2X2crWYlNCHCd63IOuHrHT+2lFOBqo6q1oAJcLUy1F1KAq42q1oIKcLUw1V5IAa42qloLKsDVwlR7IQW42qhqLagAVwtT7YUU4GqjqrWgAlwtTLUXUoCrjarWggpwtTANXUgBrgvRagHu07tN3XRIBtw/IwPujOe0ZkkZJQOOwHIqVFHBiqpaTL1yeBgB8aW6U6/99qR488gwal4SiI7fjulp1g3DX3nx0J3tAhKQgATmgIACXHOQuYCcELZ5GBlKZGgxVxhZWFwYEOaqmUvNbcnwnqdjkSYEuLJmolDeGcacZpS5/HbYw9ocBm0dWWGvCEPIowRmZ+Oiynxph7b7Lp9/tr2e6hxw4whww+aAG2c72OaqAIdQy296Zdj7BsCpK8D9b/RBxBAi4qhNAW5UYkOWV4DLBaoAl8tTAS6XpwJcLk8FuFyeCnC5PBXgcnkqwOXyVIDL5akAl8tTAS6XpwJcDk8FuC6OLd/QQz794loC3Pef8wE6GEWAI2ONaVk2CivT4OwWr9+j2bOTAAAgAElEQVTbfq9XcDrrwL+KP61MNcN7bOufwvYJe0fOiLAXCUhAAuMRUIAbj9+gb38kPiSbCfHmG5UFHxuvieL4SlgpE9jcVtTreToWyxLgyN5iHrUfh/09jEyuPcMeHfatMERILp5EqMDo2rAf9tnMddr9ICBRnpGSlKSV3yWMMpc0hL3dww5qrxfmiG0vDXt/e5lxS1AiXl0Zxvxo/OXmgJKUlLEsETWz3Q42sSrA8f++YdNhRPIgVjKHHr/7aWFk2zFnXF0B7j2xLGUrKQl6QRji3vltLsP+KMANIzTi5wpwIwIbsrgCXC5PBbhcngpwuTwV4HJ5KsDl8lSAy+WpAJfLUwEul6cCXC5PBbhcngpwOTwV4Lo4tnxDD/rUS2sJcD98XiuWfBQBjrKRCG/4vEpDXOO9ncNWjLhnSYDA7/qqEb/n4hKQgAQaIaAA1wjWVqcIM5ReZI6yzsYF5LAwBKaF0KZjI7IEOMSj7cPIWrtR2G/C3hp2TOWHIo4RjcIFmTG4xgAIRMCQCfe4sFuEIcK9O4xIGNqNw6gLvUsYc8FRopEol1bR6XYbV4AjdZ3sPfYZ4h/lLhH5yGQsbbbbwfc7BTjeQ7jdK4x1I0D+Luz4MIRGBLm6AhyMCT+ijvaaYaTjw6NOU4CrQ2mEZRTgRoBVY1EFuBqQRlhEAW4EWDUWVYCrAWmERRTgRoBVY1EFuBqQRlhEAW4EWDUWVYCrAWmERRTgRoBVY1EFuBqQRlhEAW4EWDUWVYCrAanGIgpwXZBavqEHfhIB7jYDCf7z4iunfvz8kQW4i6JTgvT36+icAPKje7w/aBs2jQ/xQ74o7MM1dreLSEACEmicgAJcc4jJ/npGGGUoOxvlJz8XhqBkW9gEiJoZNtfdwv4Fs986BbjZs+v5TQW4XKAKcLk8FeByeSrA5fJUgMvlqQCXy1MBLpenAlwuTwW4XJ4KcLk8FeByeSrA5fBUgOvi2PINPeDo3WsJcD/ZoRUvv1kYVZhKo5oU1qtRGYtgcYLvq+3n8c/pYZSjrNPwcX8t7L5hCHF/q/Mll5GABCTQNAEFuOYInxZdM/cZJRH/VVkNWWFfDbt12JbNrd6ekwgowB31mqk1bkfynG1cAgpw4xKc+X0FuFyeCnC5PBXgcnkqwOXyVIDL5akAl8tTAS6XpwJcLk8FuFyeCnC5PBXgcngqwHVxbAlw9//Ey6b+c0gG3DWRAffTFzATSlejmtN0nz2UJcCxDqarYRqZk3NGg71IQAISGJ+AAtz4DPv1sFV8cFIY8219OYwaxOuGUdOYUonbhH2nudXbcxIBBTgFuKShNDWlAJeGstWRAlwuTwW4XJ4KcLk8FeByeSrA5fJUgMvlqQCXy1MBLpenAlwuTwW4XJ4KcDk8FeC6OLYEuPshwN1+cAnKay65cuqs1QLcKBlwlKD8SNj+HWsepQQlJSc/GMb0NJSztElAAhJYMAQU4JrdFQ+K7g8II9Nt7TAmED017M1hP2p21fYugbEJWIJybIQzO1CAywWqAJfLUwEul6cCXC5PBbhcngpwuTwV4HJ5KsDl8lSAy+WpAJfLUwEul6cCXA5PBbguji3f0L0//vJaAtwvXngUHWwYdm7NPXJKLPfXsO0qy1OG6bKwncNWDOmH7x0bRgbcm2qu08UkIAEJzBkBBbg5Q+2KJLDoCCjAJe8yBbhcoApwuTwV4HJ5KsDl8lSAy+WpAJfLUwEul6cCXC5PBbhcngpwuTwV4HJ5KsDl8FSA6+LY8g3dc8WetQS4X+34LjoYRYAj843SkXzn8vbad42/7w/bKOy8AXt2eXx2YtjHwl6aMwLsRQISkEAuAQW4XJ79euNitX77okEKtU0Ci4GAAlzyXlKAywWqAJfLUwEul6cCXC5PBbhcngpwuTwV4HJ5KsDl8lSAy+WpAJfLUwEul6cCXA5PBbguji3f0D0+Vk+A+/VOIwtwVAz7RdjZYYeEbRB2eNinwvaobA3zum0ctkn7vXvG3++ybWEvDvt3ZdmL4/Xvc0aEvUhAAhIYj4AC3Hj8hn17t1jgwPbFA9bXhxG5cXDYB4Z92c8lMM8EFOCSd4ACXC5QBbhcngpwuTwV4HJ5KsDl8lSAy+WpAJfLUwEul6cCXC5PBbhcngpwuTwV4HJ4KsB1cVwtwH30FVM3GTIH3LUxB9yvd34nHYySAcfyiGnUrtwi7KqwT4Qxpc81la1ZGa+XtY23dwwj861X+3j785xBYS8SkIAExiCgADcGvCFfJYWaud6ODvtc2IVhdwjbPux5YQhzhza3enuWwNgEFODGRjizAwW4XKAKcLk8FeByeSrA5fJUgMvlqQCXy1MBLpenAlwuTwW4XJ4KcLk8FeByeSrA5fBUgOvi2PIN3f0je9US4H6zy5F0MKoAl7Pz7EUCEpDAAiSgANfcTiHTDfFt3x6reFu8hwh3x+ZWb88SGJuAAtzYCGd2oACXC1QBLpenAlwuTwW4XJ4KcLk8FeByeSrA5fJUgMvlqQCXy1MBLpenAlwuTwW4HJ4KcF0cW76hTT60dy0B7ncvOoIOFOByhqO9SEACE0BAAa65nXh1dL1d2Dd6rOKx8d4Xwm7d3OrtWQJjE1CAGxvhzA4U4HKBKsDl8lSAy+WpAJfLUwEul6cCXC5PBbhcngpwuTwV4HJ5KsDl8lSAy+WpAJfDUwGui2PLN3TXDyLArTkQ8rWXXDH1+90U4HJGor1IQAKTQkABrrk9+fno+ndhvTLg3hrvbxr2tOZWb88SGJuAAtzYCBXgkhHO6E4BLpeuAlwuTwW4XJ4KcLk8FeByeSrA5fJUgMvlqQCXy1MBLpenAlwuTwW4HJ4KcL0FuLt88JVTN7ndEAHur1dM/WG3w+nADLic4WgvEpDABBBQgGtuJz4huv5A2MlhXwq7KGzdMLLiHhX24jDmhSvtR81tij1LYFYEFOBmha3/l8yAywWqAJfLUwEul6cCXC5PBbhcngpwuTwV4HJ5KsDl8lSAy+WpAJfLUwEul6cCXA5PBbguji3f0J1rCnB/VIDLGYj2IgEJTAwBBbjmduW/O7q+Pv6v8uZ/Gu/x+sbNbYo9S2BWBBTgZoWt/5cU4HKBKsDl8lSAy+WpAJfLUwEul6cCXC5PBbhcngpwuTwV4HJ5KsDl8lSAy+WpAJfDUwGui2PLN7Ts/a+qlQG36iXvoAMz4HKGo71IQAITQEABrrmduPWIXX97xOVdXAJNE1CASyasAJcLVAEul6cCXC5PBbhcngpwuTwV4HJ5KsDl8lSAy+WpAJfLUwEul6cCXC5PBbgcngpwfQS49716ao0hJSivixKUq176dgW4nKFoLxKQwIQQUICbkB3pz5BAAwQU4JKhKsDlAlWAy+WpAJfLUwEul6cCXC5PBbhcngpwuTwV4HJ5KsDl8lSAy+WpAJfLUwEuh6cCXG8BbuP31hPgztldAS5nJNqLBCQwKQQU4OZmT94iVnOzHqu6dG5W71okMCsCCnCzwtb/SwpwuUAV4HJ5KsDl8lSAy+WpAJfLUwEul6cCXC5PBbhcngpwuTwV4HJ5KsDl8lSAy+GpANdbgNvoPfvUyoD708veRgeWoMwZjvYiAQlMAAEFuOZ24m2i67eGbR+2Vp/VOO9bc/zteXwCCnDjM5zRgwJcLlAFuFyeCnC5PBXgcnkqwOXyVIDL5akAl8tTAS6XpwJcLk8FuFyeCnC5PBXgcngqwPUR4N79mnoC3B64QhXgckajvUhAApNAQAGuub34+ej6UWEfDjs77Joeq/p4c6u3ZwmMTUABbmyEMztQgMsFqgCXy1MBLpenAlwuTwW4XJ4KcLk8FeByeSrA5fJUgMvlqQCXy1MBLpenAlwOTwW43gLchu+qJ8D9eU8FuJyRaC8SkMCkEFCAa25PXhFd7x72qeZWYc8SaJSAAlwyXgW4XKAKcLk8FeByeSrA5fJUgMvlqQCXy1MBLpenAlwuTwW4XJ4KcLk8FeByeSrA5fBUgOstwN3pnfvWyoA79xWH0YElKHOGo71IQAITQEABrrmd+Ovo+tVhxze3CnuWQKMEFOCS8SrA5QJVgMvlqQCXy1MBLpenAlwuTwW4XJ4KcLk8FeByeSrA5fJUgMvlqQCXy1MBLoenAtwAAe62aw6EfN2lV0wpwOWMQ3uRgAQmh4ACXHP78tnR9cvDnhh2eXOrsWcJNEZAAS4ZrQJcLlAFuFyeCnC5PBXgcnkqwOXyVIDL5akAl8tTAS6XpwJcLk8FuFyeCnC5PBXgcngqwPUW4DY4cr+pNWoIcH/Z6y10YAZcznC0FwlIYAIIKMA1uxMPie73CPtJDxHu+njvqc2u3t4lMBYBBbix8HV/WQEuF6gCXC5PBbhcngpwuTwV4HJ5KsDl8lSAy+WpAJfLUwEul6cCXC5PBbhcngpwOTwV4PoIcEfsX0+A2/tQBbicoWgvEpDAhBBQgGtuR+4dXb8j7MKwP4Rd02NVj2xu9fYsgbEJKMCNjXBmBwpwuUAV4HJ5KsDl8lSAy+WpAJfLUwEul6cCXC5PBbhcngpwuTwV4HJ5KsDl8lSAy+GpANdHgDu8pgD3SgW4nJFoLxKQwKQQUIBrbk8ivB0T9oqwfze3GnuWQGMEFOCS0SrA5QJVgMvlqQCXy1MBLpenAlwuTwW4XJ4KcLk8FeByeSrA5fJUgMvlqQCXy1MBLoenAlwfAe4dNQW4VynA5YxEe5GABCaFgAJcc3vysuj6GWEnN7cKe5ZAowQU4JLxKsDlAlWAy+WpAJfLUwEul6cCXC5PBbhcngpwuTwV4HJ5KsDl8lSAy+WpAJfLUwEuh6cCXB8B7u0IcGsNhHzdpZdP/eXVCnA5I9FeJCCBSSGgANfcnnxfdP33sFc1twp7lkCjBBTgkvEqwOUCVYDL5akAl8tTAS6XpwJcLk8FuFyeCnC5PBXgcnkqwOXyVIDL5akAl8tTAS6HpwJcbwHujm+rJ8Cdt48CXM5ItBcJSGBSCCjANbcnnx9dHxx2etg3wy7vsaovNLd6e5bA2AQU4MZGOLMDBbhcoApwuTwV4HJ5KsDl8lSAy+WpAJfLUwEul6cCXC5PBbhcngpwuTwV4HJ5KsDl8FSA6yPAHfbaWhlw5+17CB1sGHZuzh6xFwlIQAKLm4ACXHP7b9i8b9fHqm/c3OrtWQJjE1CAGxuhAlwywhndKcDl0lWAy+WpAJfLUwEul6cCXC5PBbhcngpwuTwV4HJ5KsDl8lSAy+WpAJfDUwGutwC3AQLc2kNKUF4WJSgV4HIGor1IQAITQ0ABrrlduXGNrs+psYyLSGC+CCjAJZM3Ay4XqAJcLk8FuFyeCnC5PBXgcnkqwOXyVIDL5akAl8tTAS6XpwJcLk8FuFyeCnA5PBXg+ghwb6kpwO1nBlzOSLQXCUhgUggowE3KnvR3SCCfgAJcMlMFuFygCnC5PBXgcnkqwOXyVIDL5akAl8tTAS6XpwJcLk8FuFyeCnC5PBXgcnkqwOXwVIDrI8AdekC9DLj930wHlqDMGY72IgEJTAABBbhmdyJ8tw3bMuy2YZeGfSfsa2GUoLRJYCETUIBL3jsKcLlAFeByeSrA5fJUgMvlqQCXy1MBLpenAlwuTwW4XJ4KcLk8FeByeSrA5fJUgMvhqQDXxbHlG9rgzTUFuAMU4HJGor1IQAKTQkABrrk9uXZ0fULY5mGXh10YdocwCiafEYYwx/s2CSxUAgpwyXtGAS4XqAJcLk8FuFyeCnC5PBXgcnkqwOXyVIDL5akAl8tTAS6XpwJcLk8FuFyeCnA5PBXgujiuFuAOrinAHagAlzMS7UUCEpgUAgpwze3Jj0TXTw57Xtg3Kqt5bLz+ZNhXwnZtbvX2LIGxCSjAjY1wZgcKcLlAFeByeSrA5fJUgMvlqQCXy1MBLpenAlwuTwW4XJ4KcLk8FeByeSrA5fJUgMvhqQDXxXG1APemA+uVoHzdwXRgCcqc4WgvEpDABBBQgGtuJ14cXb8m7GM9VrFzvHdY2DrNrd6eJTA2AQW4sRHO7EABLheoAlwuTwW4XJ4KcLk8FeByeSrA5fJUgMvlqQCXy1MBLpenAlwuTwW4XJ4KcDk8FeC6OLZ8Q3d6Yz0B7tzXK8DljER7kYAEJoWAAlxze/Lv0fUzwihD2dkoP/m5sFs0t3p7lsDYBBTgxkY4swMFuFygCnC5PBXgcnkqwOXyVIDL5akAl8tTAS6XpwJcLk8FuFyeCnC5PBXgcnkqwOXwVIDr4rhagDuopgD3BgW4nJFoLxKQwKQQUIBrbk+eFl1fEUYZyn9VVnOjeP3VsFuHbdnc6u1ZAmMTUIAbG+HMDhTgcoEqwOXyVIDL5akAl8tTAS6XpwJcLk8FuFyeCnC5PBXgcnkqwOXyVIDL5akAl8NTAa6L42rfEALcWmsNhHzd5ZdP/VkBLmcg2osEJDAxBBTgmtuVW0XXJ4WdH/blsAvD1g17Wth6YduEfae51duzBMYmoAA3NsKZHWx49BrJPS7t7u578E+WNoDkX/+uO56Z3OPS7u5ROzrNa+YI+NsdbpLZ3ZLv6zprMKSOgas3Su1uyXe2xtU+omYOgr9veF1md0u+r013//6SZ5AJ4MhVp2d2t+T72vakVyx5BhkArrv08qnz9j2UrpzHbDXQ1b6h6dfVE+Cm3yS7jIFoHxKQwMQQ8Omm2V35oOj+gDAy3dYOuzTs1LA3h/2o2VXbuwTGJqAANzbCmR0owOUCVYDL5akAl8tTAS6XpwJcLk8FuFyeCnC5PBXgcnkqwOXyVIDL5akAl8tTAS6HpwJcF8fVvqE31BTgDpqVAHePWMdRYVuEXRX2ibADw64Zslfxa+8btnvYOmFE6e4ddkbOaLAXCUhAAuMTUIAbn6E9SGBSCSjAJe9ZBbhcoApwuTwV4HJ5KsDl8lSAy+WpAJfLUwEul6cCXC5PBbhcngpwuTwV4HJ5KsDl8FSA6+K42jf0+poC3BtHFuBIWPhF2G/DDgnbIOzwsE+G7TFkr+4Xnx8Uxt+zwl4W9piwB4T9IWdE2IsEJCCB8QgowI3Hr/PbzO/2xPZJnotHr3afePPOYceHXZ+7enuTQCoBBbhUnFG/whKUqUQV4FJxTinA5fJUgMvlqQCXy1MBLpenAlwuTwW4XJ4KcLk8FeByeSrA5fJUgMvhqQDXxbHlG9rowHoC3J8OHlmA2z/6p3oYRb2pHEbbLey97ffO67NnbxbvM93Pe8Je217mP+Pv2WEnhJEVZ5OABCQw7wQU4HJ3wc7RHVEaiGzn9umaC9fPw/YMI6XaJoGFSkABLnnPKMDlAlWAy+WpAJfLUwEul6cCXC5PBbhcngpwuTwV4HJ5KsDl8lSAy+WpAJfLUwEuh6cCXBfH1QLcATUFuDePLMCdEv0jvD2tsua12u/hZ13RZ88+Kt4/OeyBYdUJ4vHL/nfYspwRYS8SkIAExiOgADcev85vr4w3qDNM6vOgRkr1w8Iembt6e5NAKgEFuFScZsAl45xSgMslqgCXy1MBLpenAlwuTwW4XJ4KcLk8FeByeSrA5fJUgMvlqQCXy1MBLoenAlwXx5ZvaOPX1hPgzjlkZAHuouj/oz18qX+J944e4GMlw43st5uH/V9lq18Urz8Qdsuwf+SMCnuRgAQkMHsCCnCzZ9frm1fEm9uHnTSk223i82PCiOiwSWChElCAS94zZsDlAlWAy+WpAJfLUwEul6cCXC5PBbhcngpwuTwV4HJ5KsDl8lSAy+WpAJfLUwEuh6cCXBfH1QLc/q+fWmOtwW7M6y6/fOqcQ99IB5uFXVDp6cp4jfVq18abrwt7S8eHVA87PYxylL0aZSv5HqUoq+0Z8c+xYcwl1698Zc5gsRcJSEACNQgowNWANMIiRFY8PuzbQ76zdXx+YhhRGjYJLFQCCnDJe0YBLheoAlwuTwW4XJ4KcLk8FeByeSrA5fJUgMvlqQCXy1MBLpenAlwuTwW4XJ4KcDk8FeC6ON4gwK05RIC74v8LcJ2dHBRvTPfZQwpwOUPXXiQggQVKQAEud8f8Jrp7f9gRQ7p9ZXz+krBNc1dvbxJIJaAAl4rTEpTJOC1BmQxUAS4XqAJcLk8FuFyeCnC5PBXgcnkqwOXyVIDL5akAl8tTAS6XpwJcDk8FuC6OLd/Qsn0jA66GALfqsJEz4ChB+ZGw/TvWbAnKnCFtLxKQwDwTUIDL3QHviO6eFfbgsGqqdXUt68U/Pwj7dNg+uau3NwmkElCAS8WpAJeMUwEuGagCXC5QBbhcngpwuTwV4HJ5KsDl8lSAy+WpAJfLUwEul6cCXC5PBbgcngpwXRxXC3Cvef3UTYYIcNdGBtyqt7YEuA3Dzq25R06J5f4atl1l+TXj9WVhO4et6NPPo+L9k8MeEPbTyjL4Zp8etqzm+l1MAhKQQKMEFOBy8d4+uvtx2I3C3hz29bA/hV0ftlHY48Je2/7/v+LvJbmrtzcJpBJQgEvFqQCXjFMBLhmoAlwuUAW4XJ4KcLk8FeByeSrA5fJUgMvlqQCXy1MBLpenAlwuTwW4HJ4KcF0cVwtw+9QU4N42sgBH5hu+UkS7y9tr3zX+UmEMX2q/edyY++3CsKPCDmx/7ybx9+ywr4XtnjMi7EUCEpDAeAQU4Mbj1+vbm8SbnwpjwlGEt2qD9/fDnhf2+/xV26MEUgkowKXiVIBLxqkAlwxUAS4XqAJcLk8FuFyeCnC5PBXgcnkqwOXyVIDL5akAl8tTAS6XpwJcDk8FuC6OqwW4V9cU4N4+sgC3dvT/izCEs0PCNgg7PAzf6h6VrSHbbeMw/K6l7RcvpsP2DftZGKLbNmFkxf0hZ0TYiwQkIIHxCCjAjcdv0LcfER9u1b5wsBy1i1eGndbcKu1ZAqkEFOBScSrAJeNUgEsGqgCXC1QBLpenAlwuTwW4XJ4KcLk8FeByeSrA5fJUgMvlqQCXy1MBLoenAlwXx5Zv6M6vqifA/b/27gNMsrJO23gvaUayAqvih4wBERbUJSggwuiKGcEsxiZIUEyoCKLYuGZUFAEVEQcwiwF0VTANQQTJQcQAjgoriLpDdIjzPU93ldRU6Hqr6znldNVd1/W/pqf79FtVv3N2B/vuc87vP9pzgPMTbqLxmWzbaW7RnKg5RHNnw6vxz1Tn1ab+af9c2xHO4W09zSWaN2t+njkaWAUBBBDoX4AA178hKyAwrAIEuPCe3eCklcIrjvZym7/X/23NIyVAgEtJTq1DgMt6EuCyngS4rCcBLutJgMt6EuCyngS4rCcBLutJgMt4EuBaHKcC3AGFAe5jMwpwmZ3HKggggMByKECAWw53Ci8JgeVEgAAX3hEEuCwoAS7rSYDLehLgsp4EuKwnAS7rSYDLehLgsp4EuKwnAS7rSYDLehLgMp4EuPYB7uFvLgtw1xxBgMsciayCAALDIkCAG5Y9yftAIC9AgAubEuCyoAS4rCcBLutJgMt6EuCyngS4rCcBLutJgMt6EuCyngS4rCcBLutJgMt4EuCmCXBrrj0t8l03Lx4jwGWOQ1ZBAIHhESDADc++5J0gkBYgwIVFCXBZUAJc1pMAl/UkwGU9CXBZTwJc1pMAl/UkwGU9CXBZTwJc1pMAl/UkwGU8CXAdAtybdAZcSYD7OGfAZY5EVkEAgWERIMANy57kfSCQFyDAhU0JcFlQAlzWkwCX9STAZT0JcFlPAlzWkwCX9STAZT0JcFlPAlzWkwCX9STAZTwJcO0D3CPeUBbgrj6SAJc5ElkFAQSGRYAANyx7kveBQF6AABc2JcBlQQlwWU8CXNaTAJf1JMBlPQlwWU8CXNaTAJf1JMBlPQlwWU8CXNaTAJfxJMC1D3CPfH1ZgPvdJwlwmSORVRBAYFgECHDZPblFj8td1OP2bI7AIAUIcGFtAlwWlACX9STAZT0JcFlPAlzWkwCX9STAZT0JcFlPAlzWkwCX9STAZT0JcBlPAlyHALd/YYA7igCXORJZBQEEhkWAAJfdk/dquaUFS9rd261YsC2bIPCvEiDAheUJcFlQAlzWkwCX9STAZT0JcFlPAlzWkwCX9STAZT0JcFlPAlzWkwCX9STAZTwJcB0C3OsKA9zRBLjMkcgqCCAwLAIEuOye3LHH5c7ocXs2R2CQAgS4sDYBLgtKgMt6EuCyngS4rCcBLutJgMt6EuCyngS4rCcBLutJgMt6EuCyngS4jCcBrn2A2+i1ZQHut8cQ4DJHIqsggMCwCBDghmVP8j4QyAsQ4MKmBLgsKAEu60mAy3oS4LKeBLisJwEu60mAy3oS4LKeBLisJwEu60mAy3oS4DKeBLgOAW4/Bbg11p4W+a5bFo/99lMEuMyRyCoIIDAsAgS4YdmTvA8E8gIEuLApAS4LSoDLehLgsp4EuKwnAS7rSYDLehLgsp4EuKwnAS7rSYDLehLgsp4EuIwnAa59gHvUvmUB7jefJsBljkRWQQCBYREgwFW7J1+p5ffRPEozt81TrVnt07M6An0JEOD64mv9ZgJcFpQAl/UkwGU9CXBZTwJc1pMAl/UkwGU9CXBZTwJc1pMAl/UkwGU9CXAZTwJchwC3T2GA+wwBLnMksgoCCAyLAAGuuj35Ci19nGaBZm/N8ZoVNTtrFmtO1Ez+q8QDgeVUgAAX3jEEuCwoAS7rSYDLehLgsp4EuKwnAS7rSYDLehLgsp4EuKwnAS7rSYDLehLgMp4EuBbHyZ8Nbbx3WYD79bEEuMyRyCoIIDAsAgS46vbkxVr6ZM0HNXdpttJcpFlDc7rm65qPVff0rIxA3wIEuL4Jl12AAJcFJcBlPQlwWU8CXNaTAJf1JMBlPQlwWU8CXNaTAJf1JMBlPQlwWU8CXMaTANfiOBXg9ioMcMcR4DJHIqsggMCwCBDgqtuTt2rp52gWahzgdqp97GfcVfNxzbzqnp6VEehbgADXN+GyCxDgsqAEuKwnAS7rSYDLehLgsp4EuKwnAfrF2/UAACAASURBVC7rSYDLehLgsp4EuKwnAS7rSYDLeBLgWhwnfzb06MIAdxUBLnMgsgoCCAyNAAGuul15nZbeQ3OaZpHmw5pjak/3Av25QOOz4XggsLwKEODCe4YAlwUlwGU9CXBZTwJc1pMAl/UkwGU9CXBZTwJc1pMAl/UkwGU9CXBZTwJcxpMA1+I4FeD2LDsD7qrPcQZc5khkFQQQGBYBAlx1e/IULX225nDNkZqXaP5b47PhDtL8TuOz4nggsLwKEODCe4YAlwUlwGU9CXBZTwJc1pMAl/UkwGU9CXBZTwJc1pMAl/UkwGU9CXBZTwJcxpMA1+I4FeD2OHRslTXWnhb5zlsWj111PAEucySyCgIIDIsAAa66PbmNlt5Q81WN/4U6QfNszQqa8zW7aa6p7ulZGYG+BQhwfRMuuwABLgtKgMt6EuCyngS4rCcBLutJgMt6EuCyngS4rCcBLutJgMt6EuCyngS4jCcBrsVxKsDtXhjgPk+AyxyJrIIAAsMiQIAb7J6co6fz3DzYp+XZEJiRAAFuRmydv4kAlwUlwGU9CXBZTwJc1pMAl/UkwGU9CXBZTwJc1pMAl/UkwGU9CXBZTwJcxpMA1z7AbTKuALd6lzPgbl089qsFBLjMkcgqCCAwLAIEuMHsSTuvq/mrZulgnpJnQaBvAQJc34TLLkCAy4IS4LKeBLisJwEu60mAy3oS4LKeBLisJwEu60mAy3oS4LKeBLisJwEu40mA6xDgXl0Y4E4gwGWORFZBAIFhESDAVbsnn6bl363ZUrOyxvd/u1Djf41Oq/apWR2BvgUIcH0TEuDChMssR4DL6hLgsp4EuKwnAS7rSYDLehLgsp4EuKwnAS7rSYDLehLgsp4EuIwnAa7FcfJnQ5u+qizAXXkiAS5zJLIKAggMiwABrro9ubuWPk5zluYbmhs0D9S8ULO95jWa46t7elZGoG8BAlzfhMsuwBlwWVACXNaTAJf1JMBlPQlwWU8CXNaTAJf1JMBlPQlwWU8CXNaTAJf1JMBlPAlwLY5TAe6VhQHuJAJc5khkFQQQGBYBAlx1e/L3Wvonmj3bPMXn9bn5modV9/SsjEDfAgS4vgkJcGHCZZYjwGV1CXBZTwJc1pMAl/UkwGU9CXBZTwJc1pMAl/UkwGU9CXBZTwJcxpMA1+I4+bOh/3h5WYD75RcJcJkjkVUQQGBYBAhw1e3J27T0rpoftnkKX5ryW5rVenz6l2v7N2o21njfXaf5meYdmr/0uNa/enPb2MARctG/+sUM8fPbeX3NMTN4jwS4GaBN9y2cAZcFJcBlPQlwWU8CXNaTAJf1JMBlPQlwWU8CXNaTAJf1JMBlPQlwWU8CXMaTANfiOBXgXlYY4L5EgMsciayCAALDIkCAq25P/lhLn675UJunOEife7rmyT08/YHa9oOaIzSOet53m2kc5cY1l/Sw1vKwKQFuMHthgZ5mq9qx0uszEuB6FeuyPQEuC0qAy3oS4LKeBLisJwEu60mAy3oS4LKeBLisJwEu60mAy3oS4LKeBLiMJwGuxXHyZ0Ob7VYW4K74MgEucySyCgIIDIsAAa66PfkELf1lzQmab2t8htq/a56neZVmN81vG57+711eyrX6uoPeHm22W0Gfu7e6t1LJygS4SlhbFl2gzxDgBmPd9VkIcF2JetqAANcTV9eNCXBdiXragADXE1fXjQlwXYl62oAA1xNX140JcF2JetqAANcTV9eNCXBdiXragADXE1fXjQlwXYl62oAA1xNXx40JcC009wW41daeFvnO2xaPEeAyxyGrIIDA8AgQ4Krbl41BbGnD09TNGz/nL6/Y5aX4kpYf1xxS8JLHtc0Bmkdp/qZZoDlUc0/D9z5EH39A4zPx1tT8QfMpzSdq2zjq+dKWe2kerPE97Xz23Wca1pjQx2/VbFv73i305zWat2hOa9huZX18uMbh0e/zZM1PNSdpul2C0v+6/7fG4XI9zf9qvqI5uGH9ffSx3+88zZ81x2ner6nvg3F97PvubV37/Pb680+a12l8nz7/es5rausdrz9tXP/eCX3s9+izFY/WPEZji7dpvtvwGvxh6euwk1/fDhq/H7+/E5vWerb+7n3m57tVYzO/Dh8HfszX2NCXM91ds7PGEdev8cO1bRboz1c3resgPN70uU5/5Qy4QqjSzQhwpVJl2xHgypxKtyLAlUqVbUeAK3Mq3YoAVypVth0BrsypdCsCXKlU2XYEuDKn0q0IcKVSZdsR4MqcSrciwJVKlW1HgCtz6rYVAa5FaPJnQ5u/9F1jqxQEuMu/4h9xjW2g8YkEPBBAAIGRFyDAVXcIjGvp5sg23bM5jEz3OFNf/A/N2zUOP9d32NghygHGscxnzG2ieZ/GYcaXvvRjHc3FtY8dnxzNNtI8QuNLXfrxUY3vN/dezTma52heX5ujattM6E+HsF9rjtQ4avn1PV6zocbxz4+PaN6gebfmIo3P/nuqxhFwugA3R1//uWae5jDN5Rr/I+6AVg9mfk1+7k9q7LKd5p0ax0oHKz/GNQ5wv9J8WuPXa4stNXZ3gPySxmct+nl8WU//3Y8Jjd+j77dnE8e3/TTP0Dik+TX50evr+Ky+5wqN38cLNd63fn1++O9f1fg1O7w5gPryow5uL61tM7/2d+87h8yzNT6r0FHxmZofaLw/bfNojd+THzdqrq593O0PAlw3oR6/ToDrEazL5gS4rCcBLutJgMt6EuCyngS4rCcBLutJgMt6EuCyngS4rCcBLutJgMt4EuBaHCd/NvSYF5cFuMu+RoDLHImsggACwyJAgJs9e9L3e/uW5pG1l+wQ9B2NQ9ui2ufW0J8+o8oxymev1R/76oOPaRyvHMUc5HyWmsNM/XsbJdatrePg1HimmaOUw5mDkM+mm9A4qvlsre/VFpinP/3aXqn5guYBGv/WiyOcz+iqP87QBz4DbLoA5zh1rMZRzSGu+eGz6Rwif6Rx1Ks/fHaZ39/6Gr/fcY1j1ms1PsvPD3s6np2r8Rl89ccF+sAh0Wfc+TGh8XvcU+Oz4/zw8/ryoedp/Ly9vg5HsmNqa62mP315Up+N6Njp/5u0n6Pny+57WZPBz8aba36pma9xkPOZhfVo6u91kPP9B33moh8LNKWXoHSI9NQfD9IH52/wyQPHVlpnrYZP8+FMBQhwM5Vr/30EuKwnAS7rSYDLehLgsp4EuKwnAS7rSYDLehLgsp4EuKwnAS7rSYDLeBLgWhynAtyLCgPc1wlwmSORVRBAYFgECHCza0+uopfrAObLDu6oeZzmFo1D1iUaX07SZz41npnldzhP42A0X+Pw5ejkyxU+q8Pbd1Dz2WQ+Q8xnrNUfu+gD389uU43P1prQvEtzP82dDdvdro99Zp3P2vLrXKjxa6qfdedNfUacL3c5XYDzpSZ9CUY/X7uHzxrzWWQv0HyzYYPH6mN7+P19XzOucYDzWX6/q21nyzs0jpE+Y67+cGT0pTsdrfyY0DjAOST+X8N2Dpo+4+zhmn5eh5e8UuMzHB1KN9ZcpXEAbLzEpS/j6X3tEOiz9uZrHOB20jhA1h+OdL58qIOdHws0pQFuQtv6vS7zIMA1i8z87wS4mdu1+04CXNaTAJf1JMBlPQlwWU8CXNaTAJf1JMBlPQlwWU8CXNaTAJf1JMBlPAlwLY6TAe6xLywLcJeeTIDLHImsggACwyJAgMvuycu0nM9achTy2VXTXYLSX3Mo6ufh4PY/mlM1z9f4MoM+66zTo35WmmOcQ1z9LKnm7V+hT/iyhv5H1pderD+20Qc+E82XgPyZZkLjyzyu3rTAYv3dl4D0133JxC+3Wesl+pwD23QB7of6uo9RR8d2D7+OsxpeT30bn7nle8H5fXxRM65xgPM95P7asJD3ge/l5rPz6o8F+qAxWPk9+GxCB7vGhy+16a85Pvb7OhwLPX6dT9T4cpKdHg6ePlNuvsYBzve181l79YcDqe+b56/7sUBTGuA4A24a+MSXCHAJxfvWIMBlPQlwWU8CXNaTAJf1JMBlPQlwWU8CXNaTAJf1JMBlPQlwWU8CXMaTANfiOBXgXlAY4L5BgMsciayCAALDIkCAy+5JRx6f+eVLCDp8dLsH3O6Bp79Qa6yq8b3efO8vnwHlGOfLKDY//Lp8ScZuZ8D5zDGHveaz1tqdAdctwFV5BpzPjPPlGP1+fXnO+qPTGXAzDXDdzoDr93U0BjjvR58Rt7/Gl7hsfvgSo575mnSAa34u7gHXZgf08ykCXD96rd9LgMt6EuCyngS4rCcBLutJgMt6EuCyngS4rCcBLutJgMt6EuCyngS4jCcBrsVx8mdDj3teWYC75FsDCXA76zX5l9N9Fak/anxbF/9MdrqHf4F9P42vIuZb1viEg5Nr69yWOXpYBQEEEGgVIMDNnqPigXqpNzS9XJ999QeNI9STNT7zyf+AHKTxfeA6PfyPlMOZL7Xof6iaH/V7wPnMsMZ7yflsMp+N5n+o6veA6xbg+rkHnM/Q+6zGZ961i1G+95rPdPMlGBvvl+bLSvp1Nd8Drp8A1+0ecP28jsYA5/+b9D75msb3sev0mK8vlAQ430PvKZr6vQOnWbLlSwS4XrQKtiXAFSD1sAkBrgesgk0JcAVIPWxCgOsBq2BTAlwBUg+bEOB6wCrYlABXgNTDJgS4HrAKNiXAFSD1sAkBrgesgk0JcAVIPWxCgOsBa5pNCXDtfzbkADdnVf/YsfPjjtsXjw0gwPkqVAs1x2m+qvHPvA7RvFjjoNbp4Z9xPkHjK379RuPbyfgkiktra2QOIFZBAAEEmgQIcLPnkPiLXup3NKdpHHseovFZUttpfAaYLz3oh6ONA9uRmoUahzLfp8xnr/leab4/2zoa34/tXo1/NeWa2jYOcr60oh8f1fg+bf66z5jzWXFv1Lxec1Rtmwn92S3AeVPfL82v1WeS+Z5yu2kc8vweprsE5Rx93Ze8fKjmMI0v7env8W+r7F17DX49fq++n5zP/nOsO1TjS2D6tfkxrunnEpQH6/sdNv2Ptc8ifK3G91jzPfJ82VE/+nkdjQHOa71I43vRfU7jMxH9mzgbanxvPgdR/4fCfE1JgHuztjtc48uP+tKjvgTnotpr7vYHAa6bUI9fJ8D1CNZlcwJc1pMAl/UkwGU9CXBZTwJc1pMAl/UkwGU9CXBZTwJc1pMAl/UkwGU8CXAtjlNnwO36zrIA923/SHJsA821mT3Ssop/Lupb4fgWLvWHf4b2OI2vUNXp4V/Kv7Hpi/5lfp9s4Fu3+ApjPBBAAIG4AAEuTvrPBY/XR6tpfK+z5ofvfXazph6RSl6Fo49Psd5cUz+Ty/HnwxqHmMaH77t2gGYzzV2aqzXf1fg3O+6ubeh/DH2Kti9b6UtYLtIco6mfObeCPvZvkPgstAfXvu4o95mGJ5rQxyUBzvdPc7xyBPK6vlykz1rzb51MF+D8VPfX+Iy252nqZ9P5nnLvbHgd++pjv995GsdJnzX3fo0Dox/jmn4CnN/jf2mO1tjfEe5Aje+91/iY6etoDnBecyeN/f0fAX4s0vxA4yB6k2a+piTA+b5u3mdez+H1BM140+vu9FcCXCFU6WYEuFKpsu0IcGVOpVsR4EqlyrYjwJU5lW5FgCuVKtuOAFfmVLoVAa5Uqmw7AlyZU+lWBLhSqbLtCHBlTqVbEeBKpcq2I8CVOXXbigDXIjT5s6H/3KUswF18SqUBzr+of4vGP5PzL97XH8/VB6douv2MsfnN1W8D4+/3SQ88EEAAgbgAAS5O+s8FfQ82hxufDt388BlODlI+q4nH8i0wUduP/u2aUXsQ4MJ7nACXBSXAZT0JcFlPAlzWkwCX9STAZT0JcFlPAlzWkwCX9STAZT0JcFlPAlzGkwDX4jgV4J5bGOBOrTTA+Qw334bHJxP4l9Trj430ga8W1fz5bgfFa7SBb93iK4L5qlE8EEAAgbgAAS5O+s8Fl+gjX7bxJ22ewtcn9uUS51b39KwcEpjQOu3O8gstv1wvQ4AL7x4CXBaUAJf1JMBlPQlwWU8CXNaTAJf1JMBlPQlwWU8CXNaTAJf1JMBlPQlwGU8CXIvj5M+Gtnh2WYC76H8mA9zWmusbVvJVwDz9PnzZybM122p8u5z6Y1194MtLvlzjy1GWPPw9vv/b+ZpdS76BbRBAAIGZCBDgZqJW9j2+7KNvCOrLPDY/fE8xX37Sp0bzWL4FJvTyCHDrrLV876VZ8uoIcNkdRYDLehLgsp4EuKwnAS7rSYDLehLgsp4EuKwnAS7rSYDLehLgsp4EuIwnAa7FcTLAbfmssgB34fcmA1zz4zB9wj9fa/fwD5x865tuj2u0gcNeIsCtrHW+r/ElKH3rF9/OhgcCCCBQiQABrhLWyUX9L86bNHtovtbwNL78pO8Pd6TG9/jigcDyKsAZcOE9Q4DLghLgsp4EuKwnAS7rSYDLehLgsp4EuKwnAS7rSYDLehLgsp4EuKwnAS7jSYBrcZwKcM88ZGzOqmtPi3zH7YvHLvz++7xNL2fA7aXtP1uw9xzLVtD4EpTP0JzW8D29XILSPws/UbOL5kkanwXHAwEEEKhMgABXGe3YKlr6mxpfhvI2jX+bwr/RsarGv2XxfM2d1T09KyPQtwABrm/CZRcgwGVBCXBZTwJc1pMAl/UkwGU9CXBZTwJc1pMAl/UkwGU9CXBZTwJc1pMAl/EkwLU4Tv5saKtnlAW4C34wGeA20Fyb2SPLrDJHf7tF8zbNJxq+srM+PlXjK40t6vK8H9XX99f457U/ruA1siQCCCCwjAABrvoDYic9he/5to7mb5of8f/gq0fnGSICBLgI432LEOCyoAS4rCcBLutJgMt6EuCyngS4rCcBLutJgMt6EuCyngS4rCcBLutJgMt4EuBaHCd/NrT10xXg7tflDLh/LB47/7RKA5xfnM9888kNPnut/viCPthCs2mXo+Agff39Gt8r7suZI4ZVEEAAgekFCHAcIQgg0EmAABc+NghwWVACXNaTAJf1JMBlPQlwWU8CXNaTAJf1JMBlPQlwWU8CXNaTAJf1JMBlPAlwLY5TAe5p7ygLcKe7b1V2BpzX3l6zUHOsxrf8ebLmXZqXaL7e8Orv1scnaPasfe5l+vOLGse6o5ve5dX6+42ZI4hVEEAAgWUFCHDVHxHr6yn8j9XcNk91ZvVPzzMgMGMBAtyM6dp/IwEuC0qAy3oS4LKeBLisJwEu60mAy3oS4LKeBLisJwEu60mAy3oS4LKeBLiMJwGuxXHyZ0OP36kswP3ih5UHOL/A52req9lY80fNBzTHN73ypfq7A9x47fML9OerOxwlu+vz/joPBBBAIC5AgIuT/nPBh+ujkzTb1D7TbO1/CFas7ulZGYG+BQhwfRMuuwABLgtKgMt6EuCyngS4rCcBLutJgMt6EuCyngS4rCcBLutJgMt6EuCyngS4jCcBrsVxKsA9tTDA/WggAS6zs1kFAQQQGIAAAa46ZN/I85GaQzVXau5s81SXVvf0rIxA3wIEuL4JCXBhwmWWI8BldQlwWU8CXNaTAJf1JMBlPQlwWU8CXNaTAJf1JMBlPQlwWU8CXMaTANfiOPmzoSf8V1mAO+/HBLjMkcgqCCAwLAIEuOr25C1a2qc2f7O6p2BlBCoVIMCFeTkDLgtKgMt6EuCyngS4rCcBLutJgMt6EuCyngS4rCcBLutJgMt6EuCyngS4jCcBrkOAm39w0T3gzlvoq0FWeg+4zI5mFQQQQGBAAgS46qCv0tJv15xS3VOwMgKVChDgwrwEuCwoAS7rSYDLehLgsp4EuKwnAS7rSYDLehLgsp4EuKwnAS7rSYDLehLgMp4EuPYBbhsHuLlrT4t8x5LFY+cS4DIHIqsggMDQCBDgqtuVL9DSb9U8W/P36p6GlRGoTIAAF6YlwGVBCXBZTwJc1pMAl/UkwGU9CXBZTwJc1pMAl/UkwGU9CXBZTwJc1pMAl/EkwHUIcDs6wK3VJcDdNHbuGZwBlzkSWQUBBIZFgABX3Z78jpZ+nMb/Ol2iWdz0VEv1912qe3pWRqBvAQJc34TLLkCAy4IS4LKeBLisJwEu60mAy3oS4LKeBLisJwEu60mAy3oS4LKeBLisJwEu40mA6xDgdjh4bG6XALdkiQLcmQS4zJHIKgggMCwCBLjq9uRPC5Z+csE2bILAv0qAABeWJ8BlQQlwWU8CXNaTAJf1JMBlPQlwWU8CXNaTAJf1JMBlPQlwWU8CXNaTAJfxJMB1CHBPKgxwZxHgMkciqyCAwLAIEOCGZU/yPhDICxDgwqYEuCwoAS7rSYDLehLgsp4EuKwnAS7rSYDLehLgsp4EuKwnAS7rSYDLehLgMp4EuPYBbtvtDio6A+7n53zQC2yguTazR1gFAQQQmN0CBLjZvf949QhUKUCAC+sS4LKgBLisJwEu60mAy3oS4LKeBLisJwEu60mAy3oS4LKeBLisJwEu60mAy3gS4NoHuO22fXtRgDvn5x8iwGUORVZBAIEhESDAZXfkAVrui5obNP54uofvAXdE9ulZDYGoAAEuyqlfATtppfCKo70cAS67/wlwWU8CXNaTAJf1JMBlPQlwWU8CXNaTAJf1JMBlPQlwWU8CXMaTANfiOPmzoe22KQxw5xLgMkciqyCAwLAIEOCye/JeLbeN5hcafzzdwwFuxezTsxoCUQECXJSTABfmHCPAZUUJcFlPAlzWkwCX9STAZT0JcFlPAlzWkwCX9STAZT0JcFlPAlzGkwDX4lgLcAeOzZ2z1rTIS+64aeyccz/sbbgEZeZwZBUEEBgCAQLcEOxE3gICFQkQ4MKwnAGXBSXAZT0JcFlPAlzWkwCX9STAZT0JcFlPAlzWkwCX9STAZT0JcFlPAlzGkwDXPsA98fFvKwpwP/vF4QS4zKHIKgggMCQCBLhqduRcLetf+ThJc341T8GqCFQuQIALExPgsqAEuKwnAS7rSYDLehLgsp4EuKwnAS7rSYDLehLgsp4EuKwnAS7rSYDLeBLg2ge47bcqC3BnX0CAyxyJrIIAAsMiQICrbk/eqqWfrTmjuqdgZQQqFSDAhXkJcFlQAlzWkwCX9STAZT0JcFlPAlzWkwCX9STAZT0JcFlPAlzWkwCX9STAZTwJcB0C3JZvLToD7uwLP+IFuARl5nBkFQQQGAIBAlx1O/F0Lf1jzeTdR3kgMAsFCHDhnUaAy4IS4LKeBLisJwEu60mAy3oS4LKeBLisJwEu60mAy3oS4LKeBLisJwEu40mA6xDgtigMcBcR4DJHIqsggMCwCBDgqtuT22jpL2o+pfme5gbN0qan+3t1T8/KCPQtQIDrm3DZBQhwWVACXNaTAJf1JMBlPQlwWU8CXNaTAJf1JMBlPQlwWU8CXNaTAJf1JMBlPAlw7QPck/7zLUVnwJ118Ue9AGfAZQ5HVkEAgSEQIMBVtxPvbVi6ObzVv7RidU/Pygj0LUCA65uQABcmXGY5AlxWlwCX9STAZT0JcFlPAlzWkwCX9STAZT0JcFlPAlzWkwCX9STAZTwJcB0C3GMPGJu7ylrTIi+586axsy79GAEucyiyCgIIDIkAAa66HTmupTuFt/qznlDd07MyAn0LEOD6JiTAhQkJcBWCEuCyuAS4rCcBLutJgMt6EuCyngS4rCcBLutJgMt6EuCyngS4jCcBrn2A2+Exby4KcGdedgQBLnMosgoCCAyJAAFuSHYkbwOBCgQIcGFULkGZBeUMuKwnAS7rSYDLehLgsp4EuKwnAS7rSYDLehLgsp4EuKwnAS7rSYDLeBLgOgS4zR3g1pwWecmdN4+deTkBLnMksgoCCAyLAAEuvyc31ZL7ah6muU5zsuZH+adhRQQqFyDAhYkJcFlQAlzWkwCX9STAZT0JcFlPAlzWkwCX9STAZT0JcFlPAlzWkwCX9STAZTwJcB0C3GZvKgtwV3zcC3APuMzhyCoIIDAEAgS47E7cvhbbVtafN2rW0aygeZ3m09mnYjUEKhcgwIWJCXBZUAJc1pMAl/UkwGU9CXBZTwJc1pMAl/UkwGU9CXBZTwJc1pMAl/UkwGU8CXDtA9yOm7yxKMCd8atPEOAyhyKrIIDAkAgQ4LI78se16Laz/vyTxudmf16zo2bd7FOxGgKVCxDgwsQEuCwoAS7rSYDLehLgsp4EuKwnAS7rSYDLehLgsp4EuKwnAS7rSYDLehLgMp4EuA4B7tFvKAtwVx1JgMsciqyCAAJDIkCAy+7Iv2g5X37ymw3LztPH12g21DjK8UBgtggQ4MJ7igCXBSXAZT0JcFlPAlzWkwCX9STAZT0JcFlPAlzWkwCX9STAZT0JcFlPAlzGkwDX4jj5s6EdH/36sbkrd7kH3F03j51x1Se9AJegzByOrIIAAkMgQIDL7sR7tdw2ml80LLuiPr5Ls6Xm4uzTsRoClQoQ4MK8BLgsKAEu60mAy3oS4LKeBLisJwEu60mAy3oS4LKeBLisJwEu60mAy3oS4DKeBLgWx6kAt/H+ZQHu10d5AQJc5nBkFQQQGAIBAlx2JzrAPUFzfsOyBLisMasNToAAF7YmwGVBCXBZTwJc1pMAl/UkwGU9CXBZTwJc1pMAl/UkwGU9CXBZTwJc1pMAl/EkwHUIcBsVBrjfEuAyRyKrIIDAsAgQ4LJ70gHudo3/bHys3ubzS/W5tbJPz2oIRAUIcFFO/QrYSSuFVxzt5Qhw2f1PgMt6EuCyngS4rCcBLutJgMt6EuCyngS4rCcBLutJgMt6EuAyngS4FsfJnw3Nf8Rri86AW3j1MV6AM+AyhyOrIIDAEAgQ4LI78d09LndYj9uzOQKDFCDAhbUJcFlQAlzWkwCX9STAZT0JcFlPAlzWkwCX9STAZT0JcFlPAlzWkwCX9STAZTwJcB0C3MP2Kwtwv/8UAS5zKLIKAggMiQABbkh2JG8DgQoENtSaix78nv3GVrr/6xicRgAAD2BJREFUGhUsP3pLrv8NX5GWR0rg0QdemVqKdSTwngdeikNQ4CUH7BZcjaVuX5cziJNHwd33S67GWrc/BIOkwIq38T9Rk57/WP/u5HIjv9bD33HJyBskASbOvTC53Miv9aoz9hh5gwTAPYtvHrvhA0d7qXmaPyTWnOVrTJ0BN88BbvqfDS2565axhYsIcLN8f/PyEUAgLMD/ugmDshwCQySwld5L4/0Mh+it8VYQQAABBBBAAAEEEEAAAQQQQACBjgJb6ysX4DNWC3D7js1dqUuAu9sB7tMm4xKUHDgIIIBATYAAx6GAAAKdBOboC5trbtTcsxwzPUivzaHQ/3F8/XL8OmfLS8Mzu6fwxDMrkF2N4xPPrEB2NY5PPLMCudU4NnOWXglPPLMC2dU4PkfT05euWU9zueaOLMGsXG0qwG2wd1mA+9OxfpMEuFm5q3nRCCBQhQABrgpV1kQAgUEKTP7HIP+BFyPHM0Y5uRCeeGYFsqtxfOKZFciuxvGJZ1YgtxrHZs6S/1bKWuKJZ14guyL//zPrOajVpgLc/9urLMBde5xfV9UBbmc9x3s1G2v+qPmA5vM9gnxb2++ieZvmIz1+L5sjgAACxQIEuGIqNkQAgeVUgP+Iz+4YPPHMCmRX4/jEMyuQXY3jE8+sQHY1js+cJ5Y5S6+EJ55ZgexqHJ94ZgVm52pTAe4he5YFuOs+53dZZYDbXusv1Lj0fVXzFM0hmhdrTi4kfqa2c7B7oIYAV4jGZgggMDMBAtzM3PguBBBYfgT4H0XZfYEnnlmB7Gocn3hmBbKrcXzimRXIrsbxmfPEMmfplfDEMyuQXY3jE8+swOxcbSrAPXiPsgD35+P9LqsMcKdp/dU1T2zg/JI+fpxm0wJi327lCs37NX6xBLgCNDZBAIGZCxDgZm7HdyKAwPIhsKZexgGaj2luXj5e0qx+FXhmdx+eeGYFsqtxfOKZFciuxvGJZ1YgtxrHZs7SK+GJZ1YguxrHJ55Zgdm52lSAe9DuZQHu+skrQVYV4BzPbtEcqPl4A+dz9fEpmodpFnVh9tlyvvTkEzT3aghws/O45FUjMGsECHCzZlfxQhFAAAEEEEAAAQQQGKjAhJ7t3W2e8Zf63GbhV+LnOl1zTnhdlkMAAQQQQAABBBCYucBUgHvg+NjcFX3iWefHkntuHVt4wwJvUFWA8xlu/u9QX0LyBw2vZCN9/Js2n29+sQ/VJ67UPFVzrmaphgA382OD70QAgQIBAlwBEpsggAACCCCAAAIIIDCCAhN6z/4NY99bo/Fxu/5yWdiDH4CEQVkOAQQQQAABBBAICEwFuPVeVRbgbjzRT7m15vqG5/bVihJXLPJlJ8/WbKtxQKs/1tUHN2pervHlKDs9vqEv3KZ5VW0D/vszcICwBAIITC9AgOMIQQABBBBAAAEEEEAAgXYCE/rkWzXT/7pzxi79A5D76WX9I/PSWAUBBBBAAAEEEBhZgakAt+4rywLcX09qB3WYPun/rmz3WEuffHCB7jXaxmFvpgHuafpeB7iNNf9be770f38WvA02QQCBURMgwI3aHuf9IoAAAggggAACCCBQJuAflHQLcOPaxvdifZTmb5oFmkM199Sewj9QeZ9mvsYfX6v5usY/iLmjto1/+NH8eLI+sUjze82LNCc3bOB7fuyqmVf7nF+DbziyneY9tT/99/01/t87b9HsrdlQc53mk5ojGtbzD5Z8L9kdNf4h0J8139a8ueVV8QkEEEAAAQQQQGC0BKYC3DqvKAtwf/uCdXo5A24vbf/ZAtJNtM0KGl+C8hma0xq+p+QSlFdpewe4wxu+7//08bs0R2kWF7wGNkEAAQR6FiDA9UzGNyCAAAIIIIAAAgggMBICE3qXDnBrN71bxzVHM4e3D2scs3z/Nv9gxLHtaM1Bte/ZXH++WuPfVvYPORzqvK633722zTb68+cah7H6ZYN8f44HaHoJcIu0/bEaX5LIl8k8T3Okxj/Y8evy3x3p3ql5g+bTtef/if5cX+P73d2g8f1BtqptU9uEPxBAAAEEEEAAgZEUmAxwO669W1GAO2Pxl41U1T3g5mjtWzS+b9snGvbGzvr4VM3DNIs67KV2v/DVuKmvnrBkJPcwbxoBBCoVIMBVysviCCCAAAIIIIAAAgjMWoEJvXJHqebHK/WJUzS+fI+j2TsaNthXH/tsMv/gxWfENT9W0iderDlB47PNHMr8aHcJoHn6fC8BztHvQw1P+Ah9/FuNX5PDXP3xQX3gKPgQzb2aWzUHa/xeeCCAAAIIIIAAAgjcJzAV4NZSgFthtWldltx729gZN1Ua4Pz8PvNtVc2TGl6MT7vbQrPpNC9wfpuv/VSf8y9kfVVzZu2/C9n3CCCAQFSAABflZDEEEEAAAQQQQAABBIZGYELv5EDNDk3vqH4Pjh/UfthxecPX5+ljRy//kOMMjf/3xhs1vgSkfyt5bsO2PjvuitrfEwGucT0vu4/mU5r1NDc1PK9f2w81fq1/0PgHLr48pcOcP/+7pvfLXxFAAAEEEEAAgVEVmApwa760LMDd/BU7VXUGnNfeXrNQ41+u+prGly33ZSRfovFlzuuPu/WBf+Frz2l2HPeAG9WjmveNwAAFCHADxOapEEAAAQQQQAABBBCYRQITeq2d7gH3cn1t8iYfHR4+S85f933UPqLxpSr9W8a+DKXvC+LLVPrPC2rfnwhw/661bmx4PYfo4/dO8xr9m9O+NGb9PnW+r9z9Nb/W+Ky+b86ifcVLRQABBBBAAAEEqhCYCnCrv7gswN3qJlZpgPP6z639N97G+vOPmg9ojm968/5vSwe48WlQCHBVHDGsiQACywgQ4DggEEAAAQQQQAABBBBAoJ3AhD7ZKcA9U1/7nub5mj+1+WZfOtKXoDxH4/uqPa9hG1/+cYGmW4B7kLb5s8axr35vOC/jH6bsqJlXW3Ncf35e4zPd/trwPPvpY4c+/6b0nW1eo0Ob7yNSf6ygD7bU+B5xz9L4hzo+248HAggggAACCCAwqgJTAW61F5UFuNsmT0Kr8gy4Ud0PvG8EEJilAgS4WbrjeNkIIIAAAggggAACCFQsMKH1OwW4tfW16zS+79p09067WF//jcaXBao/TtcHO2kaA5wD2Xs0jWesOYgt0fi+br60kB+r1Nbzx/NqnxvXn+0C3KP0+as0u2i+0/D83T70pSwv0zxd49fKAwEEEEAAAQQQGFWByQC3w9znFwW4M5dMXkCAADeqRwvvGwEEWgQIcBwUCCCAAAIIIIAAAggg0E5gQp/sFOC8/Vs0DmZHahZq7tE8XOPg9QLN7RpfetL3gPO2DnGv0PiMNN8PrjHAXaq/O8L5+W7T1M9O841EHMLepPHZbftrNtX4kkHz/CL0GNe0C3D+muOgL4d5uOY8zcoahznfL8SXnFxLc5rmpNpzOvC9XrONZqPac9aehj8QQAABBBBAAIGRE5gKcHOeNzb331ab9s0vWXrb2Jl3fMvbEOBG7jDhDSOAQCcBAhzHBgIIIIAAAggggAACCLQTmNAnpwtw/p6Xag7QbKa5S3O15rsan812t2Z1jSOYo5wfJ2tO1fiMtMYA5yj3Cc0mmvtpHMgWanxZyWM1T9H4cpEOaY53jmfzamuO689OAc7/e+d1mn00Dm+3ahz3fH2kIzRzNEdpfD+4h2r+ofF96XwZyvNr6/MHAggggAACCCAwqgJTAW6VXRXgVp3WYMnS28fOvPPb3oYAN6pHC+8bAQRaBAhwHBQIIIAAAggggAACCCCAAAIIIIAAAggggAACzQKTAe5JK+1SFODOuvsUAhzHEAIIINAgQIDjcEAAAQQQQAABBBBAAAEEEEAAAQQQQAABBBBoG+C2/7fnFAW4s5f6QgicAcdhhAACCNQFCHAcCwgggAACCCCAAAIIIIAAAggggAACCCCAAAJtA9zWuhr4nLG50+rcMbZE1+/+CQGOYwgBBBBoECDAcTgggAACCCCAAAIIIIAAAggggAACCCCAAAIINAusrU/4Hr8PKKT5u7Z7hGZx4fZshgACCAy1AAFuqHcvbw4BBBBAAAEEEEAAAQQQQAABBBBAAAEEEJixgCPc6oXffSvxrVCKzRBAYCQECHAjsZt5kwgggAACCCCAAAIIIIAAAggggAACCCCAAAIIIIAAAoMSIMANSprnQQABBBBAAAEEEEAAAQQQQAABBBBAAAEEEEAAAQQQGAkBAtxI7GbeJAIIIIAAAggggAACCCCAAAIIIIAAAggggAACCCCAwKAECHCDkuZ5EEAAAQQQQAABBBBAAAEEEEAAAQQQQAABBBBAAAEERkKAADcSu5k3iQACCCCAAAIIIIAAAggggAACCCCAAAIIIIAAAgggMCgBAtygpHkeBBBAAAEEEEAAAQQQQAABBBBAAAEEEEAAAQQQQACBkRAgwI3EbuZNIoAAAggggAACCCCAAAIIIIAAAggggAACCCCAAAIIDEqAADcoaZ4HAQQQQAABBBBAAAEEEEAAAQQQQAABBBBAAAEEEEBgJAQIcCOxm3mTCCCAAAIIIIAAAggggAACCCCAAAIIIIAAAggggAACgxIgwA1KmudBAAEEEEAAAQQQQAABBBBAAAEEEEAAAQQQQAABBBAYCQEC3EjsZt4kAggggAACCCCAAAIIIIAAAggggAACCCCAAAIIIIDAoAQIcIOS5nkQQAABBBBAAAEEEEAAAQQQQAABBBBAAAEEEEAAAQRGQoAANxK7mTeJAAIIIIAAAggggAACCCCAAAIIIIAAAggggAACCCAwKAEC3KCkeR4EEEAAAQQQQAABBBBAAAEEEEAAAQQQQAABBBBAAIGRECDAjcRu5k0igAACCCCAAAIIIIAAAggggAACCCCAAAIIIIAAAggMSoAANyhpngcBBBBAAAEEEEAAAQQQQAABBBBAAAEEEEAAAQQQQGAkBAhwI7GbeZMIIIAAAggggAACCCCAAAIIIIAAAggggAACCCCAAAKDEiDADUqa50EAAQQQQAABBBBAAAEEEEAAAQQQQAABBBBAAAEEEBgJAQLcSOxm3iQCCCCAAAIIIIAAAggggAACCCCAAAIIIIAAAggggMCgBAhwg5LmeRBAAAEEEEAAAQQQQAABBBBAAAEEEEAAAQQQQAABBEZCgAA3EruZN4kAAggggAACCCCAAAIIIIAAAggggAACCCCAAAIIIDAoAQLcoKR5HgQQQAABBBBAAAEEEEAAAQQQQAABBBBAAAEEEEAAgZEQ+P/PYwOyBEdX1QAAAABJRU5ErkJggg==\" width=\"1599.9999653209347\">"
      ],
      "text/plain": [
       "<IPython.core.display.HTML object>"
      ]
     },
     "metadata": {},
     "output_type": "execute_result"
    },
    {
     "data": {
      "text/plain": [
       "Text(0,0.5,'Principal Components')"
      ]
     },
     "execution_count": 157,
     "metadata": {},
     "output_type": "execute_result"
    }
   ],
   "source": [
    "plt.matshow(components, cmap='viridis')\n",
    "plt.yticks([0, 1], [\"First component\", \"Second component\"])\n",
    "plt.colorbar()\n",
    "plt.xticks(range(len(newX.columns)), newX.columns, rotation=60, ha=\"left\")\n",
    "plt.xlabel(\"Features\")\n",
    "plt.ylabel(\"Principal Components\")"
   ]
  },
  {
   "cell_type": "code",
   "execution_count": 136,
   "metadata": {},
   "outputs": [
    {
     "data": {
      "text/plain": [
       "(2,)"
      ]
     },
     "execution_count": 136,
     "metadata": {},
     "output_type": "execute_result"
    }
   ],
   "source": [
    "pipeline.named_steps[\"decisiontreeregressor\"].feature_importances_.shape"
   ]
  },
  {
   "cell_type": "code",
   "execution_count": 146,
   "metadata": {},
   "outputs": [
    {
     "data": {
      "text/plain": [
       "Text(-76.8056,0.5,'Feature')"
      ]
     },
     "execution_count": 146,
     "metadata": {},
     "output_type": "execute_result"
    }
   ],
   "source": [
    "plt.barh(range(2), pipeline.named_steps[\"decisiontreeregressor\"].feature_importances_, align=\"center\")\n",
    "plt.yticks(np.arange(2),  [\"First component\", \"Second component\"])\n",
    "plt.xlabel(\"Feature importance\")\n",
    "plt.ylabel(\"Feature\")"
   ]
  },
  {
   "cell_type": "code",
   "execution_count": 147,
   "metadata": {},
   "outputs": [
    {
     "data": {
      "text/plain": [
       "Text(-76.8056,0.5,'Feature')"
      ]
     },
     "execution_count": 147,
     "metadata": {},
     "output_type": "execute_result"
    }
   ],
   "source": [
    "plt.barh(range(2), pipeline.named_steps[\"decisiontreeregressor\"].feature_importances_, align=\"center\")\n",
    "plt.yticks(np.arange(2),  [\"First component\", \"Second component\"])\n",
    "plt.xlabel(\"Feature importance\")\n",
    "plt.ylabel(\"Feature\")"
   ]
  },
  {
   "cell_type": "code",
   "execution_count": 150,
   "metadata": {
    "collapsed": true
   },
   "outputs": [],
   "source": [
    "%matplotlib notebook"
   ]
  },
  {
   "cell_type": "code",
   "execution_count": 151,
   "metadata": {
    "collapsed": true
   },
   "outputs": [],
   "source": [
    "%matplotlib notebook"
   ]
  },
  {
   "cell_type": "code",
   "execution_count": 152,
   "metadata": {},
   "outputs": [
    {
     "data": {
      "text/plain": [
       "<IPython.core.display.Javascript object>"
      ]
     },
     "metadata": {},
     "output_type": "display_data"
    },
    {
     "data": {
      "text/html": [
       "<img src=\"data:image/png;base64,iVBORw0KGgoAAAANSUhEUgAAAsAAAAIQCAYAAACPEdjAAAAgAElEQVR4Xu3dCZhkWVUn8EJw1xYZUNrulhIQBMQNaRBRyh1FRxaZAVEpBMUGdAREdiwEpV1AlA9kE9IFV0YcxOVTwRZcoMEZFRAFwVIaGgHBBRdcYM7BCI1OMutGvIibp26/3/u+Q2RG3Xfvi9+90fzz5YuXVzlmI0CAAAECBAgQIDAjgavM6LV6qQQIECBAgAABAgSOCcAWAQECBAgQIECAwKwEBOBZTbcXS4AAAQIECBAgIABbAwQIECBAgAABArMSEIBnNd1eLAECBAgQIECAgABsDRAgQIAAAQIECMxKQACe1XR7sQQIECBAgAABAgKwNUCAAAECBAgQIDArAQF4VtPtxRIgQIAAAQIECAjA1gABAgQIECBAgMCsBATgWU23F0uAAAECBAgQICAAWwMECBAgQIAAAQKzEhCAZzXdXiwBAgQIECBAgIAAbA0QIECAAAECBAjMSkAAntV0e7EECBAgQIAAAQICsDVAgAABAgQIECAwKwEBeFbT7cUSIECAAAECBAgIwNYAAQIECBAgQIDArAQE4FlNtxdLgAABAgQIECAgAFsDBAgQIECAAAECsxIQgGc13V4sAQIECBAgQICAAGwNECBAgAABAgQIzEpAAJ7VdHuxBAgQIECAAAECArA1QIAAAQIECBAgMCsBAXhW0+3FEiBAgAABAgQICMDWAAECBAgQIECAwKwEBOBZTbcXS4AAAQIECBAgIABbAwQIECBAgAABArMSEIBnNd1eLAECBAgQIECAgABsDRAgQIAAAQIECMxKQACe1XR7sQQIECBAgAABAgKwNUCAAAECBAgQIDArAQF4VtPtxRIgQIAAAQIECAjA1gABAgQIECBAgMCsBATgWU23F0uAAAECBAgQICAAWwMECBAgQIAAAQKzEhCAZzXdXiwBAgQIECBAgIAAbA0QIECAAAECBAjMSkAAntV0e7EECBAgQIAAAQICsDVAgAABAgQIECAwKwEBeFbT7cUSIECAAAECBAgIwNYAAQIECBAgQIDArAQE4FlNtxdLgAABAgQIECAgAFsDBAgQIECAAAECsxIQgGc13V4sAQIECBAgQICAAGwNECBAgAABAgQIzEpAAJ7VdHuxBAgQIECAAAECArA1QIAAAQIECBAgMCsBAXhW0+3FEiBAgAABAgQICMDWAAECBAgQIECAwKwEBOBZTbcXS4AAAQIECBAgIABbAwQIECBAgAABArMSEIBnNd1eLAECBAgQIECAgABsDRAgQIAAAQIECMxKQACe1XR7sQQIECBAgAABAgKwNUCAAAECBAgQIDArAQF4VtPtxRIgQIAAAQIECAjA1gABAgQIECBAgMCsBATgWU23F0uAAAECBAgQICAAWwMECBAgQIAAAQKzEhCAZzXdXiwBAgQIECBAgIAA3HcNfHB0f9Oot0X9e9+h9E6AAAECBAgQuILAVeO7a0W9MurdbP5LQADuuxo+M7p/ed8h9E6AAAECBAgQOKPAzeNfX8FIAD6qNXCdGOj0pZdeeuzcc889qjGNQ4AAAQIECBA4dvnllx+78MILU+J41F8gEYCPag2cHwO9MbZj55+fX9oIECBAgAABAkcjcNlllx274IILcrD8n8uOZtQxRnEJRN95EoD7+uqdAAECBAgQOERAAD58aQjAfd82AnBfX70TIECAAAECAvDGa0AA3phsox0E4I24NCZAgAABAgR2JeAMsDPAu1pLm/YjAG8qpj0BAgQIECCwEwEBWADeyUKa0IkAPAHNLgQIECBAgMD2AgKwALz9KprWgwA8zc1eBAgQIECAwJYCArAAvOUSmry7ADyZzo4ECBAgQIDANgICsAC8zfrZZl8BeBs9+xIgQIAAAQKTBQRgAXjy4tlyRwF4S0C7EyBAgAABAtMEBGABeNrK2X4vAXh7Qz0QIECAAAECEwQEYAF4wrLZyS4C8E4YdUKAAAECBAhsKiAAC8CbrpldtReAdyWpHwIECBAgQGAjAQFYAN5oweywsQC8Q0xdESBAgAABAusLCMAC8PqrZbctBeDdeuqNAAECBAgQWFNAABaA11wqO28mAO+cVIcECBAgQIDAOgICsAC8zjrp0UYA7qGqTwIECBAgQKApIAALwM1F0qnB+wLweRftHbvaOdfsNIRuCRAgQIDANIHTF99u2o72GkJAABaAqxaqAFwlb1wCBAgQaAoIwE2ioRsIwAJw1QIWgKvkjUuAAAECTQEBuEk0dAMBWACuWsACcJW8cQkQIECgKSAAN4mGbiAAC8BVC1gArpI3LgECBAg0BQTgJtHQDQRgAbhqAQvAVfLGJUCAAIGmgADcJBq6gQAsAFctYAG4St64BAgQINAUEICbREM3EIAF4KoFLABXyRuXAAECBJoCAnCTaOgGArAAXLWABeAqeeMSIECAQFNAAG4SDd1AABaAqxawAFwlb1wCBAgQaAoIwE2ioRsIwAJw1QIWgKvkjUuAAAECTQEBuEk0dAMBWACuWsACcJW8cQkQIECgKSAAN4mGbiAAC8BVC1gArpI3LgECBAg0BQTgJtHQDQRgAbhqAQvAVfLGJUCAAIGmgADcJBq6gQAsAFctYAG4St64BAgQINAUEICbREM3EIAF4KoFLABXyRuXAAECBJoCAnCTaOgGArAAXLWABeAqeeMSIECAQFNAAG4SDd1AABaAqxawAFwlb1wCBAgQaAoIwE2ioRsIwAJw1QIWgKvkjUuAAAECTQEBuEk0dAMBWACuWsACcJW8cQkQIECgKSAAN4mGbiAAC8BVC1gArpI3LgECBAg0BQTgJtHQDQRgAbhqAQvAVfLGJUCAAIGmgADcJBq6gQAsAFctYAG4St64BAgQINAUEICbREM3EIAF4KoFLABXyRuXAAECBJoCAnCTaOgGArAAXLWABeAqeeMSIECAQFNAAG4SDd1AABaAqxawAFwlb1wCBAgQaAoIwE2ioRsIwAJw1QIWgKvkjUuAAAECTQEBuEk0dAMBWACuWsACcJW8cQkQIECgKSAAN4mGbiAAC8BVC1gArpI3LgECBAg0BQTgJtHQDQRgAbhqAQvAVfLGJUCAAIGmgADcJBq6gQAsAFctYAG4St64BAgQINAUEICbREM3EIAF4KoFLABXyRuXAAECBJoCAnCTaOgGArAAXLWABeAqeeMSIECAQFNAAG4SDd1AABaAqxawAFwlb1wCBAgQaAoIwE2ioRsIwAJw1QIWgKvkjUuAAAECTQEBuEk0dAMBWACuWsACcJW8cQkQIECgKSAAN4mGbiAAC8BVC1gArpI3LgECBAg0BQTgJtHQDQRgAbhqAQvAVfLGJUCAAIGmgADcJBq6gQAsAFctYAG4St64BAgQINAUEICbREM3EIAF4KoFLABXyRuXAAECBJoCAnCTaOgGArAAXLWABeAqeeMSIECAQFNAAG4SDd1AABaAqxawAFwlb1wCBAgQaAoIwE2ioRsIwAJw1QIWgKvkjUuAAAECTQEBuEk0dAMBWACuWsACcJW8cQkQIECgKSAAN4mGbiAAC8BVC1gArpI3LgECBAg0BQTgJtHQDQRgAbhqAQvAVfLGJUCAAIGmgADcJBq6gQAsAFctYAG4St64BAgQINAUEICbREM3EIAF4KoFLABXyRuXAAECBJoCAnCTaOgGArAAXLWABeAqeeMSIECAQFNAAG4SDd1AABaAqxawAFwlb1wCBAgQaAoIwE2ioRsIwAJw1QIWgKvkjUuAAAECTQEBuEk0dAMBWACuWsACcJW8cQkQIECgKSAAN4mGbiAAC8BVC1gArpI3LgECBAg0BQTgJtHQDQRgAbhqAQvAVfLGJUCAAIGmgADcJBq6gQAsAFctYAG4St64BAgQINAUEICbREM3EIAF4KoFLABXyRuXAAECBJoCAnCTaOgGArAAXLWABeAqeeMSIECAQFNAAG4SDd1AABaAqxawAFwlb1wCBAgQaAoIwE2ioRsIwAJw1QIWgKvkjUuAAAECTQEBuEk0dAMBWACuWsACcJW8cQkQIECgKSAAN4mGbiAAC8BVC1gArpI3LgECBAg0BQTgJtHQDQRgAbhqAQvAVfLGJUCAAIGmgADcJBq6gQAsAFctYAG4St64BAgQINAUEICbREM3EIAF4KoFLABXyRuXAAECBJoCAnCTaOgGArAAXLWABeAqeeMSIECAQFNAAG4SDd1AABaAqxawAFwlb1wCBAgQaAoIwE2ioRsIwAJw1QIWgKvkjUuAAAECTQEBuEk0dAMBWACuWsACcJW8cQkQIECgKSAAN4mGbiAAC8BVC1gArpI3LgECBAg0BQTgJtHQDQRgAbhqAQvAVfLGJUCAAIGmgADcJBq6gQAsAFctYAG4St64BAgQINAUEICbREM3EIAF4KoFLABXyRuXAAECBJoCAnCTaOgGArAAXLWABeAqeeMSIECAQFNAAG4SDd1AABaAqxawAFwlb1wCBAgQaAoIwE2ioRsIwAJw1QIWgKvkjUuAAAECTQEBuEk0dAMBWACuWsACcJW8cQkQIECgKSAAN4mGbiAAC8DbLODbx84fF/WUCZ0IwBPQ7EKAAAECRyMgAB+Nc9UoArAAvM3a24udPzPqkyd0IgBPQLMLAQIECByNgAB8NM5VowjAAvA2a08A3kbPvgQIECBw1goIwGft1OzkwATgdgC+dzR5QNTxqMujnhn13VHvWex6Mh6fHXXzxfO3jsc3Rt036kVR3xn1DYu2z4rHh6/seyq+/raoz4t6ctSnRP151IOiXrDv0NY9js9YHMfnxuObox4T9WP7+rpdfP+oxXjvisfnLo7jHxbtTsTjb0Z9cdQ9or4i6h2LY/zeRZu9eLz7vn5/NL4/ue+5w751BnhNKM0IECBA4OgFBOCjNz/KEQXgw7WvEv/0zVE/FPWkqAykt4p6RNQTozK45paBLwPwa6KeGvWnUQ+JullUBsJzon4y6hZRj4662+L73PdU1EOj3hT1+KgMvxdF3TYqg+wrF2NsehzPiP1eFZXB+6uibrI4vuwuv/+ZqDzmDL7nRl0clYH3LovxTiy+f0M8/njUb0fl9b4Z6r806lejrheVNp8Ula8pt7dFvX7xdetBAG4J+XcCBAgQKBMQgMvoj2RgAfhw5gzAGeh+I+quK83y7O8Do/LDX38ddTIqw+R9on540S6vic3w+tKoz1rZ9xXxdZ4dvsPiuVPx+B1R94zKs8O5XTXqdVEvW4yb379lg+PIkLr8UNqHx9dvjXpc1GOj8jVlyP7dqK9eOa4M3L8cddOoV0ediMpA/H1R375ol/tmIH5h1L0Wz+3F47rXAOcPAlnL7drxxcvPu2jv2NXOuebK074kQIAAAQL1AgJw/Rz0PAIB+HDdDHzvjbpT1M+vNPvU+PoPor4s6leiTkZlAP7EqD9btPugeHx31HdF5Rnj5ZZngm8QlaExt1NRGYCvEfXOlXZPiK/zjOt1o/LsbZ7NnXIc2eUfR7046puibhj1J1EZwFcvsfjA+P7vozKI51nrE1EZgL8oKn8AWG4Zkj8gKgNzbntR6wbgU9E2X+sVNgF4v4jvCRAgQOBsEBCAz4ZZ6HcMAvDhtssAnNf0/s5KszxzmdcCf03Uc6JORmUAvlbU21faZXjOa3m/f+W5/YExQ+HDojIwr24Pjm/y3z40Ksd/yeJxynFkWM/K4/zsqLyc4bDtkfEPeab4RFQG4LyuOc9aL7dfiC+uvvj3fG4vat0A7AzwGeD9EwECBAicXQIC8Nk1H7s+GgH4cNFlAL5jNHneSrPDzgBPDcCtM8A3jrHzsoSpx7EagG8U/eQZ4ftF5SUW+7f80FzWiahdB+D9Y7kGeNfvZv0RIECAwM4EBOCdUZ6VHQnAZw7Aef1sXgKwer1sXtaQH4Dbfw3wNgG4dQ1wnnGeehyrAThD/V9G/WxUXsd82LZuAH56dPD5UdefsLoF4AlodiFAgACBoxEQgI/GuWoUAfjMAXh594UfjGZ5/esto/L2YQfdBWJqAF7eBSIvlcgPqOWH6fIa27yLxB8tDm+b41gNwNndnaPyWuQfifqlqLz12XWi8tZoeTnGa6NORK1zBvj+0S4/KPe1UfnBvbwE5PSai1kAXhNKMwIECBA4egEB+OjNj3JEAfhw7Txbmlt+eGz1PsB5i7GD7gM8NQDn2eQviMr7AOddGDIE550Xnr/v0KYex/4AnN3mh9vyfsTLD+NlaM1bm+U9g/826kTUOgE4r+t92qK//xaP7gN8lO9eYxEgQIBANwEBuBvtWdGxAHz4NCwDcM+JOhWdZwD+iJ6DnKV9OwN8lk6MwyJAgACB+HXmxfmLUduVVUAAFoCr1rYAXCVvXAIECBBoCgjATaKhGwjAAnDVAhaAq+SNS4AAAQJNAQG4STR0AwG4NgAPvXi2PHgBeEtAuxMgQIBAPwEBuJ/t2dCzACwAV61DAbhK3rgECBAg0BQQgJtEQzcQgAXgqgUsAFfJG5cAAQIEmgICcJNo6AYCsABctYAF4Cp54xIgQIBAU0AAbhIN3UAAFoCrFrAAXCVvXAIECBBoCgjATaKhGwjAAnDVAhaAq+SNS4AAAQJNAQG4STR0AwFYAK5awAJwlbxxCRAgQKApIAA3iYZuIAALwFULWACukjcuAQIECDQFBOAm0dANBGABuGoBC8BV8sYlQIAAgaaAANwkGrqBACwAVy1gAbhK3rgECBAg0BQQgJtEQzcQgAXgqgUsAFfJG5cAAQIEmgICcJNo6AYCsABctYAF4Cp54xIgQIBAU0AAbhIN3UAAFoCrFrAAXCVvXAIECBBoCgjATaKhGwjAAnDVAhaAq+SNS4AAAQJNAQG4STR0AwFYAK5awAJwlbxxCRAgQKApIAA3iYZuIAALwFULWACukjcuAQIECDQFBOAm0dANBGABuGoBC8BV8sYlQIAAgaaAANwkGrqBACwAVy1gAbhK3rgECBAg0BQQgJtEQzcQgAXgqgUsAFfJG5cAAQIEmgICcJNo6AYCsABctYAF4Cp54xIgQIBAU0AAbhIN3UAAFoCrFrAAXCVvXAIECBBoCgjATaKhGwjAAnDVAhaAq+SNS4AAAQJNAQG4STR0AwFYAK5awAJwlbxxCRAgQKApIAA3iYZuIAALwFULWACukjcuAQIECDQFBOAm0dANBGABuGoBC8BV8sYlQIAAgaaAANwkGrqBACwAVy1gAbhK3rgECBAg0BQQgJtEQzcQgAXgqgUsAFfJG5cAAQIEmgICcJNo6AYCsABctYAF4Cp54xIgQIBAU0AAbhIN3UAAFoCrFrAAXCVvXAIECBBoCgjATaKhGwjAAnDVAhaAq+SNS4AAAQJNAQG4STR0AwFYAK5awAJwlbxxCRAgQKApIAA3iYZuIAALwFULWACukjcuAQIECDQFBOAm0dANBGABuGoBC8BV8sYlQIAAgaaAANwkGrqBACwAVy1gAbhK3rgECBAg0BQQgJtEQzcQgAXgqgUsAFfJG5cAAQIEmgICcJNo6AYCsABctYAF4Cp54xIgQIBAU0AAbhIN3UAAFoCrFrAAXCVvXAIECBBoCgjATaKhGwjAAnDVAhaAq+SNS4AAAQJNAQG4STR0AwFYAK5awAJwlbxxCRAgQKApIAA3iYZuIAALwFULWACukjcuAQIECDQFBOAm0dANBGABuGoBC8BV8sYlQIAAgaaAANwkGrqBACwAVy1gAbhK3rgECBAg0BQQgJtEQzcQgAXgqgUsAFfJG5cAAQIEmgICcJNo6AYCsABctYAF4Cp54xIgQIBAU0AAbhIN3UAAFoCrFrAAXCVvXAIECBBoCgjATaKhGwjAAnDVAhaAq+SNS4AAAQJNAQG4STR0AwFYAK5awAJwlbxxCRAgQKApIAA3iYZuIAALwFULWACukjcuAQIECDQFBOAm0dANBGABuGoBC8BV8sYlQIAAgaaAANwkGrqBACwAVy1gAbhK3rgECBAg0BQQgJtEQzcQgAXgqgUsAFfJG5cAAQIEmgICcJNo6AYCsABctYAF4Cp54xIgQIBAU0AAbhIN3UAAFoCrFrAAXCVvXAIECBBoCgjATaKhGwjAAnDVAhaAq+SNS4AAAQJNAQG4STR0AwFYAK5awAJwlbxxCRAgQKApIAA3iYZuIAALwFULWACukjcuAQIECDQFBOAm0dANBGABuGoBC8BV8sYlQIAAgaaAANwkGrqBACwAVy1gAbhK3rgECBAg0BQQgJtEQzcQgAXgqgUsAFfJG5cAAQIEmgICcJNo6AYCsABctYAF4Cp54xIgQIBAU0AAbhIN3UAAFoCrFrAAXCVvXAIECBBoCgjATaKhGwjAAnDVAhaAq+SNS4AAAQJNAQG4STR0AwFYAK5awAJwlbxxCRAgQKApIAA3iYZuIAALwFULWACukjcuAQIECDQFBOAm0dANBGABuGoBC8BV8sYlQIAAgaaAANwkGrqBACwAVy1gAbhK3rgECBAg0BQQgJtEQzcQgAXgqgUsAFfJG5cAAQIEmgICcJNo6AYCsABctYAF4Cp54xIgQIBAU0AAbhIN3UAAFoCrFrAAXCVvXAIECBBoCgjATaKhGwjAAnDVAhaAq+SNS4AAAQJNAQG4STR0AwFYAK5awAJwlbxxCRAgQKApIAA3iYZuIAALwFULWACukjcuAQIECDQFBOAm0dANBGABuGoBC8BV8sYlQIAAgaaAANwkGrqBACwAVy3g9wXg2I6df35+aSNAgAABAgQIHI2AACwAH81Ke/9RBOAqeeMSIECAAIGZCwjAAnDVW0AArpI3LgECBAgQmLmAACwAV70FBOAqeeMSIECAAIGZCwjAAnDVW0AArpI3LgECBAgQmLmAACwAV70FBOAqeeMSIECAAIGZCwjAAnDVW0AArpI3LgECBAgQmLmAACwAV70FBOAqeeMSIECAAIGZCwjAAnDVW0AArpI3LgECBAgQmLmAACwAV70FBOAqeeMSIECAAIGZCwjAAnDVW0AArpI3LgECBAgQmLmAACwAV70FBOAqeeMSIECAAIGZCwjAAnDVW0AArpI3LgECBAgQmLmAACwAV70FBOAqeeMSIECAAIGZCwjAAnDVW0AArpI3LgECBAgQmLmAACwAV70FBOAqeeMSIECAAIGZCwjAAnDVW0AArpI3LgECBAgQmLmAACwAV70FBOAqeeMSIECAAIGZCwjAAnDVW0AArpI3LgECBAgQmLmAACwAV70FBOAqeeMSIECAAIGZCwjAAnDVW0AArpI3LgECBAgQmLmAACwAV70FBOAqeeMSIECAAIGZCwjAAnDVW0AArpI3LgECBAgQmLmAACwAV70FBOAqeeMSIECAAIGZCwjAAnDVW0AArpI3LgECBAgQmLmAACwAV70FBOAqeeMSIECAAIGZCwjAAnDVW0AArpI3LgECBAgQmLmAACwAV70FBOAqeeMSIECAAIGZCwjAAnDVW0AArpI3LgECBAgQmLmAACwAV70FBOAqeeMSIECAAIGZCwjAAnDVW0AArpI3LgECBAgQmLmAACwAV70FBOAqeeMSIECAAIGZCwjAAnDVW0AArpI3LgECBAgQmLmAACwAV70FBOAqeeMSIECAAIGZCwjAAnDVW0AArpI3LgECBAgQmLmAACwAV70FBOAqeeMSIECAAIGZCwjAAnDVW0AArpI3LgECBAgQmLmAACwAV70FBOAqeeMSIECAAIGZCwjAAnDVW0AArpI3LgECBAgQmLmAACwAV70FBOAqeeMSIECAAIGZCwjAAnDVW0AArpI3LgECBAgQmLmAACwAV70F3heAz7to79jVzrlm1TEYlwABAgQIEDjLBE5ffLvuRyQAC8DdF9khAwjAVfLGJUCAAAECZ7GAAFw7OVepHf5KP7oAfKWfYi+QAAECBAhsLiAAb262yz0E4F1qvn9fAnBfX70TIECAAIEhBQTg2mkTgPv6C8B9ffVOgAABAgSGFBCAa6dNAO7rLwD39dU7AQIECBAYUkAArp02AbivvwDc11fvBAgQIEBgSAEBuHbaBOC+/gJwX1+9EyBAgACBIQUE4NppE4D7+gvAfX31ToAAAQIEhhQQgGunTQDu6y8A9/XVOwECBAgQGFJAAK6dNgG4r78A3NdX7wQIECBAYEgBAbh22gTgvv4CcF9fvRMgQIAAgSEFBODaaROA+/oLwH199U6AAAECBIYUEIBrp00A7usvAPf11TsBAgQIEBhSQACunTYBuK+/ANzXV+8ECBAgQGBIAQG4dtoE4L7+AnBfX70TIECAAIEhBQTg2mkTgPv6C8B9ffVOgAABAgSGFBCAa6dNAO7rLwD39dU7AQIECBAYUkAArp02AbivvwDc11fvBAgQIEBgSAEBuHbaBOC+/gJwX1+9EyBAgACBIQUE4NppE4D7+gvAfX31ToAAAQIEhhQQgGunTQDu6y8A9/XVOwECBAgQGFJAAK6dNgG4r78A3NdX7wQIECBAYEgBAbh22gTgvv4CcF9fvRMgQIAAgSEFBODaaROA+/oLwH199U6AAAECBIYUEIBrp00A7usvAPf11TsBAgQIEBhSQACunTYBuK+/ANzXV+8ECBAgQGBIAQG4dtoE4L7+AnBfX70TIECAAIEhBQTg2mkTgPv6C8B9ffVOgAABAgSGFBCAa6dNAO7rLwD39dU7AQIECBAYUkAArp02AbivvwDc11fvBAgQIEBgSAEBuHbaBOC+/gJwX1+9EyBAgACBIQUE4NppE4D7+gvAfX31ToAAAQIEhhQQgGunTQDu6y8A9/XVOwECBAgQGFJAAK6dNgG4r78A3NdX7wQIECBAYEgBAbh22gTgvv4CcF9fvRMgQIAAgSEFBODaaROA+/oLwH199U6AAAECBIYUEIBrp00A7usvAPf11TsBAgQIEBhSQACunTYBuK+/ANzXV+8ECBAgQGBIAQG4dtoE4L7+AnBfX70TIHZLC+8AACAASURBVECAAIEhBQTg2mkTgPv6C8B9ffVOgAABAgSGFBCAa6dNAO7rLwD39dU7AQIECBAYUkAArp02AbivvwDc11fvBAgQIEBgSAEBuHbaBOC+/gJwX1+9EyBAgACBIQUE4NppE4D7+gvAfX31ToAAAQIEhhQQgGunTQDu6y8A9/XVOwECBAgQGFJAAK6dNgG4r78A3NdX7wQIECBAYEgBAbh22gTgvv4CcF9fvRMgQIAAgSEFBODaaROA+/oLwH199U6AAAECBIYUEIBrp00A7usvAPf11TsBAgQIEBhSQACunTYBuK+/ANzXV+8ECBAgQGBIAQG4dtoE4L7+AnBfX70TIECAAIEhBQTg2mkTgPv6C8B9ffVOgAABAgSGFBCAa6dNAO7rLwD39dU7AQIECBAYUkAArp02AbivvwDc11fvBAgQIEBgSAEBuHbaBOC+/gJwX1+9EyBAgACBIQUE4NppE4D7+gvAfX31ToAAAQIEhhQQgGunTQDu6y8A9/XVOwECBAgQGFJAAK6dNgG4r78A3NdX7wQIECBAYEgBAbh22gTgvv4CcF9fvRMgQIAAgSEFBODaaROA+/oLwH199U6AAAECBIYUEIBrp00A7usvAPf11TsBAgQIEBhSQACunTYBuK+/ANzXV+8ECBAgQGBIAQG4dtoE4L7+AnBfX70TIECAAIEhBQTg2mkTgPv6C8B9ffVOgAABAgSGFBCAa6dNAO7rLwD39dU7AQIECBAYUkAArp02AbivvwDc11fvBAgQIEBgSAEBuHbaBOC+/gJwX1+9EyBAgACBIQUE4NppE4D7+gvAfX31ToAAAQIEhhQQgGunTQDu6y8A9/XVOwECBAgQGFJAAK6dNgG4r78A3NdX7wQIECBAYEgBAbh22gTgvv4CcF9fvRMgQIAAgSEFBODaaROA+/oLwH199U6AAAECBIYUEIBrp00A7usvAPf11TsBAgQIEBhSQACunTYBuK+/ANzXV+8ECBAgQGBIAQG4dtoE4L7+AnBfX70TIECAAIEhBQTg2mkTgNv+Xx9N/jHqp9tN36+FADwBzS4ECBAgQODKLiAA186wANz2/+1o8vao27ebCsATjOxCgAABAgRmJyAA1065ANz2F4DbRloQIECAAAECGwgIwBtgdWiaAfiqUQ+PumfUtaPeEPX4qGeujPfY+Pp+UV8Q9ZSoT4l69WKf18bjD0bdOepdUd8b9aSVfX8ivv7kqEdEfU/U9aJeGXXfqEtX2m1yHLeJ/X446tOiXh91/6jfWOkrv8xLF/L5G0TlGdxnRZ2K+vdFu3vF4zMWfeRxfU7UmxdtnrNok+H3s/f1+8j4Pj3W2VwCsY6SNgQIECBAYGYCAnDthGcAzvB6n6jHRL0s6r8vvr8oHp+6OLwMfA+Mel3UE6LeFpVB94OjXh51WdSvRd0x6puibhG1DLcZgG8b9XdR37F4fFg83jDq+lEZTnPb9Diy/ZuiHhr16VHXiXrnoq9vj8fvisog/8Kom0Tla3hiVAbx3JYBOIN8BuE/jrp31B2ibhSVwf7GUT8V9TdRD17s98bFuItvz/ggAK+jpA0BAgQIEJiZgABcO+EZgP816uKoPLO53H42vsgzoudFvScqw2OeJf7iqF9fNMprYp8XlWdLv2bx3NXi8S1Rz4560OK5DMB3i8qzti9ePPfR8ZhB8gcW435sPGaIXvc4viTaZuDOLUN0BvO7RuUH1a4elcE4w++jFm3yIc9g55nefE0ZaJcBOEPv0xftPjIe3xr16MWx5NObXAJxTrTPWm55Rv3l5120d+xq51xz5WlfEiBAgAABAnMWEIBrZz8D8HujPjXqj1YO5U7x9XOj8vKBDJcZgB8S9SFR/7Zol2dH8+zpPaL2VvbNM795GcVdFs8tzwDvT4DPX/SXoforo35h4nHkMO+OyoD+/VG3i3pBVF6m8ZqV48qgnN/fOup3opYB+BPi69Mr7fLMb4brDMy5bRKAT0X7PMt9hU0A3i/iewIECBAgMG8BAbh2/pcBOM9U/tXKoWRIfEnULaPysojlNcB5dnW5Lc+85iUDGV6X2/7AmAH4ZlF5WcHqlpcdZP83jToZlWeNpxxH9pnXHufZ4zzOu0ft7Rtr9dvlmeJlAM6z0XlGeLm9Kr54aVT+e26bBGBngM8A758IECBAgACB/xAQgGtXwjIA59nS/GDacjvoDHCeEZ0agPMa4DOdAc7rjv9P1JTjyGNeDcBfEd/n2eU8q5wfatu/5dnpd0T1CMD7x3INcO36NjoBAgQIEDgrBQTg2mlZXgP8uDiM1etlfya+/9yo1WuAtwnArWuAPybGyut2pxzH/gB8jUVfD4jHvFPEYdu6AfhF0cG/RGWI33QTgDcV054AAQIECMxAQACuneTVu0DkB7/y+t08g5phd/9dILYJwPvvApF3bshLIvIyiryjRG7Lu0Bsehy57+oZ4Pw+79hwKirv+vBbUflBvrz9Wn5wL8825zXD6wbgJ0fbvGzi66LyA34Z1C9fc9oE4DWhNCNAgAABAnMSEIBrZ3t5H+C8Ndj++wDnNbrLbdtrgPM+wHmGOe/CcN2ovNwiA3Vea7vc8j7AU44j998fgPO5POv8rVE5dp7B/bOo/HBcBuwMxOsG4Aui7dOibhX1UVHuA7wyab4kQIAAAQIENhcQgDc32+UeR/GX4PJDcBlC849WzG1zBnhuM+71EiBAgACBNQQE4DWQOjYRgDviRtcCcF9fvRMgQIAAgSEFBODaaROA+/oLwH199U6AAAECBIYUEIBrp+0oAnDtK6wdXQCu9Tc6AQIECBA4KwUE4NppEYD7+gvAfX31ToAAAQIEhhQQgGunTQDu6y8A9/XVOwECBAgQGFJAAK6dNgG4r78A3NdX7wQIECBAYEgBAbh22gTgvv4CcF9fvRMgQIAAgSEFBODaaROA+/oLwH199U6AAAECBIYUEIBrp00A7usvAPf11TsBAgQIEBhSQACunTYBuK+/ANzXV+8ECBAgQGBIAQG4dtoE4L7+AnBfX70TIECAAIEhBQTg2mkTgPv6C8B9ffVOgAABAgSGFBCAa6dNAO7rLwD39dU7AQIECBAYUkAArp02AbivvwDc11fvBAgQIEBgSAEBuHbaBOC+/gJwX1+9EyBAgACBIQUE4NppE4D7+gvAfX31ToAAAQIEhhQQgGunTQDu6y8A9/XVOwECBAgQGFJAAK6dNgG4r78A3NdX7wQIECBAYEgBAbh22gTgvv4CcF9fvRMgQIAAgSEFBODaaROA+/oLwH199U6AAAECBIYUEIBrp00A7usvAPf11TsBAgQIEBhSQACunTYBuK+/ANzXV+8ECBAgQGBIAQG4dtoE4L7+AnBfX70TIECAAIEhBQTg2mkTgPv6C8B9ffVOgAABAgSGFBCAa6dNAO7rLwD39dU7AQIECBAYUkAArp02AbivvwDc11fvBAgQIEBgSAEBuHbaBOC+/gJwX1+9EyBAgACBIQUE4NppE4D7+gvAfX31ToAAAQIEhhQQgGunTQDu6y8A9/XVOwECBAgQGFJAAK6dNgG4r78A3NdX7wQIECBAYEgBAbh22gTgvv4CcF9fvRMgQIAAgSEFBODaaROA+/oLwH199U6AAAECBIYUEIBrp00A7usvAPf11TsBAgQIEBhSQACunTYBuK+/ANzXV+8ECBAgQGBIAQG4dtoE4L7+AnBfX70TIECAAIEhBQTg2mkTgPv6C8B9ffVOgAABAgSGFBCAa6dNAO7rLwD39dU7AQIECBAYUkAArp02AbivvwDc11fvBAgQIEBgSAEBuHbaBOC+/gJwX1+9EyBAgACBIQUE4NppE4D7+gvAfX31ToAAAQIEhhQQgGunTQDu6y8A9/XVOwECBAgQGFJAAK6dNgG4r78A3NdX7wQIECBAYEgBAbh22gTgvv4CcF9fvRMgQIAAgSEFBODaaROA+/oLwH199U6AAAECBIYUEIBrp00A7usvAPf11TsBAgQIEBhSQACunTYBuK+/ANzXV+8ECBAgQGBIAQG4dtoE4L7+AnBfX70TIECAAIEhBQTg2mkTgPv6C8B9ffVOgAABAgSGFBCAa6dNAO7rLwD39dU7AQIECBAYUkAArp02AbivvwDc11fvBAgQIEBgSAEBuHbaBOC+/gJwX1+9EyBAgACBIQUE4NppE4D7+gvAfX31ToAAAQIEhhQQgGunTQDu6y8A9/XVOwECBAgQGFJAAK6dNgG4r78A3NdX7wQIECBAYEgBAbh22gTgvv4CcF9fvRMgQIAAgSEFBODaaROA+/oLwH199U6AAAECBIYUEIBrp00A7usvAPf11TsBAgQIEBhSQACunTYBuK+/ANzXV+8ECBAgQGBIAQG4dtoE4L7+AnBfX70TIECAAIEhBQTg2mkTgPv6C8B9ffVOgAABAgSGFBCAa6dNAO7rLwD39dU7AQIECBAYUkAArp02AbivvwDc11fvBAgQIEBgSAEBuHbaBOC+/gJwX1+9EyBAgACBIQUE4NppE4D7+gvAfX31ToAAAQIEhhQQgGunTQDu6y8A9/XVOwECBAgQGFJAAK6dNgG4r78A3NdX7wQIECBAYEgBAbh22gTgvv4CcF9fvRMgQIAAgSEFBODaaROA+/oLwH199U6AAAECBIYUEIBrp00A7usvAPf11TsBAgQIEBhSQACunTYBuK+/ANzXV+8ECBAgQGBIAQG4dtoE4L7+AnBfX70TIECAAIEhBQTg2mkTgPv6C8B9ffVOgAABAgSGFBCAa6dNAO7rLwD39dU7AQIECBAYUkAArp02AbivvwDc11fvBAgQIEBgSAEBuHbaBOC+/gJwX1+9EyBAgACBIQUE4NppE4D7+r8vAMd27Pzz80sbAQIECBAgQOBoBC677LJjF1xwQQ6W/3PZ0Yw6xigCcN95EoD7+uqdAAECBAgQOERAAD58aQjAfd82AnBfX70TIECAAAECAvDGa0AA3phsox0E4I24NCZAgAABAgR2JeAMsDPAu1pLm/YjAG8qpj0BAgQIECCwEwEBWADeyUKa0IkAPAHNLgQIECBAgMD2AgKwALz9KprWgwA8zc1eBAgQIECAwJYCArAAvOUSmry7ADyZzo4ECBAgQIDANgICsAC8zfrZZl8BeBs9+xIgQIAAAQKTBQRgAXjy4tlyRwF4S0C7EyBAgAABAtMEBGABeNrK2X4vAXh7Qz0QIECAAAECEwQEYAF4wrLZyS4C8E4YdUKAAAECBAhsKiAAC8CbrpldtReAdyWpHwIECBAgQGAjAQFYAN5oweywsQC8Q0xdESBAgAABAusLCMAC8PqrZbctBeDdeuqNAAECBAgQWFNAABaA11wqO28mAO+cVIcECBAgQIDAOgICsAC8zjrp0UYA7qGqTwIECBAgQKApIAALwM1F0qmBANwJVrcECBAgQIDAmQUEYAG46j1ynRj49KWXXnrs3HPPrToG4xIgQIAAAQIzFLj88suPXXjhhfnKj0f9xQwJDn3JV4HRVeA20fslXUfQOQECBAgQIEDgzAI3j39+BaT/EhCA+66G60b3r4+6ZdSb+g6l9xWBa8fXL4/KN/xbyBypAPsj5f7PwbjXuOeo7Gvsua/nftVodq2oV0a9e71d5tFKAO47z++7BjjqgqjL+g6l9xUB7nXLgX2NPfca9xyVfY099xr3K82oAnDfqfQG7et7WO/ca9yFAe51AnUj++9NjT33GvcrzagCcN+p9Abt6ysA1/ieaVRrvmZOuNe4+6GPe52AkbcSEIC34mvufE60eEDUE6L+rtlag10JcN+V5Ob9sN/cbBd7cN+F4rQ+2E9z23Yv7tsKznx/AXjmC8DLJ0CAAAECBAjMTUAAntuMe70ECBAgQIAAgZkLCMAzXwBePgECBAgQIEBgbgIC8Nxm3OslQIAAAQIECMxcQACe+QLw8gkQIECAAAECcxMQgKfP+CfFrk+KulXU30f9WNQjov6l0WWaPzjqPlH511n+IOr+US+dfiiz2nOqe3p/WdQtoq4Zdeeo585KbvsXO8X+3MX6/uJ4vF7U30a9OOqhUf4u/XpzMsU9e/6JxXr/uMV/l/IvQT026tfWG1arEJhqv4r3rfHND0T9UtSXU11LYKr76ej9OgeM8KHx3D+vNbJGsxEQgKdN9UfHbq+Oel3Ud0edF5W3Osv/w7lfo8uHxL8/Oiof/yjqvlFfGPVpUW+Ydjiz2Wsb9+UPGH8aWl8XJQBvtmym2uf/4T8x6llROQf5w8cjoz4m6pOj3rbZYcyu9VT3hPrZqN9c/HfqQ+LxnlFfEfV5US+ZneTmL3gb++Vo+ed6XxOVJ0byz7MLwO152Mb99ML58fuGeVl8/9720FrMSUAAnjbbefbq4VEfH/WORRffGI9PWTz35kO6zf8T+quoJ0c9bNHmg+LxtVG/HJVnKW2HC0x1zx4/IOo9Ucej/jxKAN5spU21v3oM866of1sZLv9ow19GPShq//9RbXZUV/7WU90PkrnqYu3/ajzmf69sZxbYhX3+ZjCDV56VzPeBANxeddu4n47uXxDVOhHVPgotrvQCAvC0Kc5f4Wbwvf3K7vl/9Pnc10ftHdLt58fzL4z69Ki89GG55dnjO0Ydn3Y4s9lrqvsqUBoLwJsvmV3Yr46aPwjmb0weuPmhzGqPXbvnb53+b9TJWSlOe7Hb2t86hs0TGzeM+qkoAXi9edjG/XQMIQCv5zz7VgLwtCXw1tgtf6WblzGsbm+Kb378gOeXbfIMb5793X890jfEc0+L+vCof5p2SLPYa6r7Ks7x+EYA3ny57MJ+OeoN4ou8FCXX/TM3P5RZ7bGte/43Ps/8flTUPaIeE5U/iP/erBSnvdht7NP896My+H5P1CVRAvB687CN++nFWv+wePzXqAzT+ZmbvP7dRuAKAgLwtAWRb6y8jvHifbu/Kr7/3ajDfr2Yl03kfnkpxOr2VfHNz0XltcSHXT4x7UivXHtNdV9VOB7fCMCbr4td2Oeo+d+cX4m6aVQG4X/Y/FBmtce27vcKrWcsxDKA3S3q+bMSnP5it7H/5hj2W6JuEpXX/14SJQCvNxfbuP9QDJHX++YlVteNyv/P/dio/K2rz9is5z+bVgLwtKme+gYVgKd5L/ea6r466vH4RgDefB52YZ+j5gdA8/r320bl5UC2Mwts654fOsw1v7zzSQbgO0TlDyG2Pvb5Ac/lh21/cTHEJfEoAK+34rZd86uj5F1o/iTqOVE+Y7Oe/2xaCcDTpjp/RfMjUXmx/urmEohpnuvuNdV9tf8MAwLwuuL/1W4X9nnJw9Oj8m4EeQmRrS2wC/fVUZ4X33xiVN6Bw3Zmgan2T41ubxT1lSvd53WpGYDvsnhc/VCoebiiwFT3wxzz9nP5A2DeAtNG4D8FBOBpiyGvK/rrqDyTstzyGrt3Rq3zIbi85dkfruybn4S/U9TxaYczm72muq8CpbEAvPmS2dY+3yt5mU+eAc7rUG3rCWzrvn+UvFd51v7LsNY7mnm1mmp/STDd5gxUXxr/lnfisB0sMNX9ME8B2Eo7UEAAnrYw8sxv/hr3gqi/WXSR19rlT/55a7TWbdDyD2jk/wnl9oFReRu0/JWkX9GceT6muq/2ejy+EYA3X/fb2J9Y/B/+s+Pxos2HnvUe27gfBJfBK/8bdeNZq6734qfa5wmOvCvQ6pb3ws4POGefeSeO5e0z1zuSebWa6n6QUv4RmLwPc3443a3R5rWOmq9WAG4SHdhgeaPuDK6rfwgjrzNafZPlNY55/8frr/SSd444FbX8ZGqG3vwrWf4QRnsutnH/zOj+eFT+9b28X3Oedc8/zJB/iOG32kPPvsVU+/xVcN5x4I1R947KezEvt7R//exlzwww1f120W3+wZf81XvaXyPqq6PyN013jfpp7k2BqfYHdXxJPOka4Cb5+xpMdc91nfdZzlvP5Umo/BBchulc+zeLyhMfNgL/KSAAT18M+X/s+/8Ucn7IbfVPIed/9I4vajlSmmcI3v+nkN2WaL25mOq+F93f/YAhMvyeWG/o2beaYn8y1PLM70Hbj8aT+e+2MwtMcc8/JZt3qbl5VF7/+PaoPPOYz/mBb/0VN8X+oN4viScF4L7ut4zuHxeV17fnGfj87eyLoh4VlR9KtBG4goAAbEEQIECAAAECBAjMSkAAntV0e7EECBAgQIAAAQICsDVAgAABAgQIECAwKwEBeFbT7cUSIECAAAECBAgIwNYAAQIECBAgQIDArAQE4FlNtxdLgAABAgQIECAgAFsDBAgQIECAAAECsxIQgGc13V4sAQIECBAgQICAAGwNECBAgAABAgQIzEpAAJ7VdHuxBM4agVNxJN9xwNG8Op7Lv+S06y3H+7Wo3911xxP724v98s9z93itEw+pudvZZtg8YA0IECBwmIAAbG0QIFAhkGHq26M+f9/g/xjf55/s3fX23ujwQVHfv+uOJ/Z3vdjvwzu91omH1NztbDNsHrAGBAgQEICtAQIEziaBDMDfFvURR3RQuw5vHxrH/U9HdOzVwyxf664Nq1+X8QkQmLGAM8AznnwvnUChwLoB+GQc4wOibhD111F7UY+K+vfFsZ8bj98VdSIqv74s6ueiHh317kWbDG77t8+LJ05H/XnUnaOeu9LgifH17aOOL57LY3h21K2ivnPxmN/fLyr/G/rAqG+Muk7Um6KeFPUDB4y5+tRefLN6CcRyjJvH898ddeuoN0bdN+pFi3G/YdHBs+Lx4VHvWXx/Kh7zh4l8TU+O+pSofF15xvsF+47j3vF9eh6PujzqmYvxln0tj2P/a83j2L/leJdE5eu/S1TOUZpfuhjjtSs77MXX+XrTLG2ybV7uclHU76+0+4D4+luj8rVeN+qdUS+JulfU3y7a3SgeL446EXW1xTF8Szy+fqUfXxIgQOCMAgKwBUKAQIXAqRg0Q9vV9w2ewXYZWDOofW9UBqa8fjeDT4bdDHkPWex303i8e9RvR2VYymCVfWf7eyza3DIefy8qg+lPLp7743i8RtQmAfh0tH961Euj8lKNl0X9UFSGszyu/D6D4yOiMpA9dTHWQQ978eRBAfg1i/3+NB7zNd4s6kejzlkc+y3iMcP93VZey6n4+qFRGb4fv3hNGSxvG/UZUa9cHMA3L443HTIYL481A3/ORW4nozLcn45afa35/xUHGf5dPJ/z8wdRf7E4zm+Kxwujci7eseh3Lx6/POrNURleM8w+LirnPy8H+ddFu5zbDOnZ569HfWTU7aIeGZWvL0NxBuZXRT0hKoN7/jDwMVE3jFr+0LPozgMBAgQOFhCArQwCBCoETsWgB30I7mvj+Z9YBJ8MSxnWHrZygBmuMvhcEJVnhPdveUbwf0RlaPyoqAyquR306/vj8fwmATgD6fesDJjB7XVReUwZFpdbBrwM5edFLc+s7j/OvXjioAB8n3j+hxeN8wNyGV4zcH/WSgeviK/z7PAdFs+dise0vGdUnh3O7aqLY8tQftfF92+Jx99YfL/sLs825xncj4tKz5NRGYD3v9Zsv84lEDnuB0W9ddHv0mUvvv+6qPyBJc/85nYi6jejPicqf4DJwPwnURloMxwftOW85tnxm0T986LBteLxDVEPjnrKIft5mgABAlcQEIAtCAIEKgROxaD5IbjP3Td4Bpk8a/glUb8atXoGM5sej8rQeSLqt6Lyv2H/KyovQfiEqA9Z6S/DVp4pzG0XAXi1v+wzz1RmWM0Atvz1fD6fx5ZnL/NY86zoQdtePHlQAP7EeP7PFjtkkMwzmnl2Oc8qL7c8i51hMffP7VRUBuA8o51nwZdb/qCQl3LkWdMMjGlxp6ifX2nzqfF1nr39sqhfiToZlQF4/2vNXQ4LwHmG/TFROVd5DMstz0YvzyzvxddfGHX+yr/nWdu/isqA/tNR+YNEen5sVAbog7a8bCPb5uUdq1teJpKXQCzP+h+yu6cJECDwHwICsJVAgECFwKkY9Ewfgstf8eeZ4MO25Zni+0eDvLNDXiqRZxMzAOZ1tPmr9HzMs6W57SIAZ2B728oB5ZnKx57hGJdnNg9qshdPHhSAM0y/fWWHg457/75pmWfJMzCvbnlGNP8tP8SWZ03zWtp8/J2VRteOrzNUfk3Uc6JORmUA3v9ac5eDjuXj4/kM1umcZ1/zrP2/RP1SVF6Lndf85rYXtf+2b3n5Q85Xhtb89/Q8FfWBi30OeshLJfIs/0HbC+PJDNk2AgQINAUE4CaRBgQIdBDIoHOmAPyl8e+/HHXHqPx1//4tL13IX9nnfX3zLOLycoBsl5cf7EW1AvAy/K1eT5v756/ZbxN1fDHoyXjMULg/nOZ1thm0M1Rm6Nu/5XW8f3/A8/lUHt8uA3DrDPCNY7y89CA9n7dyTIedAd7/WnOXgwJwnnnPa53zzO/fLPrNgJp3yHha1CYBeJ0zwDnXGa4PutQhrdPcRoAAgaaAANwk0oAAgQ4Cp6LPMwXgPDuYH3rKa1HzOuDDtv8X/5B3G/ifKw3yA3BfFLUagDOg5h0cVs/Y5h0H8jrSvK43P2SVW55FXd694PjiuZPxeFAAXl6z+pXx77+4odFetN91AG5dA5xnevMa4K9eOda8vCLnYf81wAcF4IMM8/KTvNQiP6T3D4t+s/88m5w/HGwSgJee+YG+1WutV2mz37xMJK+JXt4JZEN6zQkQIOASCGuAAIEagVOL4HWm+wDnh7MysOadFi5ZBJ68njUDZ17Lmh9wy0sfMoRl2wyu+av8PCOb1wOvBuA/jO8zwGXYy6C2PDub15Pm9cZ566289CADW54tzbOdxxc0J+PxoACc/5zhPC/H+L6o/MBZ/vo+g1zeIiyvvz1s24t/2GUAXt4FIi8HybPj+WG6vAtE3kVi+YdFlneB+MF4Ls+u57W7eUu5g+4CcVAAPsgwjfIa4v8dlWd881rjnIsMeUSsBAAAAiBJREFUxBlWNwnAaZVndvMWaBmq85KGD4vKu0CcisofiK4f9fKovBNEfsAuzwjnmfw8Y5+XePxUdmIjQIBAS8AZ4JaQfydAoIdABpp1/hBG3l82b4eWd0TI6z/zg055C688m/tvURmgM4RmKM4t7+f7/Kg8I7sagDMUZ/DLW6nlNbHLe9hm0MsglX+RLn+FnkE2w/NB9wE+KBTmf0PzHrn5gbgMvu+KynCd17+e6V7Ae/HvuwzAafkFUXnWNT/AliE4P2SYFqtbXmaweh/gZ8T3eSeI/fcBPui1HmaYPwCcisqzyBmG8xZw+fpznjYNwHlWPgN0huDjUXmZS37YMS+1yFuu5ZZngPMHo3y9Of95ZvvFUfnD0PIOE6uv2dcECBB4PwEB2KIgQIDA2AKn4vDX+WFi7Ffp6AkQILBDAQF4h5i6IkCAQIGAAFyAbkgCBMYWEIDHnj9HT4AAAQHYGiBAgMCGAgLwhmCaEyBAgAABAgQIjC0gAI89f46eAAECBAgQIEBgQwEBeEMwzQkQIECAAAECBMYWEIDHnj9HT4AAAQIECBAgsKGAALwhmOYECBAgQIAAAQJjCwjAY8+foydAgAABAgQIENhQQADeEExzAgQIECBAgACBsQUE4LHnz9ETIECAAAECBAhsKCAAbwimOQECBAgQIECAwNgCAvDY8+foCRAgQIAAAQIENhQQgDcE05wAAQIECBAgQGBsgf8PUs4bLq3xGkoAAAAASUVORK5CYII=\" width=\"639.9999861283738\">"
      ],
      "text/plain": [
       "<IPython.core.display.HTML object>"
      ]
     },
     "metadata": {},
     "output_type": "execute_result"
    },
    {
     "data": {
      "text/plain": [
       "Text(0,0.5,'Feature')"
      ]
     },
     "execution_count": 152,
     "metadata": {},
     "output_type": "execute_result"
    }
   ],
   "source": [
    "plt.barh(range(2), pipeline.named_steps[\"decisiontreeregressor\"].feature_importances_)\n",
    "plt.yticks(np.arange(2),  [\"First component\", \"Second component\"])\n",
    "plt.xlabel(\"Feature importance\")\n",
    "plt.ylabel(\"Feature\")"
   ]
  },
  {
   "cell_type": "code",
   "execution_count": null,
   "metadata": {
    "collapsed": true
   },
   "outputs": [],
   "source": [
    ""
   ]
  }
 ],
 "metadata": {
  "anaconda-cloud": {},
  "kernelspec": {
   "display_name": "Python 3",
   "language": "python",
   "name": "python3"
  },
  "language_info": {
   "codemirror_mode": {
    "name": "ipython",
    "version": 3.0
   },
   "file_extension": ".py",
   "mimetype": "text/x-python",
   "name": "python",
   "nbconvert_exporter": "python",
   "pygments_lexer": "ipython3",
   "version": "3.6.3"
  }
 },
 "nbformat": 4,
 "nbformat_minor": 0
}